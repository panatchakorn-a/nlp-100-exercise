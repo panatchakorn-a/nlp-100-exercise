{
 "cells": [
  {
   "cell_type": "markdown",
   "id": "cf343a81-e79d-40fb-9d5a-9e5d5649d812",
   "metadata": {},
   "source": [
    "## 第1章: 準備運動"
   ]
  },
  {
   "cell_type": "markdown",
   "id": "fcea99d8-a5a6-4637-a751-d5352a00f7a7",
   "metadata": {
    "tags": []
   },
   "source": [
    "### 00. 文字列の逆順\n",
    "\n",
    "文字列”stressed”の文字を逆に（末尾から先頭に向かって）並べた文字列を得よ．"
   ]
  },
  {
   "cell_type": "code",
   "execution_count": 1,
   "id": "186d8265-9179-48e6-9b69-b219f922a14c",
   "metadata": {},
   "outputs": [
    {
     "data": {
      "text/plain": [
       "'desserts'"
      ]
     },
     "execution_count": 1,
     "metadata": {},
     "output_type": "execute_result"
    }
   ],
   "source": [
    "word = \"stressed\"\n",
    "word[::-1]"
   ]
  },
  {
   "cell_type": "markdown",
   "id": "a2bd9802-47b2-4a3e-ab87-f344405653ae",
   "metadata": {},
   "source": [
    "### 01. 「パタトクカシーー」\n",
    "\n",
    "「パタトクカシーー」という文字列の1,3,5,7文字目を取り出して連結した文字列を得よ．"
   ]
  },
  {
   "cell_type": "code",
   "execution_count": 2,
   "id": "1c7e8934-a2d6-48c1-99ca-686eccefc7e7",
   "metadata": {},
   "outputs": [
    {
     "data": {
      "text/plain": [
       "'タクシー'"
      ]
     },
     "execution_count": 2,
     "metadata": {},
     "output_type": "execute_result"
    }
   ],
   "source": [
    "word = \"パタトクカシーー\"\n",
    "word[1:9:2]"
   ]
  },
  {
   "cell_type": "markdown",
   "id": "f0dbfb24-7548-4f35-8c60-63d7f0f1a401",
   "metadata": {},
   "source": [
    "### 02. 「パトカー」＋「タクシー」＝「パタトクカシーー」Permalink\n",
    "\n",
    "「パトカー」＋「タクシー」の文字を先頭から交互に連結して文字列「パタトクカシーー」を得よ．"
   ]
  },
  {
   "cell_type": "code",
   "execution_count": 3,
   "id": "88fa8b46-419e-4f47-bfaa-c75285dc5833",
   "metadata": {},
   "outputs": [
    {
     "data": {
      "text/plain": [
       "'パタトクカシーー'"
      ]
     },
     "execution_count": 3,
     "metadata": {},
     "output_type": "execute_result"
    }
   ],
   "source": [
    "w1 = \"パトカー\"\n",
    "w2 = \"タクシー\"\n",
    "word = \"\"\n",
    "n = len(w1)\n",
    "for i in range(n):\n",
    "    word = word + w1[i] + w2[i]\n",
    "word"
   ]
  },
  {
   "cell_type": "markdown",
   "id": "0c8d6e2e-839a-4fe1-87bb-7d4bcc05da82",
   "metadata": {},
   "source": [
    "### 03. 円周率\n",
    "\n",
    "“Now I need a drink, alcoholic of course, after the heavy lectures involving quantum mechanics.”という文を単語に分解し，各単語の（アルファベットの）文字数を先頭から出現順に並べたリストを作成せよ．"
   ]
  },
  {
   "cell_type": "code",
   "execution_count": 4,
   "id": "71bae7b9-d056-4d2a-b418-bbc9a7a471e6",
   "metadata": {},
   "outputs": [
    {
     "data": {
      "text/plain": [
       "[3, 1, 4, 1, 5, 9, 2, 6, 5, 3, 5, 8, 9, 7, 9]"
      ]
     },
     "execution_count": 4,
     "metadata": {},
     "output_type": "execute_result"
    }
   ],
   "source": [
    "import re\n",
    "\n",
    "text = \"Now I need a drink, alcoholic of course, after the heavy lectures involving quantum mechanics.\"\n",
    "new_text = re.sub(r'[^\\w\\s]', '', text)\n",
    "words = new_text.split()\n",
    "words_len = [len(w) for w in words]\n",
    "words_len"
   ]
  },
  {
   "cell_type": "markdown",
   "id": "57baaa1e-3096-4845-bfb8-c008471b4f2f",
   "metadata": {},
   "source": [
    "### 04. 元素記号\n",
    "\n",
    "“Hi He Lied Because Boron Could Not Oxidize Fluorine. New Nations Might Also Sign Peace Security Clause. Arthur King Can.”という文を単語に分解し，1, 5, 6, 7, 8, 9, 15, 16, 19番目の単語は先頭の1文字，それ以外の単語は先頭の2文字を取り出し，取り出した文字列から単語の位置（先頭から何番目の単語か）への連想配列（辞書型もしくはマップ型）を作成せよ．"
   ]
  },
  {
   "cell_type": "code",
   "execution_count": 5,
   "id": "fcdc37c8-8fa8-4890-a0a9-b067c5d7cdcb",
   "metadata": {},
   "outputs": [
    {
     "data": {
      "text/plain": [
       "{'H': 1,\n",
       " 'He': 2,\n",
       " 'Li': 3,\n",
       " 'Be': 4,\n",
       " 'B': 5,\n",
       " 'C': 6,\n",
       " 'N': 7,\n",
       " 'O': 8,\n",
       " 'F': 9,\n",
       " 'Ne': 10,\n",
       " 'Na': 11,\n",
       " 'Mi': 12,\n",
       " 'Al': 13,\n",
       " 'Si': 14,\n",
       " 'P': 15,\n",
       " 'S': 16,\n",
       " 'Cl': 17,\n",
       " 'Ar': 18,\n",
       " 'K': 19,\n",
       " 'Ca': 20}"
      ]
     },
     "execution_count": 5,
     "metadata": {},
     "output_type": "execute_result"
    }
   ],
   "source": [
    "one_letter = [1, 5, 6, 7, 8, 9, 15, 16, 19]\n",
    "text = \"Hi He Lied Because Boron Could Not Oxidize Fluorine. New Nations Might Also Sign Peace Security Clause. Arthur King Can.\"\n",
    "words = text.split()\n",
    "element = dict()\n",
    "\n",
    "for i, word in enumerate(words):\n",
    "    if (i+1) in one_letter:\n",
    "        element[word[:1]] = i+1\n",
    "    else:\n",
    "        element[word[:2]] = i+1\n",
    "        \n",
    "element\n",
    "    "
   ]
  },
  {
   "cell_type": "markdown",
   "id": "0f6877b2-c98f-45da-a514-75ab08017651",
   "metadata": {},
   "source": [
    "### 05. n-gram\n",
    "\n",
    "与えられたシーケンス（文字列やリストなど）からn-gramを作る関数を作成せよ．この関数を用い，”I am an NLPer”という文から単語bi-gram，文字bi-gramを得よ．"
   ]
  },
  {
   "cell_type": "code",
   "execution_count": 6,
   "id": "2ba68f70-dff5-4fa5-9443-b2d8e5cf0498",
   "metadata": {},
   "outputs": [
    {
     "name": "stdout",
     "output_type": "stream",
     "text": [
      "['I ', ' a', 'am', 'm ', ' a', 'an', 'n ', ' N', 'NL', 'LP', 'Pe', 'er']\n",
      "[['I', 'am'], ['am', 'an'], ['an', 'NLPer']]\n"
     ]
    }
   ],
   "source": [
    "def ngram(seq, n):\n",
    "    ngram_list = []\n",
    "    l = len(seq)\n",
    "    for i in range(l-(n-1)):\n",
    "        ngram_list.append(seq[i:i+n])\n",
    "    return ngram_list\n",
    "\n",
    "text = \"I am an NLPer\"\n",
    "words = text.split()\n",
    "\n",
    "text_bigram = ngram(text, 2)\n",
    "print(text_bigram)\n",
    "\n",
    "words_bigram = ngram(words, 2)\n",
    "print(words_bigram)"
   ]
  },
  {
   "cell_type": "markdown",
   "id": "98b209f5-c905-4f7c-ae85-c1b999252dd2",
   "metadata": {},
   "source": [
    "###　06. 集合\n",
    "\n",
    "“paraparaparadise”と”paragraph”に含まれる文字bi-gramの集合を，それぞれ, XとYとして求め，XとYの和集合，積集合，差集合を求めよ．さらに，’se’というbi-gramがXおよびYに含まれるかどうかを調べよ．"
   ]
  },
  {
   "cell_type": "code",
   "execution_count": 7,
   "id": "f8583070-cfba-4bc1-8972-82f387a47773",
   "metadata": {},
   "outputs": [
    {
     "name": "stdout",
     "output_type": "stream",
     "text": [
      "X: {'se', 'di', 'ra', 'pa', 'ar', 'ap', 'ad', 'is'}\n",
      "Y: {'gr', 'ra', 'pa', 'ar', 'ap', 'ag', 'ph'}\n",
      "\n",
      "{'se', 'di', 'gr', 'ra', 'pa', 'ar', 'ap', 'ad', 'ag', 'ph', 'is'}\n",
      "{'ra', 'ar', 'ap', 'pa'}\n",
      "{'se', 'is', 'di', 'ad'}\n",
      "True\n",
      "False\n"
     ]
    }
   ],
   "source": [
    "X = set(ngram(\"paraparaparadise\", 2))\n",
    "Y = set(ngram(\"paragraph\", 2))\n",
    "\n",
    "print(f'X: {X}')\n",
    "print(f'Y: {Y}\\n')\n",
    "\n",
    "print(X | Y) # union\n",
    "print(X & Y) # intersection\n",
    "print(X - Y) # difference\n",
    "print('se' in X)\n",
    "print('se' in Y)"
   ]
  },
  {
   "cell_type": "markdown",
   "id": "ade5ff0b-99dd-416b-a1a8-a1a9be4e18e6",
   "metadata": {},
   "source": [
    "### 07. テンプレートによる文生成\n",
    "\n",
    "引数x, y, zを受け取り「x時のyはz」という文字列を返す関数を実装せよ．さらに，x=12, y=”気温”, z=22.4として，実行結果を確認せよ．"
   ]
  },
  {
   "cell_type": "code",
   "execution_count": 8,
   "id": "fdbe2794-0501-4328-b0fa-090c8642c1aa",
   "metadata": {},
   "outputs": [
    {
     "name": "stdout",
     "output_type": "stream",
     "text": [
      "12時の気温は22.4\n"
     ]
    }
   ],
   "source": [
    "def textgen(x, y, z):\n",
    "    return str(x) + \"時の\" + str(y) + \"は\" + str(z)\n",
    "\n",
    "print(textgen(12, \"気温\", 22.4))"
   ]
  },
  {
   "cell_type": "markdown",
   "id": "efefdcaa-b0c8-4bad-82df-39a736c5a13e",
   "metadata": {},
   "source": [
    "### 08. 暗号文\n",
    "\n",
    "与えられた文字列の各文字を，以下の仕様で変換する関数cipherを実装せよ．\n",
    "\n",
    "- 英小文字ならば(219 - 文字コード)の文字に置換\n",
    "- その他の文字はそのまま出力\n",
    "\n",
    "この関数を用い，英語のメッセージを暗号化・復号化せよ．"
   ]
  },
  {
   "cell_type": "code",
   "execution_count": 9,
   "id": "ab696856-b384-4e64-9ecc-14e0d8d5134b",
   "metadata": {},
   "outputs": [
    {
     "name": "stdout",
     "output_type": "stream",
     "text": [
      "Tsrh rh z kvm.\n",
      "This is a pen.\n"
     ]
    }
   ],
   "source": [
    "def cipher(text):\n",
    "    out_text = \"\"\n",
    "    for char in text:\n",
    "        # if ord('a')<=ord(char) and ord(char)<=ord('z'):\n",
    "        if char.islower():\n",
    "            out_text += chr(219 - ord(char))\n",
    "        else:\n",
    "            out_text += char\n",
    "    return out_text\n",
    "\n",
    "print(cipher(\"This is a pen.\"))\n",
    "print(cipher(cipher(\"This is a pen.\")))"
   ]
  },
  {
   "cell_type": "markdown",
   "id": "ba16ba9d-e9d3-4c05-8b85-436533bc4944",
   "metadata": {},
   "source": [
    "### 09. Typoglycemia\n",
    "\n",
    "スペースで区切られた単語列に対して，各単語の先頭と末尾の文字は残し，それ以外の文字の順序をランダムに並び替えるプログラムを作成せよ．ただし，長さが４以下の単語は並び替えないこととする．適当な英語の文（例えば”I couldn’t believe that I could actually understand what I was reading : the phenomenal power of the human mind .”）を与え，その実行結果を確認せよ．"
   ]
  },
  {
   "cell_type": "code",
   "execution_count": 10,
   "id": "a25867b5-1a7a-435e-8c18-a3245273c30e",
   "metadata": {},
   "outputs": [
    {
     "name": "stdout",
     "output_type": "stream",
     "text": [
      "I cnud’olt bleieve that I culod allucaty uesndantrd what I was raiendg : the peonmhaenl power of the hamun mind .\n",
      "If life were pardibtlece it wluod cesae to be lief, and be wouhtit fvaolr .\n",
      "Tyoko Itstuinte of Tocoelnhgy\n"
     ]
    }
   ],
   "source": [
    "import random\n",
    "\n",
    "def rearrange(text):\n",
    "    words = text.split()\n",
    "    out_words = []\n",
    "    for word in words:\n",
    "        out_word = \"\"\n",
    "        l = len(word)\n",
    "        if l > 4:\n",
    "            out_word += word[0] # first letter\n",
    "            rindex = random.sample(range(1, l-1), l-2) # randomize order of indices\n",
    "            for i in rindex:\n",
    "                out_word += word[i]\n",
    "            out_word += word[l-1] # lats letter\n",
    "        else:\n",
    "            out_word += word\n",
    "        out_words.append(out_word)\n",
    "    return ' '.join(out_words)\n",
    "\n",
    "text = \"I couldn’t believe that I could actually understand what I was reading : the phenomenal power of the human mind .\"\n",
    "text2 = \"If life were predictable it would cease to be life, and be without flavor .\"\n",
    "text3 = \"Tokyo Institute of Technology\"\n",
    "print(rearrange(text))\n",
    "print(rearrange(text2))\n",
    "print(rearrange(text3))"
   ]
  },
  {
   "cell_type": "code",
   "execution_count": null,
   "id": "d798ae2f-df58-4146-9c1f-769105f08a92",
   "metadata": {},
   "outputs": [],
   "source": []
  }
 ],
 "metadata": {
  "kernelspec": {
   "display_name": "Python 3 (ipykernel)",
   "language": "python",
   "name": "python3"
  },
  "language_info": {
   "codemirror_mode": {
    "name": "ipython",
    "version": 3
   },
   "file_extension": ".py",
   "mimetype": "text/x-python",
   "name": "python",
   "nbconvert_exporter": "python",
   "pygments_lexer": "ipython3",
   "version": "3.9.7"
  }
 },
 "nbformat": 4,
 "nbformat_minor": 5
}
