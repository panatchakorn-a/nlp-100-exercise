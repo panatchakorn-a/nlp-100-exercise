{
 "cells": [
  {
   "cell_type": "markdown",
   "id": "f67f98f2-7376-46bb-89f3-42d2ef505e82",
   "metadata": {},
   "source": [
    "# 第7章: 単語ベクトル\n",
    "単語の意味を実ベクトルで表現する単語ベクトル（単語埋め込み）に関して，以下の処理を行うプログラムを作成せよ．"
   ]
  },
  {
   "cell_type": "markdown",
   "id": "1f06a332-38a0-4957-bdf5-2b9a5ef9536c",
   "metadata": {},
   "source": [
    "### 60. 単語ベクトルの読み込みと表示\n",
    "Google Newsデータセット（約1,000億単語）での学習済み単語ベクトル（300万単語・フレーズ，300次元）をダウンロードし，”United States”の単語ベクトルを表示せよ．ただし，”United States”は内部的には”United_States”と表現されていることに注意せよ．\n",
    "\n"
   ]
  },
  {
   "cell_type": "code",
   "execution_count": 2,
   "id": "77e40e26-276a-478d-aa13-dd9073479d11",
   "metadata": {},
   "outputs": [],
   "source": [
    "from gensim.models import KeyedVectors\n",
    "\n",
    "word_vectors = KeyedVectors.load_word2vec_format(\"GoogleNews-vectors-negative300.bin\", binary=True)"
   ]
  },
  {
   "cell_type": "code",
   "execution_count": 3,
   "id": "eb89c9fc-2c49-46f6-9e95-782ac2e25ce0",
   "metadata": {},
   "outputs": [
    {
     "data": {
      "text/plain": [
       "array([-3.61328125e-02, -4.83398438e-02,  2.35351562e-01,  1.74804688e-01,\n",
       "       -1.46484375e-01, -7.42187500e-02, -1.01562500e-01, -7.71484375e-02,\n",
       "        1.09375000e-01, -5.71289062e-02, -1.48437500e-01, -6.00585938e-02,\n",
       "        1.74804688e-01, -7.71484375e-02,  2.58789062e-02, -7.66601562e-02,\n",
       "       -3.80859375e-02,  1.35742188e-01,  3.75976562e-02, -4.19921875e-02,\n",
       "       -3.56445312e-02,  5.34667969e-02,  3.68118286e-04, -1.66992188e-01,\n",
       "       -1.17187500e-01,  1.41601562e-01, -1.69921875e-01, -6.49414062e-02,\n",
       "       -1.66992188e-01,  1.00585938e-01,  1.15722656e-01, -2.18750000e-01,\n",
       "       -9.86328125e-02, -2.56347656e-02,  1.23046875e-01, -3.54003906e-02,\n",
       "       -1.58203125e-01, -1.60156250e-01,  2.94189453e-02,  8.15429688e-02,\n",
       "        6.88476562e-02,  1.87500000e-01,  6.49414062e-02,  1.15234375e-01,\n",
       "       -2.27050781e-02,  3.32031250e-01, -3.27148438e-02,  1.77734375e-01,\n",
       "       -2.08007812e-01,  4.54101562e-02, -1.23901367e-02,  1.19628906e-01,\n",
       "        7.44628906e-03, -9.03320312e-03,  1.14257812e-01,  1.69921875e-01,\n",
       "       -2.38281250e-01, -2.79541016e-02, -1.21093750e-01,  2.47802734e-02,\n",
       "        7.71484375e-02, -2.81982422e-02, -4.71191406e-02,  1.78222656e-02,\n",
       "       -1.23046875e-01, -5.32226562e-02,  2.68554688e-02, -3.11279297e-02,\n",
       "       -5.59082031e-02, -5.00488281e-02, -3.73535156e-02,  1.25976562e-01,\n",
       "        5.61523438e-02,  1.51367188e-01,  4.29687500e-02, -2.08007812e-01,\n",
       "       -4.78515625e-02,  2.78320312e-02,  1.81640625e-01,  2.20703125e-01,\n",
       "       -3.61328125e-02, -8.39843750e-02, -3.69548798e-05, -9.52148438e-02,\n",
       "       -1.25000000e-01, -1.95312500e-01, -1.50390625e-01, -4.15039062e-02,\n",
       "        1.31835938e-01,  1.17675781e-01,  1.91650391e-02,  5.51757812e-02,\n",
       "       -9.42382812e-02, -1.08886719e-01,  7.32421875e-02, -1.15234375e-01,\n",
       "        8.93554688e-02, -1.40625000e-01,  1.45507812e-01,  4.49218750e-02,\n",
       "       -1.10473633e-02, -1.62353516e-02,  4.05883789e-03,  3.75976562e-02,\n",
       "       -6.98242188e-02, -5.46875000e-02,  2.17285156e-02, -9.47265625e-02,\n",
       "        4.24804688e-02,  1.81884766e-02, -1.73339844e-02,  4.63867188e-02,\n",
       "       -1.42578125e-01,  1.99218750e-01,  1.10839844e-01,  2.58789062e-02,\n",
       "       -7.08007812e-02, -5.54199219e-02,  3.45703125e-01,  1.61132812e-01,\n",
       "       -2.44140625e-01, -2.59765625e-01, -9.71679688e-02,  8.00781250e-02,\n",
       "       -8.78906250e-02, -7.22656250e-02,  1.42578125e-01, -8.54492188e-02,\n",
       "       -3.18359375e-01,  8.30078125e-02,  6.34765625e-02,  1.64062500e-01,\n",
       "       -1.92382812e-01, -1.17675781e-01, -5.41992188e-02, -1.56250000e-01,\n",
       "       -1.21582031e-01, -4.95605469e-02,  1.20117188e-01, -3.83300781e-02,\n",
       "        5.51757812e-02, -8.97216797e-03,  4.32128906e-02,  6.93359375e-02,\n",
       "        8.93554688e-02,  2.53906250e-01,  1.65039062e-01,  1.64062500e-01,\n",
       "       -1.41601562e-01,  4.58984375e-02,  1.97265625e-01, -8.98437500e-02,\n",
       "        3.90625000e-02, -1.51367188e-01, -8.60595703e-03, -1.17675781e-01,\n",
       "       -1.97265625e-01, -1.12792969e-01,  1.29882812e-01,  1.96289062e-01,\n",
       "        1.56402588e-03,  3.93066406e-02,  2.17773438e-01, -1.43554688e-01,\n",
       "        6.03027344e-02, -1.35742188e-01,  1.16210938e-01, -1.59912109e-02,\n",
       "        2.79296875e-01,  1.46484375e-01, -1.19628906e-01,  1.76757812e-01,\n",
       "        1.28906250e-01, -1.49414062e-01,  6.93359375e-02, -1.72851562e-01,\n",
       "        9.22851562e-02,  1.33056641e-02, -2.00195312e-01, -9.76562500e-02,\n",
       "       -1.65039062e-01, -2.46093750e-01, -2.35595703e-02, -2.11914062e-01,\n",
       "        1.84570312e-01, -1.85546875e-02,  2.16796875e-01,  5.05371094e-02,\n",
       "        2.02636719e-02,  4.25781250e-01,  1.28906250e-01, -2.77099609e-02,\n",
       "        1.29882812e-01, -1.15722656e-01, -2.05078125e-02,  1.49414062e-01,\n",
       "        7.81250000e-03, -2.05078125e-01, -8.05664062e-02, -2.67578125e-01,\n",
       "       -2.29492188e-02, -8.20312500e-02,  8.64257812e-02,  7.61718750e-02,\n",
       "       -3.66210938e-02,  5.22460938e-02, -1.22070312e-01, -1.44042969e-02,\n",
       "       -2.69531250e-01,  8.44726562e-02, -2.52685547e-02, -2.96630859e-02,\n",
       "       -1.68945312e-01,  1.93359375e-01, -1.08398438e-01,  1.94091797e-02,\n",
       "       -1.80664062e-01,  1.93359375e-01, -7.08007812e-02,  5.85937500e-02,\n",
       "       -1.01562500e-01, -1.31835938e-01,  7.51953125e-02, -7.66601562e-02,\n",
       "        3.37219238e-03, -8.59375000e-02,  1.25000000e-01,  2.92968750e-02,\n",
       "        1.70898438e-01, -9.37500000e-02, -1.09375000e-01, -2.50244141e-02,\n",
       "        2.11914062e-01, -4.44335938e-02,  6.12792969e-02,  2.62451172e-02,\n",
       "       -1.77734375e-01,  1.23046875e-01, -7.42187500e-02, -1.67968750e-01,\n",
       "       -1.08886719e-01, -9.04083252e-04, -7.37304688e-02,  5.49316406e-02,\n",
       "        6.03027344e-02,  8.39843750e-02,  9.17968750e-02, -1.32812500e-01,\n",
       "        1.22070312e-01, -8.78906250e-03,  1.19140625e-01, -1.94335938e-01,\n",
       "       -6.64062500e-02, -2.07031250e-01,  7.37304688e-02,  8.93554688e-02,\n",
       "        1.81884766e-02, -1.20605469e-01, -2.61230469e-02,  2.67333984e-02,\n",
       "        7.76367188e-02, -8.30078125e-02,  6.78710938e-02, -3.54003906e-02,\n",
       "        3.10546875e-01, -2.42919922e-02, -1.41601562e-01, -2.08007812e-01,\n",
       "       -4.57763672e-03, -6.54296875e-02, -4.95605469e-02,  2.22656250e-01,\n",
       "        1.53320312e-01, -1.38671875e-01, -5.24902344e-02,  4.24804688e-02,\n",
       "       -2.38281250e-01,  1.56250000e-01,  5.83648682e-04, -1.20605469e-01,\n",
       "       -9.22851562e-02, -4.44335938e-02,  3.61328125e-02, -1.86767578e-02,\n",
       "       -8.25195312e-02, -8.25195312e-02, -4.05273438e-02,  1.19018555e-02,\n",
       "        1.69921875e-01, -2.80761719e-02,  3.03649902e-03,  9.32617188e-02,\n",
       "       -8.49609375e-02,  1.57470703e-02,  7.03125000e-02,  1.62353516e-02,\n",
       "       -2.27050781e-02,  3.51562500e-02,  2.47070312e-01, -2.67333984e-02],\n",
       "      dtype=float32)"
      ]
     },
     "execution_count": 3,
     "metadata": {},
     "output_type": "execute_result"
    }
   ],
   "source": [
    "word_vectors[\"United_States\"]"
   ]
  },
  {
   "cell_type": "markdown",
   "id": "0e4cf7ee-bf92-44e3-9160-68d4cf71b390",
   "metadata": {},
   "source": [
    "### 61. 単語の類似度\n",
    "“United States”と”U.S.”のコサイン類似度を計算せよ．\n",
    "\n"
   ]
  },
  {
   "cell_type": "code",
   "execution_count": 4,
   "id": "a3bdd247-6a36-47dc-92b8-6fb96cc42b2d",
   "metadata": {},
   "outputs": [
    {
     "data": {
      "text/plain": [
       "0.73107743"
      ]
     },
     "execution_count": 4,
     "metadata": {},
     "output_type": "execute_result"
    }
   ],
   "source": [
    "word_vectors.similarity(\"United_States\", \"U.S.\")"
   ]
  },
  {
   "cell_type": "markdown",
   "id": "8d6e3df0-2c11-4259-bc31-3ebc9c9bfb89",
   "metadata": {},
   "source": [
    "### 62. 類似度の高い単語10件\n",
    "“United States”とコサイン類似度が高い10語と，その類似度を出力せよ．"
   ]
  },
  {
   "cell_type": "code",
   "execution_count": 5,
   "id": "e3119c6c-d7c8-46ff-9a5a-cf053d657170",
   "metadata": {},
   "outputs": [
    {
     "data": {
      "text/plain": [
       "[('Unites_States', 0.7877248525619507),\n",
       " ('Untied_States', 0.7541370391845703),\n",
       " ('United_Sates', 0.7400725483894348),\n",
       " ('U.S.', 0.7310774326324463),\n",
       " ('theUnited_States', 0.6404393911361694),\n",
       " ('America', 0.6178410053253174),\n",
       " ('UnitedStates', 0.6167312264442444),\n",
       " ('Europe', 0.6132988929748535),\n",
       " ('countries', 0.6044804453849792),\n",
       " ('Canada', 0.6019070148468018)]"
      ]
     },
     "execution_count": 5,
     "metadata": {},
     "output_type": "execute_result"
    }
   ],
   "source": [
    "result = word_vectors.most_similar(positive=[\"United_States\"], topn=10)\n",
    "result"
   ]
  },
  {
   "cell_type": "markdown",
   "id": "0b2458a5-a89d-4e7e-84e6-abc5febb3964",
   "metadata": {},
   "source": [
    "### 63. 加法構成性によるアナロジー\n",
    "“Spain”の単語ベクトルから”Madrid”のベクトルを引き，”Athens”のベクトルを足したベクトルを計算し，そのベクトルと類似度の高い10語とその類似度を出力せよ．"
   ]
  },
  {
   "cell_type": "code",
   "execution_count": 8,
   "id": "d43ad9fa-4860-4e45-a852-d4e1cfeb7759",
   "metadata": {},
   "outputs": [
    {
     "data": {
      "text/plain": [
       "[('Athens', 0.7528455257415771),\n",
       " ('Greece', 0.6685472130775452),\n",
       " ('Aristeidis_Grigoriadis', 0.5495778322219849),\n",
       " ('Ioannis_Drymonakos', 0.5361457467079163),\n",
       " ('Greeks', 0.5351787209510803),\n",
       " ('Ioannis_Christou', 0.5330225825309753),\n",
       " ('Hrysopiyi_Devetzi', 0.5088489651679993),\n",
       " ('Iraklion', 0.5059264898300171),\n",
       " ('Greek', 0.5040615200996399),\n",
       " ('Athens_Greece', 0.5034109950065613)]"
      ]
     },
     "execution_count": 8,
     "metadata": {},
     "output_type": "execute_result"
    }
   ],
   "source": [
    "# ans 1: calculate a vector and use it as arg in most_similar\n",
    "v1 = word_vectors[\"Spain\"]\n",
    "v2 = word_vectors[\"Madrid\"]\n",
    "v3 = word_vectors[\"Athens\"]\n",
    "v = v1 - v2 + v3\n",
    "\n",
    "result_63 = word_vectors.most_similar(positive=[v], topn=10)\n",
    "result_63"
   ]
  },
  {
   "cell_type": "code",
   "execution_count": 9,
   "id": "002e0b38-b07d-4aeb-a6b4-8688d1f70f7a",
   "metadata": {},
   "outputs": [
    {
     "data": {
      "text/plain": [
       "[('Greece', 0.6898480653762817),\n",
       " ('Aristeidis_Grigoriadis', 0.560684859752655),\n",
       " ('Ioannis_Drymonakos', 0.555290937423706),\n",
       " ('Greeks', 0.5450686812400818),\n",
       " ('Ioannis_Christou', 0.5400862693786621),\n",
       " ('Hrysopiyi_Devetzi', 0.5248445272445679),\n",
       " ('Heraklio', 0.5207759141921997),\n",
       " ('Athens_Greece', 0.5168809294700623),\n",
       " ('Lithuania', 0.5166866183280945),\n",
       " ('Iraklion', 0.5146791934967041)]"
      ]
     },
     "execution_count": 9,
     "metadata": {},
     "output_type": "execute_result"
    }
   ],
   "source": [
    "# ans 2: use keys as arg in most_similar\n",
    "word_vectors.most_similar(positive=[\"Spain\",\"Athens\"], negative=[\"Madrid\"], topn=10)"
   ]
  },
  {
   "cell_type": "markdown",
   "id": "3a877de0-b890-4558-910e-4bddea1c3f1e",
   "metadata": {},
   "source": [
    "### 64. アナロジーデータでの実験\n",
    "単語アナロジーの評価データをダウンロードし，vec(2列目の単語) - vec(1列目の単語) + vec(3列目の単語)を計算し，そのベクトルと類似度が最も高い単語と，その類似度を求めよ．求めた単語と類似度は，各事例の末尾に追記せよ．"
   ]
  },
  {
   "cell_type": "code",
   "execution_count": 10,
   "id": "8f30de7a-7409-44a5-adfd-24ca6a66a3b4",
   "metadata": {},
   "outputs": [
    {
     "name": "stdout",
     "output_type": "stream",
     "text": [
      "1:: capital-common-countries\n",
      "508:: capital-world\n",
      "5033:: currency\n",
      "5900:: city-in-state\n",
      "8368:: family\n",
      "8875:: gram1-adjective-to-adverb\n",
      "9868:: gram2-opposite\n",
      "10681:: gram3-comparative\n",
      "12014:: gram4-superlative\n",
      "13137:: gram5-present-participle\n",
      "14194:: gram6-nationality-adjective\n",
      "15794:: gram7-past-tense\n",
      "17355:: gram8-plural\n",
      "18688:: gram9-plural-verbs\n"
     ]
    }
   ],
   "source": [
    "!grep -n \": *\" \"questions-words.txt\" # unused lines"
   ]
  },
  {
   "cell_type": "code",
   "execution_count": 11,
   "id": "5ff82d44-e5e4-4400-b7a2-7a1ddd559eb4",
   "metadata": {},
   "outputs": [],
   "source": [
    "!grep -n \": *\" \"questions-words.txt\" | cut -d \" \" -f 1 | sed 's/:://g' > \"skip_rows.txt\""
   ]
  },
  {
   "cell_type": "code",
   "execution_count": 12,
   "id": "aa36cd67-32b2-478f-83f4-da52eb2e4a43",
   "metadata": {},
   "outputs": [
    {
     "name": "stdout",
     "output_type": "stream",
     "text": [
      "[0, 507, 5032, 5899, 8367, 8874, 9867, 10680, 12013, 13136, 14193, 15793, 17354, 18687]\n"
     ]
    }
   ],
   "source": [
    "with open(\"skip_rows.txt\", \"r\") as f:\n",
    "    lines = f.readlines()\n",
    "    skip_rows = [int(n)-1 for n in lines]\n",
    "print(skip_rows)"
   ]
  },
  {
   "cell_type": "code",
   "execution_count": 13,
   "id": "63d64221-7402-4e9a-8450-f66ddaa688c2",
   "metadata": {},
   "outputs": [
    {
     "data": {
      "text/html": [
       "<div>\n",
       "<style scoped>\n",
       "    .dataframe tbody tr th:only-of-type {\n",
       "        vertical-align: middle;\n",
       "    }\n",
       "\n",
       "    .dataframe tbody tr th {\n",
       "        vertical-align: top;\n",
       "    }\n",
       "\n",
       "    .dataframe thead th {\n",
       "        text-align: right;\n",
       "    }\n",
       "</style>\n",
       "<table border=\"1\" class=\"dataframe\">\n",
       "  <thead>\n",
       "    <tr style=\"text-align: right;\">\n",
       "      <th></th>\n",
       "      <th>v1</th>\n",
       "      <th>v2</th>\n",
       "      <th>v3</th>\n",
       "      <th>v4</th>\n",
       "    </tr>\n",
       "  </thead>\n",
       "  <tbody>\n",
       "    <tr>\n",
       "      <th>0</th>\n",
       "      <td>Athens</td>\n",
       "      <td>Greece</td>\n",
       "      <td>Baghdad</td>\n",
       "      <td>Iraq</td>\n",
       "    </tr>\n",
       "    <tr>\n",
       "      <th>1</th>\n",
       "      <td>Athens</td>\n",
       "      <td>Greece</td>\n",
       "      <td>Bangkok</td>\n",
       "      <td>Thailand</td>\n",
       "    </tr>\n",
       "    <tr>\n",
       "      <th>2</th>\n",
       "      <td>Athens</td>\n",
       "      <td>Greece</td>\n",
       "      <td>Beijing</td>\n",
       "      <td>China</td>\n",
       "    </tr>\n",
       "    <tr>\n",
       "      <th>3</th>\n",
       "      <td>Athens</td>\n",
       "      <td>Greece</td>\n",
       "      <td>Berlin</td>\n",
       "      <td>Germany</td>\n",
       "    </tr>\n",
       "    <tr>\n",
       "      <th>4</th>\n",
       "      <td>Athens</td>\n",
       "      <td>Greece</td>\n",
       "      <td>Bern</td>\n",
       "      <td>Switzerland</td>\n",
       "    </tr>\n",
       "  </tbody>\n",
       "</table>\n",
       "</div>"
      ],
      "text/plain": [
       "       v1      v2       v3           v4\n",
       "0  Athens  Greece  Baghdad         Iraq\n",
       "1  Athens  Greece  Bangkok     Thailand\n",
       "2  Athens  Greece  Beijing        China\n",
       "3  Athens  Greece   Berlin      Germany\n",
       "4  Athens  Greece     Bern  Switzerland"
      ]
     },
     "execution_count": 13,
     "metadata": {},
     "output_type": "execute_result"
    }
   ],
   "source": [
    "import pandas as pd\n",
    "import numpy as np\n",
    "\n",
    "df = pd.read_csv(\"questions-words.txt\", sep=\" \", skiprows=skip_rows, names=[\"v1\", \"v2\",  \"v3\", \"v4\"])\n",
    "df.head()"
   ]
  },
  {
   "cell_type": "code",
   "execution_count": 45,
   "id": "4dd33d3a-68c4-4450-8907-4db5603a5f0f",
   "metadata": {},
   "outputs": [],
   "source": [
    "from tqdm import tqdm\n",
    "\n",
    "# v3を含む場合\n",
    "def most_sim_1(w1, w2, w3):\n",
    "    v = word_vectors[w2] - word_vectors[w1] + word_vectors[w3]\n",
    "    return word_vectors.most_similar(positive=[v], topn=1)[0]\n",
    "\n",
    "# v3を含まない場合\n",
    "def most_sim_2(w1, w2, w3):\n",
    "    v = word_vectors[w2] - word_vectors[w1] + word_vectors[w3]\n",
    "    result = word_vectors.most_similar(positive=[v], topn=2)\n",
    "    if result[0][0] == w3: # prevent w3 as result\n",
    "        return result[1]\n",
    "    else:\n",
    "        return result[0]\n",
    "    \n",
    "# use most_similar's positive and negative arguments\n",
    "def most_sim_3(w1, w2, w3):\n",
    "    return word_vectors.most_similar(positive=[w2, w3], negative=[w1], topn=1)[0]"
   ]
  },
  {
   "cell_type": "code",
   "execution_count": 46,
   "id": "e018c7be-e390-491c-b13a-552ff4782cfd",
   "metadata": {},
   "outputs": [
    {
     "name": "stderr",
     "output_type": "stream",
     "text": [
      "100%|██████████████████████████████████▉| 19543/19544 [1:00:34<00:00,  5.38it/s]\n"
     ]
    },
    {
     "data": {
      "text/plain": [
       "[('Baghdad', 0.7489827275276184),\n",
       " ('Bangkok', 0.7431141138076782),\n",
       " ('China', 0.7186591625213623),\n",
       " ('Germany', 0.6720893383026123),\n",
       " ('Bern', 0.6902341246604919)]"
      ]
     },
     "execution_count": 46,
     "metadata": {},
     "output_type": "execute_result"
    }
   ],
   "source": [
    "v_sim_1 = [most_sim_1(w1, w2, w3) for w1, w2, w3, i in zip(df[\"v1\"], df[\"v2\"], df[\"v3\"], tqdm(range(len(df))))]\n",
    "v_sim_1[:5]"
   ]
  },
  {
   "cell_type": "code",
   "execution_count": 117,
   "id": "b44aa61c-f718-40f4-ad35-e4067783374e",
   "metadata": {},
   "outputs": [
    {
     "name": "stderr",
     "output_type": "stream",
     "text": [
      "100%|██████████████████████████████████▉| 19543/19544 [2:35:03<00:00,  2.10it/s]\n"
     ]
    },
    {
     "data": {
      "text/plain": [
       "[('Iraqi', 0.6727433204650879),\n",
       " ('Thailand', 0.7350419759750366),\n",
       " ('China', 0.7186591625213623),\n",
       " ('Germany', 0.6720893383026123),\n",
       " ('Switzerland', 0.502210259437561)]"
      ]
     },
     "execution_count": 117,
     "metadata": {},
     "output_type": "execute_result"
    }
   ],
   "source": [
    "v_sim_2 = [most_sim_2(w1, w2, w3) for w1, w2, w3, i in zip(df[\"v1\"], df[\"v2\"], df[\"v3\"], tqdm(range(len(df))))]\n",
    "v_sim_2[:5]"
   ]
  },
  {
   "cell_type": "code",
   "execution_count": 47,
   "id": "409ded35-b1b3-4c3d-8572-02ac6cde128c",
   "metadata": {},
   "outputs": [
    {
     "name": "stderr",
     "output_type": "stream",
     "text": [
      "100%|██████████████████████████████████▉| 19543/19544 [1:00:42<00:00,  5.36it/s]\n"
     ]
    },
    {
     "data": {
      "text/plain": [
       "[('Iraqi', 0.6351870894432068),\n",
       " ('Thailand', 0.7137669324874878),\n",
       " ('China', 0.7235777378082275),\n",
       " ('Germany', 0.6734622716903687),\n",
       " ('Switzerland', 0.4919748306274414)]"
      ]
     },
     "execution_count": 47,
     "metadata": {},
     "output_type": "execute_result"
    }
   ],
   "source": [
    "v_sim_3 = [most_sim_3(w1, w2, w3) for w1, w2, w3, i in zip(df[\"v1\"], df[\"v2\"], df[\"v3\"], tqdm(range(len(df))))]\n",
    "v_sim_3[:5]"
   ]
  },
  {
   "cell_type": "code",
   "execution_count": 118,
   "id": "a46dce0b-cedb-46d0-9836-f8e707cc2b4a",
   "metadata": {},
   "outputs": [
    {
     "data": {
      "text/html": [
       "<div>\n",
       "<style scoped>\n",
       "    .dataframe tbody tr th:only-of-type {\n",
       "        vertical-align: middle;\n",
       "    }\n",
       "\n",
       "    .dataframe tbody tr th {\n",
       "        vertical-align: top;\n",
       "    }\n",
       "\n",
       "    .dataframe thead th {\n",
       "        text-align: right;\n",
       "    }\n",
       "</style>\n",
       "<table border=\"1\" class=\"dataframe\">\n",
       "  <thead>\n",
       "    <tr style=\"text-align: right;\">\n",
       "      <th></th>\n",
       "      <th>v1</th>\n",
       "      <th>v2</th>\n",
       "      <th>v3</th>\n",
       "      <th>v4</th>\n",
       "      <th>pred_1</th>\n",
       "      <th>sim_1</th>\n",
       "      <th>pred_3</th>\n",
       "      <th>sim_3</th>\n",
       "      <th>pred_2</th>\n",
       "      <th>sim_2</th>\n",
       "    </tr>\n",
       "  </thead>\n",
       "  <tbody>\n",
       "    <tr>\n",
       "      <th>0</th>\n",
       "      <td>Athens</td>\n",
       "      <td>Greece</td>\n",
       "      <td>Baghdad</td>\n",
       "      <td>Iraq</td>\n",
       "      <td>Baghdad</td>\n",
       "      <td>0.748983</td>\n",
       "      <td>Iraqi</td>\n",
       "      <td>0.635187</td>\n",
       "      <td>Iraqi</td>\n",
       "      <td>0.672743</td>\n",
       "    </tr>\n",
       "    <tr>\n",
       "      <th>1</th>\n",
       "      <td>Athens</td>\n",
       "      <td>Greece</td>\n",
       "      <td>Bangkok</td>\n",
       "      <td>Thailand</td>\n",
       "      <td>Bangkok</td>\n",
       "      <td>0.743114</td>\n",
       "      <td>Thailand</td>\n",
       "      <td>0.713767</td>\n",
       "      <td>Thailand</td>\n",
       "      <td>0.735042</td>\n",
       "    </tr>\n",
       "    <tr>\n",
       "      <th>2</th>\n",
       "      <td>Athens</td>\n",
       "      <td>Greece</td>\n",
       "      <td>Beijing</td>\n",
       "      <td>China</td>\n",
       "      <td>China</td>\n",
       "      <td>0.718659</td>\n",
       "      <td>China</td>\n",
       "      <td>0.723578</td>\n",
       "      <td>China</td>\n",
       "      <td>0.718659</td>\n",
       "    </tr>\n",
       "    <tr>\n",
       "      <th>3</th>\n",
       "      <td>Athens</td>\n",
       "      <td>Greece</td>\n",
       "      <td>Berlin</td>\n",
       "      <td>Germany</td>\n",
       "      <td>Germany</td>\n",
       "      <td>0.672089</td>\n",
       "      <td>Germany</td>\n",
       "      <td>0.673462</td>\n",
       "      <td>Germany</td>\n",
       "      <td>0.672089</td>\n",
       "    </tr>\n",
       "    <tr>\n",
       "      <th>4</th>\n",
       "      <td>Athens</td>\n",
       "      <td>Greece</td>\n",
       "      <td>Bern</td>\n",
       "      <td>Switzerland</td>\n",
       "      <td>Bern</td>\n",
       "      <td>0.690234</td>\n",
       "      <td>Switzerland</td>\n",
       "      <td>0.491975</td>\n",
       "      <td>Switzerland</td>\n",
       "      <td>0.502210</td>\n",
       "    </tr>\n",
       "  </tbody>\n",
       "</table>\n",
       "</div>"
      ],
      "text/plain": [
       "       v1      v2       v3           v4   pred_1     sim_1       pred_3  \\\n",
       "0  Athens  Greece  Baghdad         Iraq  Baghdad  0.748983        Iraqi   \n",
       "1  Athens  Greece  Bangkok     Thailand  Bangkok  0.743114     Thailand   \n",
       "2  Athens  Greece  Beijing        China    China  0.718659        China   \n",
       "3  Athens  Greece   Berlin      Germany  Germany  0.672089      Germany   \n",
       "4  Athens  Greece     Bern  Switzerland     Bern  0.690234  Switzerland   \n",
       "\n",
       "      sim_3       pred_2     sim_2  \n",
       "0  0.635187        Iraqi  0.672743  \n",
       "1  0.713767     Thailand  0.735042  \n",
       "2  0.723578        China  0.718659  \n",
       "3  0.673462      Germany  0.672089  \n",
       "4  0.491975  Switzerland  0.502210  "
      ]
     },
     "execution_count": 118,
     "metadata": {},
     "output_type": "execute_result"
    }
   ],
   "source": [
    "df[\"pred_1\"] = [item[0] for item in v_sim_1]\n",
    "df[\"sim_1\"] = [item[1] for item in v_sim_1]\n",
    "df[\"pred_2\"] = [item[0] for item in v_sim_2]\n",
    "df[\"sim_2\"] = [item[1] for item in v_sim_2]\n",
    "df[\"pred_3\"] = [item[0] for item in v_sim_3]\n",
    "df[\"sim_3\"] = [item[1] for item in v_sim_3]\n",
    "df.head()"
   ]
  },
  {
   "cell_type": "code",
   "execution_count": 124,
   "id": "da0b70cd-11c7-48f8-8c64-cd8d892da5e7",
   "metadata": {},
   "outputs": [],
   "source": [
    "df.to_csv(\"out_64.csv\", sep=\",\", index=False)"
   ]
  },
  {
   "cell_type": "markdown",
   "id": "f452223d-ab67-43f1-9294-90fc6457ca1e",
   "metadata": {},
   "source": [
    "### 65. アナロジータスクでの正解率\n",
    "64の実行結果を用い，意味的アナロジー（semantic analogy）と文法的アナロジー（syntactic analogy）の正解率を測定せよ．"
   ]
  },
  {
   "cell_type": "code",
   "execution_count": 119,
   "id": "34e51054-fe27-44e9-8fe5-9948df2d8338",
   "metadata": {},
   "outputs": [
    {
     "data": {
      "text/html": [
       "<div>\n",
       "<style scoped>\n",
       "    .dataframe tbody tr th:only-of-type {\n",
       "        vertical-align: middle;\n",
       "    }\n",
       "\n",
       "    .dataframe tbody tr th {\n",
       "        vertical-align: top;\n",
       "    }\n",
       "\n",
       "    .dataframe thead th {\n",
       "        text-align: right;\n",
       "    }\n",
       "</style>\n",
       "<table border=\"1\" class=\"dataframe\">\n",
       "  <thead>\n",
       "    <tr style=\"text-align: right;\">\n",
       "      <th></th>\n",
       "      <th>v1</th>\n",
       "      <th>v2</th>\n",
       "      <th>v3</th>\n",
       "      <th>v4</th>\n",
       "      <th>pred_1</th>\n",
       "      <th>sim_1</th>\n",
       "      <th>pred_3</th>\n",
       "      <th>sim_3</th>\n",
       "      <th>pred_2</th>\n",
       "      <th>sim_2</th>\n",
       "    </tr>\n",
       "  </thead>\n",
       "  <tbody>\n",
       "    <tr>\n",
       "      <th>8868</th>\n",
       "      <td>uncle</td>\n",
       "      <td>aunt</td>\n",
       "      <td>stepson</td>\n",
       "      <td>stepdaughter</td>\n",
       "      <td>stepson</td>\n",
       "      <td>0.855731</td>\n",
       "      <td>stepdaughter</td>\n",
       "      <td>0.753163</td>\n",
       "      <td>stepdaughter</td>\n",
       "      <td>0.772244</td>\n",
       "    </tr>\n",
       "    <tr>\n",
       "      <th>8869</th>\n",
       "      <td>amazing</td>\n",
       "      <td>amazingly</td>\n",
       "      <td>apparent</td>\n",
       "      <td>apparently</td>\n",
       "      <td>apparent</td>\n",
       "      <td>0.629424</td>\n",
       "      <td>apparently</td>\n",
       "      <td>0.481730</td>\n",
       "      <td>apparently</td>\n",
       "      <td>0.464964</td>\n",
       "    </tr>\n",
       "  </tbody>\n",
       "</table>\n",
       "</div>"
      ],
      "text/plain": [
       "           v1         v2        v3            v4    pred_1     sim_1  \\\n",
       "8868    uncle       aunt   stepson  stepdaughter   stepson  0.855731   \n",
       "8869  amazing  amazingly  apparent    apparently  apparent  0.629424   \n",
       "\n",
       "            pred_3     sim_3        pred_2     sim_2  \n",
       "8868  stepdaughter  0.753163  stepdaughter  0.772244  \n",
       "8869    apparently  0.481730    apparently  0.464964  "
      ]
     },
     "execution_count": 119,
     "metadata": {},
     "output_type": "execute_result"
    }
   ],
   "source": [
    "# 64.を参考に\n",
    "n_sem = 8874-5\n",
    "n_syn = len(df) - n_sem\n",
    "\n",
    "df_sem = df[:n_sem]\n",
    "df_syn = df[n_sem:]\n",
    "\n",
    "# 分割の確認\n",
    "df.iloc[[n_sem-1, n_sem]]"
   ]
  },
  {
   "cell_type": "code",
   "execution_count": 122,
   "id": "e94cc06d-d99a-44e9-a3c0-6e738742a1bd",
   "metadata": {},
   "outputs": [
    {
     "name": "stdout",
     "output_type": "stream",
     "text": [
      "(0.17352576389671892, 0.2253864168618267)\n",
      "(0.6673807644604803, 0.6615456674473068)\n",
      "(0.7308602999210734, 0.7400468384074942)\n"
     ]
    }
   ],
   "source": [
    "def get_acc(n):\n",
    "    pred_col = \"pred_\" + str(n)\n",
    "    acc_sem = sum([int(w4==w4_pred) for w4, w4_pred in zip(df_sem[\"v4\"], df_sem[pred_col])])/n_sem\n",
    "    acc_syn = sum([int(w4==w4_pred) for w4, w4_pred in zip(df_syn[\"v4\"], df_syn[pred_col])])/n_syn\n",
    "    return acc_sem, acc_syn\n",
    "\n",
    "for i in range(1, 4):\n",
    "    print(get_acc(i))"
   ]
  },
  {
   "cell_type": "markdown",
   "id": "e0949858-b154-4077-b936-5868b9bb5de7",
   "metadata": {},
   "source": [
    "### 66. WordSimilarity-353での評価\n",
    "The WordSimilarity-353 Test Collectionの評価データをダウンロードし，単語ベクトルにより計算される類似度のランキングと，人間の類似度判定のランキングの間のスピアマン相関係数を計算せよ．\n",
    "\n"
   ]
  },
  {
   "cell_type": "code",
   "execution_count": 63,
   "id": "e0aa3762-7e1c-4398-9c62-b6d1e12de8f0",
   "metadata": {},
   "outputs": [],
   "source": [
    "# remove first row (column names) \n",
    "!tail -n +2 \"wordsim353/combined.csv\" > combined-noheader.csv"
   ]
  },
  {
   "cell_type": "code",
   "execution_count": 61,
   "id": "1c9a5c2a-bc32-471e-8326-aa8cb2eee8cb",
   "metadata": {},
   "outputs": [
    {
     "data": {
      "text/plain": [
       "((0.6238773487289394, 1.7963224351216643e-39),\n",
       " SpearmanrResult(correlation=0.6589215888009288, pvalue=2.534605645914962e-45),\n",
       " 0.0)"
      ]
     },
     "execution_count": 61,
     "metadata": {},
     "output_type": "execute_result"
    }
   ],
   "source": [
    "word_vectors.evaluate_word_pairs(pairs=\"combined-noheader.csv\", delimiter=\",\")"
   ]
  },
  {
   "cell_type": "code",
   "execution_count": 64,
   "id": "9854ee63-debb-453f-838c-9762be9478bc",
   "metadata": {},
   "outputs": [
    {
     "data": {
      "text/plain": [
       "((0.6238773487289394, 1.7963224351216643e-39),\n",
       " SpearmanrResult(correlation=0.6589215888009288, pvalue=2.534605645914962e-45),\n",
       " 0.0)"
      ]
     },
     "execution_count": 64,
     "metadata": {},
     "output_type": "execute_result"
    }
   ],
   "source": [
    "# same result even not removing theheader row\n",
    "word_vectors.evaluate_word_pairs(pairs=\"wordsim353/combined.csv\", delimiter=\",\")"
   ]
  },
  {
   "cell_type": "markdown",
   "id": "2e211f6a-e374-4918-a379-8b924cc52843",
   "metadata": {},
   "source": [
    "### 67. k-meansクラスタリング\n",
    "国名に関する単語ベクトルを抽出し，k-meansクラスタリングをクラスタ数k=5として実行せよ．"
   ]
  },
  {
   "cell_type": "code",
   "execution_count": 98,
   "id": "57498b9e-f34f-4bdf-a426-f26e25afcffc",
   "metadata": {},
   "outputs": [
    {
     "data": {
      "text/plain": [
       "[('Libya', 0),\n",
       " ('Syria', 0),\n",
       " ('Qatar', 0),\n",
       " ('Morocco', 0),\n",
       " ('Iraq', 0),\n",
       " ('Iran', 0),\n",
       " ('Tunisia', 0),\n",
       " ('Cyprus', 0),\n",
       " ('Lebanon', 0),\n",
       " ('Oman', 0),\n",
       " ('Jordan', 0),\n",
       " ('Turkey', 0),\n",
       " ('Afghanistan', 0),\n",
       " ('Malta', 0),\n",
       " ('Egypt', 0),\n",
       " ('Bahrain', 0),\n",
       " ('Greece', 0),\n",
       " ('Spain', 1),\n",
       " ('England', 1),\n",
       " ('Italy', 1),\n",
       " ('Belgium', 1),\n",
       " ('Switzerland', 1),\n",
       " ('Sweden', 1),\n",
       " ('Greenland', 1),\n",
       " ('Norway', 1),\n",
       " ('Ireland', 1),\n",
       " ('Portugal', 1),\n",
       " ('Denmark', 1),\n",
       " ('Liechtenstein', 1),\n",
       " ('Finland', 1),\n",
       " ('Austria', 1),\n",
       " ('Germany', 1),\n",
       " ('France', 1),\n",
       " ('Belize', 2),\n",
       " ('Samoa', 2),\n",
       " ('Suriname', 2),\n",
       " ('Venezuela', 2),\n",
       " ('Fiji', 2),\n",
       " ('Vietnam', 2),\n",
       " ('Philippines', 2),\n",
       " ('Ecuador', 2),\n",
       " ('Honduras', 2),\n",
       " ('Jamaica', 2),\n",
       " ('Guyana', 2),\n",
       " ('Laos', 2),\n",
       " ('Australia', 2),\n",
       " ('Thailand', 2),\n",
       " ('Tuvalu', 2),\n",
       " ('Japan', 2),\n",
       " ('Bangladesh', 2),\n",
       " ('Nepal', 2),\n",
       " ('Pakistan', 2),\n",
       " ('Cuba', 2),\n",
       " ('China', 2),\n",
       " ('Taiwan', 2),\n",
       " ('Uruguay', 2),\n",
       " ('Bahamas', 2),\n",
       " ('Peru', 2),\n",
       " ('Dominica', 2),\n",
       " ('Canada', 2),\n",
       " ('Chile', 2),\n",
       " ('Nicaragua', 2),\n",
       " ('Bhutan', 2),\n",
       " ('Indonesia', 2),\n",
       " ('Gambia', 3),\n",
       " ('Gabon', 3),\n",
       " ('Kenya', 3),\n",
       " ('Rwanda', 3),\n",
       " ('Namibia', 3),\n",
       " ('Niger', 3),\n",
       " ('Burundi', 3),\n",
       " ('Sudan', 3),\n",
       " ('Malawi', 3),\n",
       " ('Mozambique', 3),\n",
       " ('Ghana', 3),\n",
       " ('Guinea', 3),\n",
       " ('Somalia', 3),\n",
       " ('Algeria', 3),\n",
       " ('Zimbabwe', 3),\n",
       " ('Madagascar', 3),\n",
       " ('Botswana', 3),\n",
       " ('Uganda', 3),\n",
       " ('Nigeria', 3),\n",
       " ('Mali', 3),\n",
       " ('Zambia', 3),\n",
       " ('Mauritania', 3),\n",
       " ('Liberia', 3),\n",
       " ('Eritrea', 3),\n",
       " ('Senegal', 3),\n",
       " ('Angola', 3),\n",
       " ('Macedonia', 4),\n",
       " ('Bulgaria', 4),\n",
       " ('Azerbaijan', 4),\n",
       " ('Uzbekistan', 4),\n",
       " ('Turkmenistan', 4),\n",
       " ('Russia', 4),\n",
       " ('Albania', 4),\n",
       " ('Kyrgyzstan', 4),\n",
       " ('Lithuania', 4),\n",
       " ('Tajikistan', 4),\n",
       " ('Poland', 4),\n",
       " ('Kazakhstan', 4),\n",
       " ('Slovakia', 4),\n",
       " ('Latvia', 4),\n",
       " ('Moldova', 4),\n",
       " ('Serbia', 4),\n",
       " ('Ukraine', 4),\n",
       " ('Romania', 4),\n",
       " ('Slovenia', 4),\n",
       " ('Croatia', 4),\n",
       " ('Estonia', 4),\n",
       " ('Montenegro', 4),\n",
       " ('Belarus', 4),\n",
       " ('Georgia', 4),\n",
       " ('Hungary', 4),\n",
       " ('Armenia', 4)]"
      ]
     },
     "execution_count": 98,
     "metadata": {},
     "output_type": "execute_result"
    }
   ],
   "source": [
    "from sklearn.cluster import KMeans\n",
    "\n",
    "# gather country names\n",
    "countries = list(set(list(df.loc[:5029][\"v2\"]) + list(df.loc[:5029][\"v4\"])))\n",
    "countries_vec = [word_vectors[c] for c in countries]\n",
    "\n",
    "# clustering\n",
    "kmeans = KMeans(n_clusters=5, random_state=0).fit(countries_vec)\n",
    "\n",
    "# show result\n",
    "ans_67 = [(c, n) for c, n in zip(countries, kmeans.labels_)]\n",
    "sorted(ans_67, key=lambda x: x[1])"
   ]
  },
  {
   "cell_type": "markdown",
   "id": "2b011560-0d23-4385-bc0c-10d7ee649492",
   "metadata": {},
   "source": [
    "### 68. Ward法によるクラスタリング\n",
    "国名に関する単語ベクトルに対し，Ward法による階層型クラスタリングを実行せよ．さらに，クラスタリング結果をデンドログラムとして可視化せよ．"
   ]
  },
  {
   "cell_type": "code",
   "execution_count": 104,
   "id": "f61bddc1-d77e-47bb-b477-17c41e79c36b",
   "metadata": {},
   "outputs": [
    {
     "data": {
      "image/png": "[encoded data removed]",
      "text/plain": [
       "<Figure size 1728x864 with 1 Axes>"
      ]
     },
     "metadata": {
      "needs_background": "light"
     },
     "output_type": "display_data"
    }
   ],
   "source": [
    "from scipy.cluster.hierarchy import linkage, dendrogram\n",
    "from matplotlib import pyplot as plt\n",
    "\n",
    "linked = linkage(countries_vec, 'ward')\n",
    "\n",
    "plt.figure(figsize=(24,12))\n",
    "dendrogram(linked, labels=countries, leaf_font_size=11)\n",
    "plt.show()"
   ]
  },
  {
   "cell_type": "markdown",
   "id": "23a2d181-b42a-4f46-a892-814600b2add8",
   "metadata": {},
   "source": [
    "### 69. t-SNEによる可視化\n",
    "ベクトル空間上の国名に関する単語ベクトルをt-SNEで可視化せよ．"
   ]
  },
  {
   "cell_type": "code",
   "execution_count": 111,
   "id": "f5ba9029-2d61-45f4-bf66-05b198b23daf",
   "metadata": {},
   "outputs": [
    {
     "name": "stderr",
     "output_type": "stream",
     "text": [
      "/Users/panatchakorn-a/Library/Python/3.8/lib/python/site-packages/sklearn/manifold/_t_sne.py:795: FutureWarning: The default initialization in TSNE will change from 'random' to 'pca' in 1.2.\n",
      "  warnings.warn(\n",
      "/Users/panatchakorn-a/Library/Python/3.8/lib/python/site-packages/sklearn/manifold/_t_sne.py:805: FutureWarning: The default learning rate in TSNE will change from 200.0 to 'auto' in 1.2.\n",
      "  warnings.warn(\n"
     ]
    },
    {
     "data": {
      "image/png": "[encoded data removed]",
      "text/plain": [
       "<Figure size 1728x864 with 1 Axes>"
      ]
     },
     "metadata": {
      "needs_background": "light"
     },
     "output_type": "display_data"
    }
   ],
   "source": [
    "from sklearn.manifold import TSNE\n",
    "\n",
    "countries_vec_tsne = TSNE(n_components=2, random_state=0).fit_transform(countries_vec)\n",
    "\n",
    "plt.figure(figsize=(24,12))\n",
    "plt.scatter(countries_vec_tsne[:,0], countries_vec_tsne[:,1])\n",
    "for i in range(len(countries)):\n",
    "    plt.annotate(countries[i], (countries_vec_tsne[i,0],countries_vec_tsne[i,1]))\n",
    "plt.show()"
   ]
  }
 ],
 "metadata": {
  "kernelspec": {
   "display_name": "Python 3 (ipykernel)",
   "language": "python",
   "name": "python3"
  },
  "language_info": {
   "codemirror_mode": {
    "name": "ipython",
    "version": 3
   },
   "file_extension": ".py",
   "mimetype": "text/x-python",
   "name": "python",
   "nbconvert_exporter": "python",
   "pygments_lexer": "ipython3",
   "version": "3.8.9"
  }
 },
 "nbformat": 4,
 "nbformat_minor": 5
}
