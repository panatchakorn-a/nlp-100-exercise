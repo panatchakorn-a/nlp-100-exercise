{
 "cells": [
  {
   "cell_type": "markdown",
   "id": "0e32410e-c7c6-421b-99a0-74847be5506e",
   "metadata": {},
   "source": [
    "## 第8章: ニューラルネット\n",
    "第6章で取り組んだニュース記事のカテゴリ分類を題材として，ニューラルネットワークでカテゴリ分類モデルを実装する．なお，この章ではPyTorch, TensorFlow, Chainerなどの機械学習プラットフォームを活用せよ．\n",
    "\n",
    "個人ノート\n",
    "- torch.nn の使い方： https://pytorch.org/tutorials/beginner/nn_tutorial.html"
   ]
  },
  {
   "cell_type": "markdown",
   "id": "69494cb6-17e7-43ce-86e2-2e4f1280e044",
   "metadata": {},
   "source": [
    "## 70. 単語ベクトルの和による特徴量\n",
    "問題50で構築した学習データ，検証データ，評価データを行列・ベクトルに変換したい．\n",
    "今回は単語ベクトルとして，問題60でダウンロードしたものを用いればよい．\n",
    "以下の行列・ベクトルを作成し，ファイルに保存せよ．\n",
    "\n",
    "- 学習データの特徴量行列: Xtrain∈ℝNt×d\n",
    "- 学習データのラベルベクトル: Ytrain∈ℕNt\n",
    "- 検証データの特徴量行列: Xvalid∈ℝNv×d\n",
    "- 検証データのラベルベクトル: Yvalid∈ℕNv\n",
    "- 評価データの特徴量行列: Xtest∈ℝNe×d\n",
    "- 評価データのラベルベクトル: Ytest∈ℕNe\n",
    "\n",
    "なお，Nt,Nv,Ne はそれぞれ，学習データの事例数，検証データの事例数，評価データの事例数である．"
   ]
  },
  {
   "cell_type": "code",
   "execution_count": 2,
   "id": "f26bba97",
   "metadata": {},
   "outputs": [],
   "source": [
    "# !pip install torch"
   ]
  },
  {
   "cell_type": "code",
   "execution_count": 3,
   "id": "9c21b356-a641-4773-a6d6-4ff8aa572ebf",
   "metadata": {},
   "outputs": [],
   "source": [
    "from gensim.models import KeyedVectors\n",
    "import pandas as pd\n",
    "import numpy as np\n",
    "import torch\n",
    "import re\n",
    "\n",
    "word_vectors = KeyedVectors.load_word2vec_format(\"GoogleNews-vectors-negative300.bin\", binary=True)\n",
    "label = {\"b\":0, \"t\":1, \"e\":2, \"m\":3}\n",
    "filenames = [\"train\", \"test\", \"valid\"]\n",
    "d = 300"
   ]
  },
  {
   "cell_type": "code",
   "execution_count": 4,
   "id": "613f3b7a-1020-42c7-8557-501a2d013592",
   "metadata": {},
   "outputs": [],
   "source": [
    "for fname in filenames:\n",
    "    df = pd.read_csv(\"data_60/\"+fname+\".txt\", sep=\"\\t\", header=0)\n",
    "    X = torch.zeros([len(df), d], dtype=torch.float)\n",
    "    y = torch.zeros([len(df), 1], dtype=torch.int8)\n",
    "    for i, data in zip(range(len(df)), df.iterrows()):\n",
    "        y[i,0] = label[data[1][\"category\"]]\n",
    "        title_tokens = data[1][\"title\"].split()\n",
    "        X[i,:] = torch.from_numpy(word_vectors.get_mean_vector(keys=title_tokens, ignore_missing=True))\n",
    "        \n",
    "    # save as files\n",
    "    torch.save(X, \"X_\"+fname+\".pt\")\n",
    "    torch.save(y.squeeze().long(), \"y_\"+fname+\".pt\")"
   ]
  },
  {
   "cell_type": "markdown",
   "id": "8afd8784-359e-460d-8a5f-937fd60762a4",
   "metadata": {},
   "source": [
    "### 71. 単層ニューラルネットワークによる予測\n",
    "\n",
    "問題70で保存した行列を読み込み，学習データについて以下の計算を実行せよ．\n",
    "\n",
    "$$\\hat{y}_1=softmax(x_1W)$$\n",
    "\n",
    "$$\\hat{Y} =softmax(X_{[1:4]}W)$$\n",
    "\n",
    "ただし，softmax\n",
    "はソフトマックス関数，X[1:4]∈R4×d\n",
    "は特徴ベクトル x1,x2,x3,x4\n",
    "を縦に並べた行列である．"
   ]
  },
  {
   "cell_type": "code",
   "execution_count": 5,
   "id": "8cec6de8-00d8-4cdf-850d-888adfbae631",
   "metadata": {},
   "outputs": [
    {
     "data": {
      "text/plain": [
       "(tensor([0.2788, 0.2692, 0.2054, 0.2467], grad_fn=<SoftmaxBackward0>),\n",
       " tensor([[0.2788, 0.2692, 0.2054, 0.2467],\n",
       "         [0.2521, 0.2628, 0.2138, 0.2714],\n",
       "         [0.2598, 0.2485, 0.2463, 0.2454],\n",
       "         [0.2368, 0.2621, 0.2275, 0.2736]], grad_fn=<SoftmaxBackward0>))"
      ]
     },
     "execution_count": 5,
     "metadata": {},
     "output_type": "execute_result"
    }
   ],
   "source": [
    "X_train = torch.load(\"X_train.pt\")\n",
    "\n",
    "# weights (separate for 72. gradient calculation)\n",
    "W_1 = torch.rand(d, 4)\n",
    "W_set = W_1.clone()\n",
    "W_1.requires_grad=True\n",
    "W_set.requires_grad=True\n",
    "\n",
    "# softmax\n",
    "sm = torch.nn.Softmax(dim=-1)\n",
    "y_1 = sm(torch.matmul(X_train[0, :], W_1))\n",
    "y_set = sm(torch.matmul(X_train[:4, :], W_set))\n",
    "\n",
    "y_1, y_set"
   ]
  },
  {
   "cell_type": "markdown",
   "id": "63a68261-63c6-4f71-b27e-1d148ef1ef38",
   "metadata": {},
   "source": [
    "### 72. 損失と勾配の計算\n",
    "\n",
    "学習データの事例 x1\n",
    "と事例集合 x1,x2,x3,x4\n",
    "に対して，クロスエントロピー損失と，行列W\n",
    "に対する勾配を計算せよ．なお，ある事例xi\n",
    "に対して損失は次式で計算される．\n",
    "\n",
    "$l_i$ = −log[事例xiがyiに分類される確率]\n",
    "\n",
    "ただし，事例集合に対するクロスエントロピー損失は，その集合に含まれる各事例の損失の平均とする．\n",
    "\n"
   ]
  },
  {
   "cell_type": "code",
   "execution_count": 6,
   "id": "d0b6aba6-9ca1-4530-8265-e9f3f1036355",
   "metadata": {},
   "outputs": [
    {
     "name": "stdout",
     "output_type": "stream",
     "text": [
      "tensor(1.2774, grad_fn=<NegBackward0>) tensor(1.3962, grad_fn=<MeanBackward0>)\n",
      "tensor([[ 0.0034, -0.0013, -0.0010, -0.0012],\n",
      "        [ 0.0032, -0.0012, -0.0009, -0.0011],\n",
      "        [ 0.0023, -0.0008, -0.0006, -0.0008],\n",
      "        ...,\n",
      "        [ 0.0008, -0.0003, -0.0002, -0.0003],\n",
      "        [-0.0247,  0.0092,  0.0070,  0.0085],\n",
      "        [ 0.0134, -0.0050, -0.0038, -0.0046]])\n",
      "tensor([[-5.5565e-04,  2.3147e-04,  8.2420e-05,  2.4176e-04],\n",
      "        [-7.0057e-03,  3.6938e-03, -5.3830e-04,  3.8503e-03],\n",
      "        [ 7.3784e-03, -3.8622e-03,  5.0192e-04, -4.0181e-03],\n",
      "        ...,\n",
      "        [ 1.0529e-02, -5.4789e-03,  6.0080e-04, -5.6512e-03],\n",
      "        [-1.0952e-02,  5.8720e-03, -6.6792e-04,  5.7482e-03],\n",
      "        [ 1.4881e-02, -7.7351e-03,  5.7038e-04, -7.7161e-03]])\n"
     ]
    }
   ],
   "source": [
    "Y = torch.load(\"y_train.pt\")\n",
    "\n",
    "# cross-entropy loss\n",
    "loss_y_1 = -torch.log(y_1[int(Y[0])])\n",
    "loss_y_set = torch.mean(-torch.log(y_set[:, [int(y) for y in Y[:4]]]))\n",
    "print(loss_y_1, loss_y_set)\n",
    "\n",
    "# gradient\n",
    "loss_y_1.backward()\n",
    "print(W_1.grad)\n",
    "loss_y_set.backward()\n",
    "print(W_set.grad)"
   ]
  },
  {
   "cell_type": "markdown",
   "id": "09dbace5-ff87-4e64-aae2-dd582208a8a7",
   "metadata": {},
   "source": [
    "### 73. 確率的勾配降下法による学習\n",
    "確率的勾配降下法（SGD: Stochastic Gradient Descent）を用いて，行列W\n",
    "を学習せよ．なお，学習は適当な基準で終了させればよい（例えば「100エポックで終了」など）．"
   ]
  },
  {
   "cell_type": "code",
   "execution_count": 7,
   "id": "350e1a20-3f0d-465b-be7f-7e66dc275436",
   "metadata": {},
   "outputs": [
    {
     "name": "stdout",
     "output_type": "stream",
     "text": [
      "epoch=9, loss=1.3865008354187012\n",
      "epoch=19, loss=1.3864275217056274\n",
      "epoch=29, loss=1.3863543272018433\n",
      "epoch=39, loss=1.38628089427948\n",
      "epoch=49, loss=1.3862074613571167\n",
      "epoch=59, loss=1.386134147644043\n",
      "epoch=69, loss=1.3860607147216797\n",
      "epoch=79, loss=1.3859872817993164\n",
      "epoch=89, loss=1.3859138488769531\n",
      "epoch=99, loss=1.3858402967453003\n"
     ]
    }
   ],
   "source": [
    "from torch import nn\n",
    "\n",
    "dim_in = 300\n",
    "C = 4 # no. of classes\n",
    "\n",
    "model = nn.Sequential(\n",
    "    nn.Linear(dim_in, C, bias=False),\n",
    "    nn.Softmax(dim=-1)\n",
    "    )\n",
    "optimizer = torch.optim.SGD(model.parameters(), lr=0.01)\n",
    "loss_fn = nn.CrossEntropyLoss()\n",
    "\n",
    "X_train = torch.load(\"X_train.pt\")\n",
    "y_train = torch.load(\"y_train.pt\")\n",
    "\n",
    "EPOCHS = 100\n",
    "for epoch in range(EPOCHS):\n",
    "    # prediction and loss calculation\n",
    "    pred = model(X_train)\n",
    "    loss = loss_fn(pred, y_train)\n",
    "\n",
    "    # backpropagation and SGD\n",
    "    optimizer.zero_grad()\n",
    "    loss.backward()\n",
    "    optimizer.step()\n",
    "    \n",
    "    if epoch % 10 == 9:\n",
    "        print(f\"epoch={epoch}, loss={loss.item()}\")"
   ]
  },
  {
   "cell_type": "markdown",
   "id": "72922019-7e00-487b-b2bb-95f7b28e1766",
   "metadata": {},
   "source": [
    "### 74. 正解率の計測\n",
    "問題73で求めた行列を用いて学習データおよび評価データの事例を分類したとき，その正解率をそれぞれ求めよ．"
   ]
  },
  {
   "cell_type": "code",
   "execution_count": 9,
   "id": "17e1e9af-0db8-414f-aa11-b4845754082b",
   "metadata": {},
   "outputs": [
    {
     "data": {
      "text/plain": [
       "(tensor(0.2178), tensor(0.2294))"
      ]
     },
     "execution_count": 9,
     "metadata": {},
     "output_type": "execute_result"
    }
   ],
   "source": [
    "from sklearn.metrics import accuracy_score\n",
    "\n",
    "X_valid = torch.load(\"X_valid.pt\")\n",
    "y_valid = torch.load(\"y_valid.pt\")\n",
    "\n",
    "def get_acc(X, Y, classifier):\n",
    "    with torch.no_grad(): # not record this in grad calculation\n",
    "        pred = classifier(X)\n",
    "        return (pred.argmax(dim=1)==Y).sum() / Y.size()[0]\n",
    "\n",
    "get_acc(X_train, y_train, model), get_acc(X_valid, y_valid, model)"
   ]
  },
  {
   "cell_type": "markdown",
   "id": "84198673-32c9-46b8-8221-0966fb156702",
   "metadata": {},
   "source": [
    "### 75. 損失と正解率のプロット\n",
    "問題73のコードを改変し，各エポックのパラメータ更新が完了するたびに，訓練データでの損失，正解率，検証データでの損失，正解率をグラフにプロットし，学習の進捗状況を確認できるようにせよ．"
   ]
  },
  {
   "cell_type": "code",
   "execution_count": 23,
   "id": "f91450cd-d389-48e0-9415-77746ccec3de",
   "metadata": {},
   "outputs": [],
   "source": [
    "import matplotlib.pyplot as plt\n",
    "\n",
    "# redefine model/optimizer\n",
    "model = nn.Sequential(\n",
    "    nn.Linear(dim_in, C, bias=False),\n",
    "    nn.Softmax(dim=-1)\n",
    "    )\n",
    "optimizer = torch.optim.SGD(model.parameters(), lr=0.1)\n",
    "loss_fn = nn.CrossEntropyLoss()\n",
    "\n",
    "X_train = torch.load(\"X_train.pt\")\n",
    "y_train = torch.load(\"y_train.pt\")\n",
    "\n",
    "EPOCHS = 10000\n",
    "loss_t = torch.zeros([2, EPOCHS], dtype=torch.float)\n",
    "acc_t = torch.zeros([2, EPOCHS], dtype=torch.float)\n",
    "for epoch in range(EPOCHS):\n",
    "    # prediction and loss calculation\n",
    "    pred = model(X_train)\n",
    "    loss = loss_fn(pred, y_train)\n",
    "\n",
    "    # backpropagation and SGD\n",
    "    optimizer.zero_grad()\n",
    "    loss.backward()\n",
    "    optimizer.step()\n",
    "    \n",
    "    # added from 74.\n",
    "    # collect loss, acc values\n",
    "    with torch.no_grad():\n",
    "        loss_t[0, epoch] = loss\n",
    "        acc_t[0, epoch] = get_acc(X_train, y_train, model)\n",
    "        loss_t[1, epoch] = loss_fn(model(X_valid), y_valid)\n",
    "        acc_t[1, epoch] = get_acc(X_valid, y_valid, model)"
   ]
  },
  {
   "cell_type": "code",
   "execution_count": 24,
   "id": "e258648a-f1c5-44c7-8e63-af9f1ad45b7b",
   "metadata": {},
   "outputs": [
    {
     "data": {
      "image/png": "[encoded data removed]",
      "text/plain": [
       "<Figure size 1440x576 with 2 Axes>"
      ]
     },
     "metadata": {
      "needs_background": "light"
     },
     "output_type": "display_data"
    }
   ],
   "source": [
    "# plot epoch-loss, epoch-acc of train and valid \n",
    "fig = plt.figure(figsize=(20, 8))\n",
    "ax_loss = fig.add_subplot(121)\n",
    "ax_loss.plot(range(EPOCHS), loss_t[0,:].detach().numpy(), label=\"train\")\n",
    "ax_loss.plot(range(EPOCHS), loss_t[1,:].detach().numpy(), label=\"valid\")\n",
    "plt.legend()\n",
    "\n",
    "ax_acc = fig.add_subplot(122)\n",
    "ax_acc.plot(range(EPOCHS), acc_t[0,:].detach().numpy(), label=\"train\")\n",
    "ax_acc.plot(range(EPOCHS), acc_t[1,:].detach().numpy(), label=\"valid\")\n",
    "plt.legend()\n",
    "plt.show()"
   ]
  },
  {
   "cell_type": "markdown",
   "id": "155f0b1e-6259-4ed1-baac-02fc411806d9",
   "metadata": {},
   "source": [
    "### 76. チェックポイント\n",
    "問題75のコードを改変し，各エポックのパラメータ更新が完了するたびに，チェックポイント（学習途中のパラメータ（重み行列など）の値や最適化アルゴリズムの内部状態）をファイルに書き出せ．"
   ]
  },
  {
   "cell_type": "code",
   "execution_count": 20,
   "id": "d40dd714-11b9-4ea8-9147-0936ab692230",
   "metadata": {},
   "outputs": [
    {
     "data": {
      "text/plain": [
       "{'model': OrderedDict([('0.weight',\n",
       "               tensor([[-1.3553,  0.0884, -0.9608,  ...,  1.9498,  1.6075, -1.9848],\n",
       "                       [ 0.8788, -0.0880,  1.0990,  ..., -0.5389, -2.3047, -0.2771],\n",
       "                       [ 1.5462,  0.2335, -1.6150,  ..., -2.0580, -0.5628,  0.8395],\n",
       "                       [-1.1681, -0.2698,  1.3290,  ...,  0.6792,  1.2132,  1.5417]]))]),\n",
       " 'optimizer': {'state': {0: {'momentum_buffer': None}},\n",
       "  'param_groups': [{'lr': 0.1,\n",
       "    'momentum': 0,\n",
       "    'dampening': 0,\n",
       "    'weight_decay': 0,\n",
       "    'nesterov': False,\n",
       "    'maximize': False,\n",
       "    'params': [0]}]}}"
      ]
     },
     "execution_count": 20,
     "metadata": {},
     "output_type": "execute_result"
    }
   ],
   "source": [
    "# redefine model/optimizer\n",
    "model = nn.Sequential(\n",
    "    nn.Linear(dim_in, C, bias=False),\n",
    "    nn.Softmax(dim=-1)\n",
    "    )\n",
    "optimizer = torch.optim.SGD(model.parameters(), lr=0.1)\n",
    "#loss_fn = nn.CrossEntropyLoss()\n",
    "\n",
    "X_train = torch.load(\"X_train.pt\")\n",
    "y_train = torch.load(\"y_train.pt\")\n",
    "\n",
    "EPOCHS = 100\n",
    "for epoch in range(EPOCHS):\n",
    "    for x, y in zip(X_train, y_train):\n",
    "        # prediction and loss calculation\n",
    "        pred = model(x)\n",
    "        loss = loss_fn(pred, y)\n",
    "\n",
    "        # backpropagation and SGD\n",
    "        optimizer.zero_grad()\n",
    "        loss.backward()\n",
    "        optimizer.step()\n",
    "    \n",
    "    # changed from 75.\n",
    "    # collect weights (model), optimizer state\n",
    "    with torch.no_grad():\n",
    "        torch.save({'model': model.state_dict(),\n",
    "                    'optimizer': optimizer.state_dict()\n",
    "                   }, 'checkpoints/checkpoint-'+str(epoch)+'.pt')\n",
    "        \n",
    "# check result\n",
    "cp = torch.load('checkpoints/checkpoint-50.pt')\n",
    "cp"
   ]
  },
  {
   "cell_type": "markdown",
   "id": "14b62c63-62d5-4bde-a6c7-7fd942b3216e",
   "metadata": {},
   "source": [
    "### 77. ミニバッチ化\n",
    "問題76のコードを改変し，B 事例ごと(Batch) に損失・勾配を計算し，行列Wの値を更新せよ（ミニバッチ化）．B\n",
    "の値を1,2,4,8,…\n",
    "と変化させながら，1エポックの学習に要する時間を比較せよ．"
   ]
  },
  {
   "cell_type": "markdown",
   "id": "e6446d94-3818-42a1-bdfa-eb34d0a66af0",
   "metadata": {},
   "source": [
    "Solution #1: 手動でデータを minibatch に分割する"
   ]
  },
  {
   "cell_type": "code",
   "execution_count": 22,
   "id": "61d55fe0-9b3b-4e9e-9080-99e00d39aa74",
   "metadata": {},
   "outputs": [
    {
     "data": {
      "image/png": "[encoded data removed]",
      "text/plain": [
       "<Figure size 720x576 with 1 Axes>"
      ]
     },
     "metadata": {
      "needs_background": "light"
     },
     "output_type": "display_data"
    }
   ],
   "source": [
    "import time\n",
    "\n",
    "# # redefine model/optimizer\n",
    "# model = nn.Sequential(\n",
    "#     nn.Linear(dim_in, C, bias=False),\n",
    "#     nn.Softmax(dim=-1)\n",
    "#     )\n",
    "# optimizer = torch.optim.SGD(model.parameters(), lr=0.1)\n",
    "# #loss_fn = nn.CrossEntropyLoss()\n",
    "\n",
    "X_train = torch.load(\"X_train.pt\")\n",
    "y_train = torch.load(\"y_train.pt\")\n",
    "\n",
    "# minibatch: batch-size data/epoch\n",
    "EPOCHS = 100\n",
    "BATCHES = [2**i for i in range(11)] # batch size 1,2,4,...,1024\n",
    "times_rec = []\n",
    "n = len(X_train)\n",
    "\n",
    "for B in BATCHES:\n",
    "    times_tmp = []\n",
    "    model = nn.Sequential(\n",
    "        nn.Linear(dim_in, C, bias=False),\n",
    "        nn.Softmax(dim=-1)\n",
    "        )\n",
    "    optimizer = torch.optim.SGD(model.parameters(), lr=0.1)\n",
    "    for epoch in range(EPOCHS):\n",
    "        start_epoch = time.time()\n",
    "        for i in range((n-1)//B + 1):\n",
    "            # set indices and time variables\n",
    "            start_i = B * i\n",
    "            end_i = start_i + B\n",
    "\n",
    "            # prediction and loss calculation\n",
    "            pred = model(X_train[start_i:end_i])\n",
    "            loss = loss_fn(pred, y_train[start_i:end_i])\n",
    "\n",
    "            # backpropagation and SGD\n",
    "            optimizer.zero_grad()\n",
    "            loss.backward()\n",
    "            optimizer.step()\n",
    "\n",
    "        # execution time measurement\n",
    "        end_epoch = time.time()\n",
    "        elapsed = end_epoch - start_epoch\n",
    "        times_tmp.append(elapsed)\n",
    "    \n",
    "    # add avg execution time per epoch\n",
    "    times_rec.append(sum(times_tmp)/EPOCHS)\n",
    "\n",
    "# plot time\n",
    "fig = plt.figure(figsize=(10, 8))\n",
    "ax = fig.add_subplot(111)\n",
    "ax.set_xscale('log', basex=2)\n",
    "ax.plot(BATCHES, times_rec)\n",
    "plt.show()"
   ]
  },
  {
   "cell_type": "markdown",
   "id": "7ec21aa1-d33a-4512-8c2a-7bcf24875641",
   "metadata": {},
   "source": [
    "Solution #2: use TensorDataset, DataLoader\n",
    "\n",
    "note: 少し速くなる"
   ]
  },
  {
   "cell_type": "code",
   "execution_count": 24,
   "id": "8fcbdd52-a994-4c03-810f-e21550b63be1",
   "metadata": {},
   "outputs": [
    {
     "data": {
      "image/png": "[encoded data removed]",
      "text/plain": [
       "<Figure size 720x576 with 1 Axes>"
      ]
     },
     "metadata": {
      "needs_background": "light"
     },
     "output_type": "display_data"
    }
   ],
   "source": [
    "from torch.utils.data import TensorDataset, DataLoader\n",
    "import time\n",
    "\n",
    "# # redefine model/optimizer\n",
    "# model = nn.Sequential(\n",
    "#     nn.Linear(dim_in, C, bias=False),\n",
    "#     nn.Softmax(dim=-1)\n",
    "#     )\n",
    "# optimizer = torch.optim.SGD(model.parameters(), lr=0.1)\n",
    "# #loss_fn = nn.CrossEntropyLoss()\n",
    "\n",
    "# minibatch: batch-size data/epoch\n",
    "EPOCHS = 100\n",
    "BATCHES = [2**i for i in range(11)] # batch size 1,2,4,...,1024\n",
    "times_rec = []\n",
    "train_ds = TensorDataset(X_train, y_train)\n",
    "\n",
    "for B in BATCHES:\n",
    "    times_tmp = []\n",
    "    model = nn.Sequential(\n",
    "        nn.Linear(dim_in, C, bias=False),\n",
    "        nn.Softmax(dim=-1)\n",
    "        )\n",
    "    optimizer = torch.optim.SGD(model.parameters(), lr=0.1)\n",
    "    train_dl = DataLoader(train_ds, batch_size=B)\n",
    "    for epoch in range(EPOCHS):\n",
    "        # set time variable\n",
    "        start_epoch = time.time()\n",
    "        \n",
    "        # prediction and loss calculation\n",
    "        for xb, yb in train_dl:\n",
    "            pred = model(xb)\n",
    "            loss = loss_fn(pred, yb)\n",
    "        \n",
    "        # backpropagation and SGD\n",
    "        optimizer.zero_grad()\n",
    "        loss.backward()\n",
    "        optimizer.step()\n",
    "        \n",
    "        # execution time measurement\n",
    "        end_epoch = time.time()\n",
    "        elapsed = end_epoch - start_epoch\n",
    "        times_tmp.append(elapsed)\n",
    "    \n",
    "    # add avg execution time per epoch\n",
    "    times_rec.append(sum(times_tmp)/EPOCHS)\n",
    "\n",
    "# plot time\n",
    "fig = plt.figure(figsize=(10, 8))\n",
    "ax = fig.add_subplot(111)\n",
    "ax.set_xscale('log', basex=2)\n",
    "ax.plot(BATCHES, times_rec)\n",
    "plt.show()"
   ]
  },
  {
   "cell_type": "markdown",
   "id": "5acc0e39-ee80-4411-af68-e0f20f1ddf08",
   "metadata": {},
   "source": [
    "### 78. GPU上での学習\n",
    "問題77のコードを改変し，GPU上で学習を実行せよ．"
   ]
  },
  {
   "cell_type": "code",
   "execution_count": 25,
   "id": "8abfd560-8dab-4de0-9bd7-edc1b51bbe40",
   "metadata": {},
   "outputs": [
    {
     "name": "stdout",
     "output_type": "stream",
     "text": [
      "True\n"
     ]
    }
   ],
   "source": [
    "# check access to gpu\n",
    "print(torch.cuda.is_available())"
   ]
  },
  {
   "cell_type": "code",
   "execution_count": 26,
   "id": "021e08c1-527e-4a74-bc47-c456fec6e993",
   "metadata": {},
   "outputs": [
    {
     "name": "stdout",
     "output_type": "stream",
     "text": [
      "Mon Jun 20 18:01:51 2022       \n",
      "+-----------------------------------------------------------------------------+\n",
      "| NVIDIA-SMI 470.129.06   Driver Version: 470.129.06   CUDA Version: 11.4     |\n",
      "|-------------------------------+----------------------+----------------------+\n",
      "| GPU  Name        Persistence-M| Bus-Id        Disp.A | Volatile Uncorr. ECC |\n",
      "| Fan  Temp  Perf  Pwr:Usage/Cap|         Memory-Usage | GPU-Util  Compute M. |\n",
      "|                               |                      |               MIG M. |\n",
      "|===============================+======================+======================|\n",
      "|   0  NVIDIA GeForce ...  Off  | 00000000:01:00.0 Off |                  N/A |\n",
      "| 28%   37C    P8    30W / 250W |      3MiB / 11011MiB |      0%      Default |\n",
      "|                               |                      |                  N/A |\n",
      "+-------------------------------+----------------------+----------------------+\n",
      "|   1  NVIDIA GeForce ...  Off  | 00000000:02:00.0 Off |                  N/A |\n",
      "| 27%   34C    P8    24W / 250W |      3MiB / 11019MiB |      0%      Default |\n",
      "|                               |                      |                  N/A |\n",
      "+-------------------------------+----------------------+----------------------+\n",
      "                                                                               \n",
      "+-----------------------------------------------------------------------------+\n",
      "| Processes:                                                                  |\n",
      "|  GPU   GI   CI        PID   Type   Process name                  GPU Memory |\n",
      "|        ID   ID                                                   Usage      |\n",
      "|=============================================================================|\n",
      "|  No running processes found                                                 |\n",
      "+-----------------------------------------------------------------------------+\n"
     ]
    }
   ],
   "source": [
    "!nvidia-smi"
   ]
  },
  {
   "cell_type": "code",
   "execution_count": 27,
   "id": "b774bd4a-db2e-4630-9c90-46584a9bc532",
   "metadata": {},
   "outputs": [
    {
     "data": {
      "image/png": "[encoded data removed]",
      "text/plain": [
       "<Figure size 720x576 with 1 Axes>"
      ]
     },
     "metadata": {
      "needs_background": "light"
     },
     "output_type": "display_data"
    }
   ],
   "source": [
    "# CUDA device\n",
    "cuda = torch.device(\"cuda\")\n",
    "\n",
    "# minibatch: batch-size data/epoch\n",
    "EPOCHS = 100\n",
    "BATCHES = [2**i for i in range(11)] # batch size 1,2,4,...,1024\n",
    "times_rec = []\n",
    "\n",
    "# move data to GPU\n",
    "train_ds = TensorDataset(X_train.to(cuda), y_train.to(cuda))\n",
    "\n",
    "for B in BATCHES:\n",
    "    # initialization\n",
    "    times_tmp = []\n",
    "    model = nn.Sequential(\n",
    "        nn.Linear(dim_in, C, bias=False),\n",
    "        nn.Softmax(dim=-1)\n",
    "        )\n",
    "    optimizer = torch.optim.SGD(model.parameters(), lr=0.1) \n",
    "    \n",
    "    # move model to GPU\n",
    "    model.to(cuda)\n",
    "    \n",
    "    train_dl = DataLoader(train_ds, batch_size=B)\n",
    "    for epoch in range(EPOCHS):\n",
    "        # set time variable\n",
    "        start_epoch = time.time()\n",
    "        \n",
    "        # prediction and loss calculation\n",
    "        for xb, yb in train_dl:\n",
    "            pred = model(xb)\n",
    "            loss = loss_fn(pred, yb)\n",
    "        \n",
    "        # backpropagation and SGD\n",
    "        optimizer.zero_grad()\n",
    "        loss.backward()\n",
    "        optimizer.step()\n",
    "        \n",
    "        # execution time measurement\n",
    "        end_epoch = time.time()\n",
    "        elapsed = end_epoch - start_epoch\n",
    "        times_tmp.append(elapsed)\n",
    "    \n",
    "    # add avg execution time per epoch\n",
    "    times_rec.append(sum(times_tmp)/EPOCHS)\n",
    "    \n",
    "# plot time\n",
    "fig = plt.figure(figsize=(10, 8))\n",
    "ax = fig.add_subplot(111)\n",
    "ax.set_xscale('log', basex=2)\n",
    "ax.plot(BATCHES, times_rec)\n",
    "plt.show()"
   ]
  },
  {
   "cell_type": "markdown",
   "id": "f2df7e20-bca1-40b9-9812-1906d41932af",
   "metadata": {},
   "source": [
    "### 79. 多層ニューラルネットワーク\n",
    "問題78のコードを改変し，バイアス項の導入や多層化など，ニューラルネットワークの形状を変更しながら，高性能なカテゴリ分類器を構築せよ．"
   ]
  },
  {
   "cell_type": "code",
   "execution_count": 45,
   "id": "9886e5ee",
   "metadata": {},
   "outputs": [
    {
     "data": {
      "text/plain": [
       "tensor([0.6856, 0.7091])"
      ]
     },
     "execution_count": 45,
     "metadata": {},
     "output_type": "execute_result"
    }
   ],
   "source": [
    "# 75. の train, valid の正解率\n",
    "acc_t[:,-1]"
   ]
  },
  {
   "cell_type": "code",
   "execution_count": 59,
   "id": "48914913-5609-469b-a983-c9ffe598b443",
   "metadata": {},
   "outputs": [
    {
     "data": {
      "text/plain": [
       "(tensor(2162), tensor(0.7871))"
      ]
     },
     "execution_count": 59,
     "metadata": {},
     "output_type": "execute_result"
    }
   ],
   "source": [
    "# CUDA device\n",
    "cuda = torch.device(\"cuda\")\n",
    "\n",
    "# minibatch: batch-size data/epoch\n",
    "EPOCHS = 100\n",
    "BATCHES = [2**i for i in range(11)] # batch size 1,2,4,...,1024\n",
    "\n",
    "# for recording results\n",
    "times_rec = []\n",
    "acc_79 = torch.zeros([2, len(BATCHES), EPOCHS], dtype=torch.float)\n",
    "acc_79.to(cuda)\n",
    "\n",
    "# move data to GPU\n",
    "train_ds = TensorDataset(X_train.to(cuda), y_train.to(cuda))\n",
    "\n",
    "for B in BATCHES:\n",
    "    # initialization\n",
    "    times_tmp = []\n",
    "    model = nn.Sequential(\n",
    "        nn.Linear(dim_in, 64, bias=True),\n",
    "        nn.LayerNorm(64),\n",
    "        nn.Linear(64, C, bias=True),\n",
    "        nn.Softmax(dim=-1)\n",
    "        )\n",
    "    optimizer = torch.optim.SGD(model.parameters(), lr=0.1) \n",
    "    \n",
    "    # move model to GPU\n",
    "    model.to(cuda)\n",
    "    \n",
    "    train_dl = DataLoader(train_ds, batch_size=B)\n",
    "    for epoch in range(EPOCHS):\n",
    "        # set time variable\n",
    "        start_epoch = time.time()\n",
    "        \n",
    "        # prediction and loss calculation\n",
    "        for xb, yb in train_dl:\n",
    "            pred = model(xb)\n",
    "            loss = loss_fn(pred, yb)\n",
    "        \n",
    "        # backpropagation and SGD\n",
    "        optimizer.zero_grad()\n",
    "        loss.backward()\n",
    "        optimizer.step()\n",
    "        \n",
    "        # execution time measurement\n",
    "        end_epoch = time.time()\n",
    "        elapsed = end_epoch - start_epoch\n",
    "        times_tmp.append(elapsed)\n",
    "\n",
    "        with torch.no_grad():\n",
    "            acc_79[0, int(np.log2(B)), epoch] = get_acc(X_train.to(cuda), y_train.to(cuda), model)\n",
    "            acc_79[1, int(np.log2(B)), epoch] = get_acc(X_valid.to(cuda), y_valid.to(cuda), model)\n",
    "    \n",
    "    # add avg execution time per epoch\n",
    "    times_rec.append(sum(times_tmp)/EPOCHS)\n",
    "\n",
    "acc_79.argmax(), acc_79.max()"
   ]
  },
  {
   "cell_type": "code",
   "execution_count": 60,
   "id": "f963dab6",
   "metadata": {},
   "outputs": [
    {
     "data": {
      "text/plain": [
       "(tensor(8), tensor(0.7665), tensor(0.7826))"
      ]
     },
     "execution_count": 60,
     "metadata": {},
     "output_type": "execute_result"
    }
   ],
   "source": [
    "# best mini-batch size and the accuracies in training and valid\n",
    "torch.argmax(acc_79[0,:,-1]), torch.max(acc_79[0,:,-1]), torch.max(acc_79[1,:,-1])"
   ]
  },
  {
   "cell_type": "code",
   "execution_count": 61,
   "id": "17b7e290",
   "metadata": {},
   "outputs": [
    {
     "data": {
      "image/png": "[encoded data removed]",
      "text/plain": [
       "<Figure size 720x576 with 1 Axes>"
      ]
     },
     "metadata": {
      "needs_background": "light"
     },
     "output_type": "display_data"
    }
   ],
   "source": [
    "# plot time\n",
    "fig = plt.figure(figsize=(10, 8))\n",
    "ax = fig.add_subplot(111)\n",
    "ax.set_xscale('log', basex=2)\n",
    "ax.plot(BATCHES, times_rec)\n",
    "plt.show()"
   ]
  },
  {
   "cell_type": "code",
   "execution_count": null,
   "id": "9ba0fb75",
   "metadata": {},
   "outputs": [],
   "source": []
  }
 ],
 "metadata": {
  "kernelspec": {
   "display_name": "Python 3.8.3 ('base')",
   "language": "python",
   "name": "python3"
  },
  "language_info": {
   "codemirror_mode": {
    "name": "ipython",
    "version": 3
   },
   "file_extension": ".py",
   "mimetype": "text/x-python",
   "name": "python",
   "nbconvert_exporter": "python",
   "pygments_lexer": "ipython3",
   "version": "3.8.3"
  },
  "vscode": {
   "interpreter": {
    "hash": "40d3a090f54c6569ab1632332b64b2c03c39dcf918b08424e98f38b5ae0af88f"
   }
  }
 },
 "nbformat": 4,
 "nbformat_minor": 5
}
