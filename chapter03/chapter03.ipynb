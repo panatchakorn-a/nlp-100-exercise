{
 "cells": [
  {
   "cell_type": "markdown",
   "id": "c87675c0-7dbb-4589-987a-0ca77a6339b4",
   "metadata": {},
   "source": [
    "## 第3章: 正規表現\n",
    "Wikipediaの記事を以下のフォーマットで書き出したファイルjawiki-country.json.gzがある．\n",
    "\n",
    "- 1行に1記事の情報がJSON形式で格納される\n",
    "- 各行には記事名が”title”キーに，記事本文が”text”キーの辞書オブジェクトに格納され，そのオブジェクトがJSON形式で書き出される\n",
    "- ファイル全体はgzipで圧縮される\n",
    "\n",
    "以下の処理を行うプログラムを作成せよ．"
   ]
  },
  {
   "cell_type": "markdown",
   "id": "c770ec2e-d7b1-4f2f-8f14-5bcbaac0748f",
   "metadata": {},
   "source": [
    "### 20. JSONデータの読み込み\n",
    "Wikipedia記事のJSONファイルを読み込み，「イギリス」に関する記事本文を表示せよ．問題21-29では，ここで抽出した記事本文に対して実行せよ．\n",
    "\n"
   ]
  },
  {
   "cell_type": "code",
   "execution_count": 1,
   "id": "be91fcac-7695-439f-9761-20120117c12b",
   "metadata": {},
   "outputs": [],
   "source": [
    "# unzip file\n",
    "!gzip -dk jawiki-country.json.gz"
   ]
  },
  {
   "cell_type": "code",
   "execution_count": 2,
   "id": "ad8a1ea6-4812-4aab-a934-3023b8cad556",
   "metadata": {},
   "outputs": [
    {
     "name": "stdout",
     "output_type": "stream",
     "text": [
      "{{redirect|UK}}\n",
      "{{redirect|英国|春秋時代の諸侯国|英 (春秋)}}\n",
      "{{Otheruses|ヨーロッパの国|長崎県・熊本県の郷土料理|いぎりす}}\n",
      "{{基礎情報 国\n",
      "|略名  =イギリス\n",
      "|日本語国名 = グレートブリテン及び北アイルランド連合王国\n",
      "|公式国名 = {{lang|en|United Kingdom of Great Britain and Northern Ireland}}<ref>英語以外での正式国名:<br />\n",
      "*{{lang|gd|An Rìoghachd Aonaichte na Breatainn Mhòr agus Eirinn mu Thuath}}（[[スコットランド・ゲール語]]）\n",
      "*{{lang|cy|Teyrnas Gyfunol Prydain Fawr a Gogledd Iwerddon}}（[[ウェールズ語]]）\n",
      "*{{lang|ga|Ríocht Aontaithe na Breataine Móire agus Tuaisceart na hÉireann}}（[[アイルランド語]]）\n",
      "*{{lang|kw|An Rywvaneth Unys a Vreten Veur hag Iwerdhon Glédh}}（[[コーンウォール語]]）\n",
      "*{{lang|sco|Unitit Kinrick o Great Breetain an Northren Ireland}}（[[スコットランド語]]）\n",
      "**{{lang|sco|Claught Kängrick o Docht Brätain an Norlin Airlann}}、{{lang|sco|Unitet Kängdom o Great Brittain an Norlin Airlann}}（アルスター・スコットランド語）</ref>\n",
      "|国旗画像 = Flag of the United Kingdom.svg\n",
      "|国章画像 = [[ファイル:Royal Coat of Arms of the United Kingdom.svg|85px|イギリスの国章]]\n",
      "|国章リンク =（[[イギリスの国章|国章]]）\n",
      "|標語 = {{lang|fr|[[Dieu et mon droit]]}}<br />（[[フランス語]]:[[Die\n"
     ]
    }
   ],
   "source": [
    "import json\n",
    "\n",
    "with open('jawiki-country.json', 'r') as f:\n",
    "    lines = f.readlines()\n",
    "    for line in lines:\n",
    "        line_json = json.JSONDecoder().decode(line)\n",
    "        if line_json[\"title\"] == \"イギリス\":\n",
    "            text_england = line_json[\"text\"]\n",
    "        \n",
    "print(text_england[:1000])"
   ]
  },
  {
   "cell_type": "markdown",
   "id": "698bec41-8119-41e6-9a54-e1dd3b9f272a",
   "metadata": {},
   "source": [
    "### 21. カテゴリ名を含む行を抽出\n",
    "\n",
    "記事中でカテゴリ名を宣言している行を抽出せよ．"
   ]
  },
  {
   "cell_type": "code",
   "execution_count": 3,
   "id": "7cdf2ae6-0190-482f-ba0d-01f240550659",
   "metadata": {},
   "outputs": [
    {
     "name": "stdout",
     "output_type": "stream",
     "text": [
      "[[Category:イギリス|*]]\n",
      "[[Category:イギリス連邦加盟国]]\n",
      "[[Category:英連邦王国|*]]\n",
      "[[Category:G8加盟国]]\n",
      "[[Category:欧州連合加盟国|元]]\n",
      "[[Category:海洋国家]]\n",
      "[[Category:現存する君主国]]\n",
      "[[Category:島国]]\n",
      "[[Category:1801年に成立した国家・領域]]\n"
     ]
    }
   ],
   "source": [
    "import re\n",
    "\n",
    "text_england_lines = re.split(\"\\n\", text_england)\n",
    "category_lines = [line for line in text_england_lines if re.search(r\"\\[\\[Category:.+\\]\\]\", line)]\n",
    "\n",
    "for line in category_lines:\n",
    "    print(line)"
   ]
  },
  {
   "cell_type": "markdown",
   "id": "0bfb5d9e-5a90-4bb1-961a-c8864b33a27b",
   "metadata": {},
   "source": [
    "### 22. カテゴリ名の抽出\n",
    "\n",
    "記事のカテゴリ名を（行単位ではなく名前で）抽出せよ．"
   ]
  },
  {
   "cell_type": "code",
   "execution_count": 4,
   "id": "5ec21b93-55cf-4c02-8ee0-f9a15cc85efb",
   "metadata": {},
   "outputs": [
    {
     "data": {
      "text/plain": [
       "['イギリス',\n",
       " 'イギリス連邦加盟国',\n",
       " '英連邦王国',\n",
       " 'G8加盟国',\n",
       " '欧州連合加盟国',\n",
       " '海洋国家',\n",
       " '現存する君主国',\n",
       " '島国',\n",
       " '1801年に成立した国家・領域']"
      ]
     },
     "execution_count": 4,
     "metadata": {},
     "output_type": "execute_result"
    }
   ],
   "source": [
    "category_names = [re.search(r\"(((?<=\\[\\[Category:).+)(.+(?=\\|.)))|(((?<=\\[\\[Category:).+)(.+(?=\\]\\])))\", line).group(0) for line in category_lines]\n",
    "category_names"
   ]
  },
  {
   "cell_type": "markdown",
   "id": "d00f0e68-5ce9-4666-80b1-b6ab15f347e4",
   "metadata": {},
   "source": [
    "### 23. セクション構造\n",
    "\n",
    "記事中に含まれるセクション名とそのレベル（例えば”== セクション名 ==”なら1）を表示せよ．"
   ]
  },
  {
   "cell_type": "code",
   "execution_count": 5,
   "id": "e5599fdf-182c-4491-969d-f7a7cfd3b599",
   "metadata": {},
   "outputs": [
    {
     "name": "stdout",
     "output_type": "stream",
     "text": [
      "国名, level: 1\n",
      "歴史, level: 1\n",
      "地理, level: 1\n",
      "主要都市, level: 2\n",
      "気候, level: 2\n",
      "政治, level: 1\n",
      "元首, level: 2\n",
      "法, level: 2\n",
      "内政, level: 2\n",
      "地方行政区分, level: 2\n",
      "外交・軍事, level: 2\n",
      "経済, level: 1\n",
      "鉱業, level: 2\n",
      "農業, level: 2\n",
      "貿易, level: 2\n",
      "不動産, level: 2\n",
      "エネルギー政策, level: 2\n",
      "通貨, level: 2\n",
      "企業, level: 2\n",
      "通信, level: 3\n",
      "交通, level: 1\n",
      "道路, level: 2\n",
      "鉄道, level: 2\n",
      "海運, level: 2\n",
      "航空, level: 2\n",
      "科学技術, level: 1\n",
      "国民, level: 1\n",
      "言語, level: 2\n",
      "宗教, level: 2\n",
      "婚姻, level: 2\n",
      "移住, level: 2\n",
      "教育, level: 2\n",
      "医療, level: 2\n",
      "文化, level: 1\n",
      "食文化, level: 2\n",
      "文学, level: 2\n",
      "哲学, level: 2\n",
      "音楽, level: 2\n",
      "ポピュラー音楽, level: 3\n",
      "映画, level: 2\n",
      "コメディ, level: 2\n",
      "国花, level: 2\n",
      "世界遺産, level: 2\n",
      "祝祭日, level: 2\n",
      "スポーツ, level: 2\n",
      "サッカー, level: 3\n",
      "クリケット, level: 3\n",
      "競馬, level: 3\n",
      "モータースポーツ, level: 3\n",
      "野球, level: 3\n",
      "カーリング, level: 3\n",
      "自転車競技, level: 3\n",
      "脚注, level: 1\n",
      "関連項目, level: 1\n",
      "外部リンク, level: 1\n"
     ]
    }
   ],
   "source": [
    "sections = re.findall(r\"==+.+==+\", text_england)\n",
    "for section in sections:\n",
    "    equals = re.findall(r\"(==+).+\\1\", section)\n",
    "    name = re.sub(r\"=|\\s\", \"\", section)\n",
    "    # print(equals)\n",
    "    print(f'{name}, level: {len(equals[0])-1}')"
   ]
  },
  {
   "cell_type": "markdown",
   "id": "194f40e4-d3b3-413d-bceb-89a204fc7563",
   "metadata": {},
   "source": [
    "### 24. ファイル参照の抽出\n",
    "記事から参照されているメディアファイルをすべて抜き出せ．"
   ]
  },
  {
   "cell_type": "code",
   "execution_count": 6,
   "id": "66124aa2-6eb5-40f8-8664-61a04e96cd70",
   "metadata": {},
   "outputs": [
    {
     "name": "stdout",
     "output_type": "stream",
     "text": [
      "No. of files: 28\n",
      "\n",
      "Royal Coat of Arms of the United Kingdom.svg\n",
      "United States Navy Band - God Save the Queen.ogg\n",
      "Descriptio Prime Tabulae Europae.jpg\n",
      "Lenepveu, Jeanne d'Arc au siège d'Orléans.jpg\n",
      "London.bankofengland.arp.jpg\n",
      "Battle of Waterloo 1815.PNG\n",
      "Uk topo en.jpg\n",
      "BenNevis2005.jpg\n",
      "Population density UK 2011 census.png\n",
      "2019 Greenwich Peninsula & Canary Wharf.jpg\n",
      "Birmingham Skyline from Edgbaston Cricket Ground crop.jpg\n",
      "Leeds CBD at night.jpg\n",
      "Glasgow and the Clyde from the air (geograph 4665720).jpg\n",
      "Palace of Westminster, London - Feb 2007.jpg\n",
      "Scotland Parliament Holyrood.jpg\n",
      "Donald Trump and Theresa May (33998675310) (cropped).jpg\n",
      "Soldiers Trooping the Colour, 16th June 2007.jpg\n",
      "City of London skyline from London City Hall - Oct 2008.jpg\n",
      "Oil platform in the North SeaPros.jpg\n",
      "Eurostar at St Pancras Jan 2008.jpg\n",
      "Heathrow Terminal 5C Iwelumo-1.jpg\n",
      "Airbus A380-841 G-XLEB British Airways (10424102995).jpg\n",
      "UKpop.svg\n",
      "Anglospeak.svg\n",
      "Royal Aberdeen Children's Hospital.jpg\n",
      "CHANDOS3.jpg\n",
      "The Fabs.JPG\n",
      "Wembley Stadium, illuminated.jpg\n"
     ]
    }
   ],
   "source": [
    "files = re.findall(r\"(?<=\\[\\[ファイル:).+?(?=[\\|\\]])\", text_england)\n",
    "\n",
    "print(f'No. of files: {len(files)}\\n')\n",
    "for f in files:\n",
    "    print(f)"
   ]
  },
  {
   "cell_type": "markdown",
   "id": "665e5dd6-f252-4a11-bb74-ba035a77f035",
   "metadata": {},
   "source": [
    "### 25. テンプレートの抽出\n",
    "記事中に含まれる「基礎情報」テンプレートのフィールド名と値を抽出し，辞書オブジェクトとして格納せよ．"
   ]
  },
  {
   "cell_type": "code",
   "execution_count": 7,
   "id": "97329cd8-7900-4c4f-b7f1-fc8c51e6aff6",
   "metadata": {},
   "outputs": [
    {
     "data": {
      "text/plain": [
       "{'略名': 'イギリス',\n",
       " '日本語国名': 'グレートブリテン及び北アイルランド連合王国',\n",
       " '公式国名': '{{lang|en|United Kingdom of Great Britain and Northern Ireland}}<ref>英語以外での正式国名:<br />\\n*{{lang|gd|An Rìoghachd Aonaichte na Breatainn Mhòr agus Eirinn mu Thuath}}（[[スコットランド・ゲール語]]）\\n*{{lang|cy|Teyrnas Gyfunol Prydain Fawr a Gogledd Iwerddon}}（[[ウェールズ語]]）\\n*{{lang|ga|Ríocht Aontaithe na Breataine Móire agus Tuaisceart na hÉireann}}（[[アイルランド語]]）\\n*{{lang|kw|An Rywvaneth Unys a Vreten Veur hag Iwerdhon Glédh}}（[[コーンウォール語]]）\\n*{{lang|sco|Unitit Kinrick o Great Breetain an Northren Ireland}}（[[スコットランド語]]）\\n**{{lang|sco|Claught Kängrick o Docht Brätain an Norlin Airlann}}、{{lang|sco|Unitet Kängdom o Great Brittain an Norlin Airlann}}（アルスター・スコットランド語）</ref>',\n",
       " '国旗画像': 'Flag of the United Kingdom.svg',\n",
       " '国章画像': '[[ファイル:Royal Coat of Arms of the United Kingdom.svg|85px|イギリスの国章]]',\n",
       " '国章リンク': '（[[イギリスの国章|国章]]）',\n",
       " '標語': '{{lang|fr|[[Dieu et mon droit]]}}<br />（[[フランス語]]:[[Dieu et mon droit|神と我が権利]]）',\n",
       " '国歌': \"[[女王陛下万歳|{{lang|en|God Save the Queen}}]]{{en icon}}<br />''神よ女王を護り賜え''<br />{{center|[[ファイル:United States Navy Band - God Save the Queen.ogg]]}}\",\n",
       " '地図画像': 'Europe-UK.svg',\n",
       " '位置画像': 'United Kingdom (+overseas territories) in the World (+Antarctica claims).svg',\n",
       " '公用語': '[[英語]]',\n",
       " '首都': '[[ロンドン]]（事実上）',\n",
       " '最大都市': 'ロンドン',\n",
       " '元首等肩書': '[[イギリスの君主|女王]]',\n",
       " '元首等氏名': '[[エリザベス2世]]',\n",
       " '首相等肩書': '[[イギリスの首相|首相]]',\n",
       " '首相等氏名': '[[ボリス・ジョンソン]]',\n",
       " '他元首等肩書1': '[[貴族院 (イギリス)|貴族院議長]]',\n",
       " '他元首等氏名1': '[[:en:Norman Fowler, Baron Fowler|ノーマン・ファウラー]]',\n",
       " '他元首等肩書2': '[[庶民院 (イギリス)|庶民院議長]]',\n",
       " '他元首等氏名2': '{{仮リンク|リンゼイ・ホイル|en|Lindsay Hoyle}}',\n",
       " '他元首等肩書3': '[[連合王国最高裁判所|最高裁判所長官]]',\n",
       " '他元首等氏名3': '[[:en:Brenda Hale, Baroness Hale of Richmond|ブレンダ・ヘイル]]',\n",
       " '面積順位': '76',\n",
       " '面積大きさ': '1 E11',\n",
       " '面積値': '244,820',\n",
       " '水面積率': '1.3%',\n",
       " '人口統計年': '2018',\n",
       " '人口順位': '22',\n",
       " '人口大きさ': '1 E7',\n",
       " '人口値': '6643万5600<ref>{{Cite web|url=https://www.ons.gov.uk/peoplepopulationandcommunity/populationandmigration/populationestimates|title=Population estimates - Office for National Statistics|accessdate=2019-06-26|date=2019-06-26}}</ref>',\n",
       " '人口密度値': '271',\n",
       " 'GDP統計年元': '2012',\n",
       " 'GDP値元': '1兆5478億<ref name=\"imf-statistics-gdp\">[http://www.imf.org/external/pubs/ft/weo/2012/02/weodata/weorept.aspx?pr.x=70&pr.y=13&sy=2010&ey=2012&scsm=1&ssd=1&sort=country&ds=.&br=1&c=112&s=NGDP%2CNGDPD%2CPPPGDP%2CPPPPC&grp=0&a=IMF>Data and Statistics>World Economic Outlook Databases>By Countrise>United Kingdom]</ref>',\n",
       " 'GDP統計年MER': '2012',\n",
       " 'GDP順位MER': '6',\n",
       " 'GDP値MER': '2兆4337億<ref name=\"imf-statistics-gdp\" />',\n",
       " 'GDP統計年': '2012',\n",
       " 'GDP順位': '6',\n",
       " 'GDP値': '2兆3162億<ref name=\"imf-statistics-gdp\" />',\n",
       " 'GDP/人': '36,727<ref name=\"imf-statistics-gdp\" />',\n",
       " '建国形態': '建国',\n",
       " '確立形態1': '[[イングランド王国]]／[[スコットランド王国]]<br />（両国とも[[合同法 (1707年)|1707年合同法]]まで）',\n",
       " '確立年月日1': '927年／843年',\n",
       " '確立形態2': '[[グレートブリテン王国]]成立<br />（1707年合同法）',\n",
       " '確立年月日2': '1707年{{0}}5月{{0}}1日',\n",
       " '確立形態3': '[[グレートブリテン及びアイルランド連合王国]]成立<br />（[[合同法 (1800年)|1800年合同法]]）',\n",
       " '確立年月日3': '1801年{{0}}1月{{0}}1日',\n",
       " '確立形態4': \"現在の国号「'''グレートブリテン及び北アイルランド連合王国'''」に変更\",\n",
       " '確立年月日4': '1927年{{0}}4月12日',\n",
       " '通貨': '[[スターリング・ポンド|UKポンド]] (£)',\n",
       " '通貨コード': 'GBP',\n",
       " '時間帯': '±0',\n",
       " '夏時間': '+1',\n",
       " 'ISO': '3166-1 = GB / GBR',\n",
       " 'ccTLD': '[[.uk]] / [[.gb]]<ref>使用は.ukに比べ圧倒的少数。</ref>',\n",
       " '国際電話番号': '44',\n",
       " '注記': '<references/>\\n'}"
      ]
     },
     "execution_count": 7,
     "metadata": {},
     "output_type": "execute_result"
    }
   ],
   "source": [
    "basic_info = re.search(r\"(?<=\\{\\{基礎情報\\s国\\n\\|).*?(?=\\}\\}\\n\\n)\", text_england, re.DOTALL)\n",
    "basic_info_list = re.split(r\"\\n\\|\", basic_info.group(0), 60, re.DOTALL)\n",
    "basic_info_dict = {re.split(r\"[\\s=]+\", info, 1)[0]:re.split(r\"[\\s=]+\", info, 1)[1] for info in basic_info_list}\n",
    "basic_info_dict"
   ]
  },
  {
   "cell_type": "markdown",
   "id": "f629850a-cf22-4de4-8c4e-fe2bfd062b71",
   "metadata": {},
   "source": [
    "### 26. 強調マークアップの除去\n",
    "\n",
    "25の処理時に，テンプレートの値からMediaWikiの強調マークアップ（弱い強調，強調，強い強調のすべて）を除去してテキストに変換せよ（参考: マークアップ早見表）．"
   ]
  },
  {
   "cell_type": "code",
   "execution_count": 8,
   "id": "9388c1d5-e898-4a0f-a2bd-7f3e18ca4726",
   "metadata": {},
   "outputs": [
    {
     "name": "stdout",
     "output_type": "stream",
     "text": [
      "確立形態4 現在の国号「'''グレートブリテン及び北アイルランド連合王国'''」に変更\n",
      "確立形態4 現在の国号「グレートブリテン及び北アイルランド連合王国」に変更\n"
     ]
    }
   ],
   "source": [
    "for key, info in basic_info_dict.items():\n",
    "    if re.search(r\"'''+.*'''+\", info):\n",
    "        print(key, info)\n",
    "        basic_info_dict[key] = re.sub(r\"'''+\", \"\", info)\n",
    "        print(key, basic_info_dict[key])\n",
    "    \n",
    "# basic_info_dict"
   ]
  },
  {
   "cell_type": "markdown",
   "id": "40c880f1-e801-4f28-a5bc-f46fbd5ece30",
   "metadata": {},
   "source": [
    "### 27. 内部リンクの除去\n",
    "\n",
    "26の処理に加えて，テンプレートの値からMediaWikiの内部リンクマークアップを除去し，テキストに変換せよ（参考: マークアップ早見表）．"
   ]
  },
  {
   "cell_type": "code",
   "execution_count": 9,
   "id": "01f8acb9-7f38-4ebe-a1ae-48f1ad1a3ef9",
   "metadata": {},
   "outputs": [
    {
     "name": "stdout",
     "output_type": "stream",
     "text": [
      "公式国名: {{lang|en|United Kingdom of Great Britain and Northern Ireland}}<ref>英語以外での正式国名:<br />\n",
      "*{{lang|gd|An Rìoghachd Aonaichte na Breatainn Mhòr agus Eirinn mu Thuath}}（[[スコットランド・ゲール語]]）\n",
      "*{{lang|cy|Teyrnas Gyfunol Prydain Fawr a Gogledd Iwerddon}}（[[ウェールズ語]]）\n",
      "*{{lang|ga|Ríocht Aontaithe na Breataine Móire agus Tuaisceart na hÉireann}}（[[アイルランド語]]）\n",
      "*{{lang|kw|An Rywvaneth Unys a Vreten Veur hag Iwerdhon Glédh}}（[[コーンウォール語]]）\n",
      "*{{lang|sco|Unitit Kinrick o Great Breetain an Northren Ireland}}（[[スコットランド語]]）\n",
      "**{{lang|sco|Claught Kängrick o Docht Brätain an Norlin Airlann}}、{{lang|sco|Unitet Kängdom o Great Brittain an Norlin Airlann}}（アルスター・スコットランド語）</ref>\n",
      "=> 公式国名: {{lang|en|United Kingdom of Great Britain and Northern Ireland}}<ref>英語以外での正式国名:<br />\n",
      "*{{lang|gd|An Rìoghachd Aonaichte na Breatainn Mhòr agus Eirinn mu Thuath}}（スコットランド・ゲール語）\n",
      "*{{lang|cy|Teyrnas Gyfunol Prydain Fawr a Gogledd Iwerddon}}（ウェールズ語）\n",
      "*{{lang|ga|Ríocht Aontaithe na Breataine Móire agus Tuaisceart na hÉireann}}（アイルランド語）\n",
      "*{{lang|kw|An Rywvaneth Unys a Vreten Veur hag Iwerdhon Glédh}}（コーンウォール語）\n",
      "*{{lang|sco|Unitit Kinrick o Great Breetain an Northren Ireland}}（スコットランド語）\n",
      "**{{lang|sco|Claught Kängrick o Docht Brätain an Norlin Airlann}}、{{lang|sco|Unitet Kängdom o Great Brittain an Norlin Airlann}}（アルスター・スコットランド語）</ref>\n",
      "\n",
      "\n",
      "国章リンク: （[[イギリスの国章|国章]]）\n",
      "=> 国章リンク: （国章）\n",
      "\n",
      "\n",
      "標語: {{lang|fr|[[Dieu et mon droit]]}}<br />（[[フランス語]]:[[Dieu et mon droit|神と我が権利]]）\n",
      "=> 標語: {{lang|fr|Dieu et mon droit}}<br />（フランス語:神と我が権利）\n",
      "\n",
      "\n",
      "国歌: [[女王陛下万歳|{{lang|en|God Save the Queen}}]]{{en icon}}<br />''神よ女王を護り賜え''<br />{{center|[[ファイル:United States Navy Band - God Save the Queen.ogg]]}}\n",
      "=> 国歌: {{lang|en|God Save the Queen}}{{en icon}}<br />''神よ女王を護り賜え''<br />{{center|[[ファイル:United States Navy Band - God Save the Queen.ogg]]}}\n",
      "\n",
      "\n",
      "公用語: [[英語]]\n",
      "=> 公用語: 英語\n",
      "\n",
      "\n",
      "首都: [[ロンドン]]（事実上）\n",
      "=> 首都: ロンドン（事実上）\n",
      "\n",
      "\n",
      "元首等肩書: [[イギリスの君主|女王]]\n",
      "=> 元首等肩書: 女王\n",
      "\n",
      "\n",
      "元首等氏名: [[エリザベス2世]]\n",
      "=> 元首等氏名: エリザベス2世\n",
      "\n",
      "\n",
      "首相等肩書: [[イギリスの首相|首相]]\n",
      "=> 首相等肩書: 首相\n",
      "\n",
      "\n",
      "首相等氏名: [[ボリス・ジョンソン]]\n",
      "=> 首相等氏名: ボリス・ジョンソン\n",
      "\n",
      "\n",
      "他元首等肩書1: [[貴族院 (イギリス)|貴族院議長]]\n",
      "=> 他元首等肩書1: 貴族院議長\n",
      "\n",
      "\n",
      "他元首等氏名1: [[:en:Norman Fowler, Baron Fowler|ノーマン・ファウラー]]\n",
      "=> 他元首等氏名1: ノーマン・ファウラー\n",
      "\n",
      "\n",
      "他元首等肩書2: [[庶民院 (イギリス)|庶民院議長]]\n",
      "=> 他元首等肩書2: 庶民院議長\n",
      "\n",
      "\n",
      "他元首等肩書3: [[連合王国最高裁判所|最高裁判所長官]]\n",
      "=> 他元首等肩書3: 最高裁判所長官\n",
      "\n",
      "\n",
      "他元首等氏名3: [[:en:Brenda Hale, Baroness Hale of Richmond|ブレンダ・ヘイル]]\n",
      "=> 他元首等氏名3: ブレンダ・ヘイル\n",
      "\n",
      "\n",
      "確立形態1: [[イングランド王国]]／[[スコットランド王国]]<br />（両国とも[[合同法 (1707年)|1707年合同法]]まで）\n",
      "=> 確立形態1: イングランド王国／スコットランド王国<br />（両国とも1707年合同法まで）\n",
      "\n",
      "\n",
      "確立形態2: [[グレートブリテン王国]]成立<br />（1707年合同法）\n",
      "=> 確立形態2: グレートブリテン王国成立<br />（1707年合同法）\n",
      "\n",
      "\n",
      "確立形態3: [[グレートブリテン及びアイルランド連合王国]]成立<br />（[[合同法 (1800年)|1800年合同法]]）\n",
      "=> 確立形態3: グレートブリテン及びアイルランド連合王国成立<br />（1800年合同法）\n",
      "\n",
      "\n",
      "通貨: [[スターリング・ポンド|UKポンド]] (£)\n",
      "=> 通貨: UKポンド (£)\n",
      "\n",
      "\n",
      "ccTLD: [[.uk]] / [[.gb]]<ref>使用は.ukに比べ圧倒的少数。</ref>\n",
      "=> ccTLD: .uk / .gb<ref>使用は.ukに比べ圧倒的少数。</ref>\n",
      "\n",
      "\n"
     ]
    }
   ],
   "source": [
    "def link_repl(matchobj):\n",
    "    # print(matchobj)\n",
    "    if re.search(r\"\\[\\[(.+?)?(\\|)(.+)?(\\]\\])\", matchobj.group(0)):\n",
    "        return re.sub(r\"\\[\\[(.+?)?(\\|)(.+)?(\\]\\])\", r\"\\3\", matchobj.group(0))       \n",
    "    elif re.search(r\"\\[\\[(.+)?(\\]\\])\", matchobj.group(0)):\n",
    "        return re.sub(r\"\\[\\[(.+)?(\\]\\])\", r\"\\1\", matchobj.group(0))\n",
    "\n",
    "for key, info in basic_info_dict.items():\n",
    "    if re.search(r\"\\[\\[(?!ファイル:).+?(\\]\\])\", info):\n",
    "        print(f'{key}: {info}')\n",
    "        # print(\"\\n\")\n",
    "        basic_info_dict[key] = re.sub(r\"\\[\\[(?!ファイル:).+?(\\]\\])\", link_repl, info)\n",
    "        # print(re.sub(r\"\\[\\[(?!ファイル:).+?(\\]\\])\", link_repl, info))\n",
    "        print(f'=> {key}: {basic_info_dict[key]}')\n",
    "        print(\"\\n\")"
   ]
  },
  {
   "cell_type": "markdown",
   "id": "da27a50b-ad56-45cf-acbd-f6e2d969534c",
   "metadata": {},
   "source": [
    "### 28. MediaWikiマークアップの除去\n",
    "\n",
    "27の処理に加えて，テンプレートの値からMediaWikiマークアップを可能な限り除去し，国の基本情報を整形せよ．"
   ]
  },
  {
   "cell_type": "code",
   "execution_count": 10,
   "id": "c6301484-aacc-456f-9652-fed82e25c8c2",
   "metadata": {},
   "outputs": [
    {
     "name": "stdout",
     "output_type": "stream",
     "text": [
      "略名 : イギリス\n",
      "日本語国名 : グレートブリテン及び北アイルランド連合王国\n",
      "公式国名 : United Kingdom of Great Britain and Northern Ireland(英語以外での正式国名:\n",
      "An Rìoghachd Aonaichte na Breatainn Mhòr agus Eirinn mu Thuath（スコットランド・ゲール語）\n",
      "Teyrnas Gyfunol Prydain Fawr a Gogledd Iwerddon（ウェールズ語）\n",
      "Ríocht Aontaithe na Breataine Móire agus Tuaisceart na hÉireann（アイルランド語）\n",
      "An Rywvaneth Unys a Vreten Veur hag Iwerdhon Glédh（コーンウォール語）\n",
      "Unitit Kinrick o Great Breetain an Northren Ireland（スコットランド語）\n",
      "Claught Kängrick o Docht Brätain an Norlin Airlann、Unitet Kängdom o Great Brittain an Norlin Airlann（アルスター・スコットランド語）)\n",
      "国旗画像 : Flag of the United Kingdom.svg\n",
      "国章画像 : Royal Coat of Arms of the United Kingdom.svg\n",
      "国章リンク : （国章）\n",
      "標語 : Dieu et mon droit（フランス語:神と我が権利）\n",
      "国歌 : God Save the Queen 神よ女王を護り賜え \n",
      "地図画像 : Europe-UK.svg\n",
      "位置画像 : United Kingdom (+overseas territories) in the World (+Antarctica claims).svg\n",
      "公用語 : 英語\n",
      "首都 : ロンドン（事実上）\n",
      "最大都市 : ロンドン\n",
      "元首等肩書 : 女王\n",
      "元首等氏名 : エリザベス2世\n",
      "首相等肩書 : 首相\n",
      "首相等氏名 : ボリス・ジョンソン\n",
      "他元首等肩書1 : 貴族院議長\n",
      "他元首等氏名1 : ノーマン・ファウラー\n",
      "他元首等肩書2 : 庶民院議長\n",
      "他元首等氏名2 : リンゼイ・ホイル\n",
      "他元首等肩書3 : 最高裁判所長官\n",
      "他元首等氏名3 : ブレンダ・ヘイル\n",
      "面積順位 : 76\n",
      "面積大きさ : 1 E11\n",
      "面積値 : 244,820\n",
      "水面積率 : 1.3%\n",
      "人口統計年 : 2018\n",
      "人口順位 : 22\n",
      "人口大きさ : 1 E7\n",
      "人口値 : 6643万5600()\n",
      "人口密度値 : 271\n",
      "GDP統計年元 : 2012\n",
      "GDP値元 : 1兆5478億\n",
      "GDP統計年MER : 2012\n",
      "GDP順位MER : 6\n",
      "GDP値MER : 2兆4337億\n",
      "GDP統計年 : 2012\n",
      "GDP順位 : 6\n",
      "GDP値 : 2兆3162億\n",
      "GDP/人 : 36,727\n",
      "建国形態 : 建国\n",
      "確立形態1 : イングランド王国／スコットランド王国（両国とも1707年合同法まで）\n",
      "確立年月日1 : 927年／843年\n",
      "確立形態2 : グレートブリテン王国成立（1707年合同法）\n",
      "確立年月日2 : 1707年5月1日\n",
      "確立形態3 : グレートブリテン及びアイルランド連合王国成立（1800年合同法）\n",
      "確立年月日3 : 1801年1月1日\n",
      "確立形態4 : 現在の国号「グレートブリテン及び北アイルランド連合王国」に変更\n",
      "確立年月日4 : 1927年4月12日\n",
      "通貨 : UKポンド (£)\n",
      "通貨コード : GBP\n",
      "時間帯 : ±0\n",
      "夏時間 : +1\n",
      "ISO : 3166-1 = GB / GBR\n",
      "ccTLD : .uk / .gb(使用は.ukに比べ圧倒的少数。)\n",
      "国際電話番号 : 44\n",
      "注記 : <references/>\n",
      "\n"
     ]
    }
   ],
   "source": [
    "import copy\n",
    "\n",
    "basic_info_dict_rev = copy.deepcopy(basic_info_dict)\n",
    "\n",
    "for key, val in basic_info_dict_rev.items():\n",
    "    val = re.sub(r\"\\{\\{lang\\|\\w+\\|(.*?)\\}\\}\", r\"\\1\", val)\n",
    "    val = re.sub(r\"\\*+\", r\"\", val)\n",
    "    val = re.sub(r\"<br />\", r\"\", val)\n",
    "    val = re.sub(r\"\\{\\{0\\}\\}\", r\"\", val)\n",
    "    val = re.sub(r\"\\[\\[ファイル:(.+?)(\\|.+)*\\]\\]\", r\"\\1\", val)\n",
    "    val = re.sub(r\"<ref name=.*/(ref)?>\", r\"\", val)\n",
    "    val = re.sub(r\"<ref>(.+)</ref>\", r\"(\\1)\", val, flags=re.DOTALL)\n",
    "    val = re.sub(r\"{{Cite web.*}}\", r\"\", val)\n",
    "    val = re.sub(r\"''\", r\"\", val)\n",
    "    val = re.sub(r\"{{仮リンク\\|(.+?)(\\|.+)*}}\", r\"\\1\", val)\n",
    "    val = re.sub(r\"{{.+?}}\", r\" \", val)\n",
    "    basic_info_dict_rev[key] = val\n",
    "    print(f'{key} : {basic_info_dict_rev[key]}')"
   ]
  },
  {
   "cell_type": "markdown",
   "id": "574ed82f-c8c1-483f-8551-5ec51d227963",
   "metadata": {},
   "source": [
    "### 29. 国旗画像のURLを取得する\n",
    "\n",
    "テンプレートの内容を利用し，国旗画像のURLを取得せよ．（ヒント: MediaWiki APIのimageinfoを呼び出して，ファイル参照をURLに変換すればよい）"
   ]
  },
  {
   "cell_type": "code",
   "execution_count": 11,
   "id": "eb1af1fd-036b-459b-b96a-325be8f6c401",
   "metadata": {},
   "outputs": [
    {
     "data": {
      "text/plain": [
       "'Flag of the United Kingdom.svg'"
      ]
     },
     "execution_count": 11,
     "metadata": {},
     "output_type": "execute_result"
    }
   ],
   "source": [
    "basic_info_dict['国旗画像']"
   ]
  },
  {
   "cell_type": "code",
   "execution_count": 12,
   "id": "e35280fa-99eb-4616-a3c5-cb6aaeb1570b",
   "metadata": {},
   "outputs": [
    {
     "data": {
      "text/plain": [
       "{'23473560': {'pageid': 23473560,\n",
       "  'ns': 6,\n",
       "  'title': 'File:Flag of the United Kingdom.svg',\n",
       "  'imagerepository': 'local',\n",
       "  'imageinfo': [{'url': 'https://upload.wikimedia.org/wikipedia/en/a/ae/Flag_of_the_United_Kingdom.svg',\n",
       "    'descriptionurl': 'https://en.wikipedia.org/wiki/File:Flag_of_the_United_Kingdom.svg',\n",
       "    'descriptionshorturl': 'https://en.wikipedia.org/w/index.php?curid=23473560'}]}}"
      ]
     },
     "execution_count": 12,
     "metadata": {},
     "output_type": "execute_result"
    }
   ],
   "source": [
    "import requests\n",
    "\n",
    "S = requests.Session()\n",
    "\n",
    "URL = \"https://en.wikipedia.org/w/api.php\"\n",
    "\n",
    "PARAMS = {\n",
    "    \"action\": \"query\",\n",
    "    \"format\": \"json\",\n",
    "    \"prop\": \"imageinfo\",\n",
    "    \"iiprop\": \"url\",\n",
    "    \"titles\": \"File:\"+basic_info_dict['国旗画像']\n",
    "}\n",
    "\n",
    "R = S.get(url=URL, params=PARAMS)\n",
    "DATA = R.json()\n",
    "\n",
    "PAGES = DATA[\"query\"][\"pages\"]\n",
    "\n",
    "PAGES"
   ]
  },
  {
   "cell_type": "code",
   "execution_count": 13,
   "id": "0bce9aad-2bae-488d-a684-d68386319bdc",
   "metadata": {},
   "outputs": [
    {
     "data": {
      "text/plain": [
       "'https://upload.wikimedia.org/wikipedia/en/a/ae/Flag_of_the_United_Kingdom.svg'"
      ]
     },
     "execution_count": 13,
     "metadata": {},
     "output_type": "execute_result"
    }
   ],
   "source": [
    "PAGES['23473560']['imageinfo'][0]['url']"
   ]
  },
  {
   "cell_type": "code",
   "execution_count": null,
   "id": "04d68812-15c2-42ac-a5d1-cf1fc6c901cf",
   "metadata": {},
   "outputs": [],
   "source": []
  }
 ],
 "metadata": {
  "kernelspec": {
   "display_name": "Python 3.9.7 ('base')",
   "language": "python",
   "name": "python3"
  },
  "language_info": {
   "codemirror_mode": {
    "name": "ipython",
    "version": 3
   },
   "file_extension": ".py",
   "mimetype": "text/x-python",
   "name": "python",
   "nbconvert_exporter": "python",
   "pygments_lexer": "ipython3",
   "version": "3.9.7"
  },
  "vscode": {
   "interpreter": {
    "hash": "2e4b3d5cc76d527871e757334873acbc48afe69102a5515277c9dd4fbf59a78e"
   }
  }
 },
 "nbformat": 4,
 "nbformat_minor": 5
}
