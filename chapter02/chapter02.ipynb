{
 "cells": [
  {
   "cell_type": "markdown",
   "id": "748ffcc3-f18d-4276-a138-c615307e869b",
   "metadata": {},
   "source": [
    "## 第2章: UNIXコマンド\n",
    "popular-names.txtは，アメリカで生まれた赤ちゃんの「名前」「性別」「人数」「年」をタブ区切り形式で格納したファイルである．以下の処理を行うプログラムを作成し，popular-names.txtを入力ファイルとして実行せよ．さらに，同様の処理をUNIXコマンドでも実行し，プログラムの実行結果を確認せよ．"
   ]
  },
  {
   "cell_type": "code",
   "execution_count": 1,
   "id": "35aa2287-893e-41e8-8bc4-008b14b6f941",
   "metadata": {},
   "outputs": [],
   "source": [
    "filename = \"popular-names.txt\""
   ]
  },
  {
   "cell_type": "markdown",
   "id": "bb29ce9a-886d-4994-99a2-e5fcda64f24c",
   "metadata": {},
   "source": [
    "### 10. 行数のカウント\n",
    "\n",
    "行数をカウントせよ．確認にはwcコマンドを用いよ．"
   ]
  },
  {
   "cell_type": "code",
   "execution_count": 2,
   "id": "2952abee-66b1-4954-9f63-843b642e6f36",
   "metadata": {},
   "outputs": [
    {
     "name": "stdout",
     "output_type": "stream",
     "text": [
      "2780\n"
     ]
    }
   ],
   "source": [
    "with open(filename) as f:\n",
    "    print(len(f.readlines()))"
   ]
  },
  {
   "cell_type": "code",
   "execution_count": 3,
   "id": "2455f11c-5b57-4117-83a0-3fcec1ea23e0",
   "metadata": {},
   "outputs": [
    {
     "name": "stdout",
     "output_type": "stream",
     "text": [
      "    2780 popular-names.txt\n"
     ]
    }
   ],
   "source": [
    "!wc -l popular-names.txt"
   ]
  },
  {
   "cell_type": "markdown",
   "id": "2db7b711-fcbb-437a-9f01-ca40e464194c",
   "metadata": {},
   "source": [
    "### 11. タブをスペースに置換\n",
    "\n",
    "タブ1文字につきスペース1文字に置換せよ．確認にはsedコマンド，trコマンド，もしくはexpandコマンドを用いよ．"
   ]
  },
  {
   "cell_type": "code",
   "execution_count": 4,
   "id": "3f61a06c-7ffe-442e-8687-5cb9eb6b432f",
   "metadata": {},
   "outputs": [
    {
     "name": "stdout",
     "output_type": "stream",
     "text": [
      "Mary F 7065 1880\n",
      "Anna F 2604 1880\n",
      "Emma F 2003 1880\n",
      "Elizabeth F 1939 1880\n",
      "Minnie F 1746 1880\n",
      "Margaret\n"
     ]
    }
   ],
   "source": [
    "with open(filename) as f:\n",
    "    content = f.read()\n",
    "    content2 = content.replace('\\t', ' ')\n",
    "    \n",
    "print(content2[:100])"
   ]
  },
  {
   "cell_type": "code",
   "execution_count": 5,
   "id": "412b8aa9-cb83-4bd1-bd5b-3836d04da5db",
   "metadata": {},
   "outputs": [
    {
     "name": "stdout",
     "output_type": "stream",
     "text": [
      "Mary F 7065 1880\n",
      "Anna F 2604 1880\n",
      "Emma F 2003 1880\n",
      "Elizabeth F 1939 1880\n",
      "Minnie F 1746 1880\n"
     ]
    }
   ],
   "source": [
    "!sed 's/\\t/ /g' popular-names.txt | head -n 5"
   ]
  },
  {
   "cell_type": "markdown",
   "id": "de54a699-a04e-4922-9943-cc93aeea2423",
   "metadata": {},
   "source": [
    "### 12. 1列目をcol1.txtに，2列目をcol2.txtに保存\n",
    "\n",
    "各行の1列目だけを抜き出したものをcol1.txtに，2列目だけを抜き出したものをcol2.txtとしてファイルに保存せよ．確認にはcutコマンドを用いよ．"
   ]
  },
  {
   "cell_type": "code",
   "execution_count": 6,
   "id": "a1c6adae-ccef-4462-9bbf-b5be43a9b58d",
   "metadata": {},
   "outputs": [],
   "source": [
    "with open(filename) as f, open(\"col1.txt\", \"w\") as col1, open(\"col2.txt\", \"w\") as col2:\n",
    "    lines = f.readlines()\n",
    "    for line in lines:\n",
    "        cols = line.split('\\t')\n",
    "        col1.write(cols[0]+'\\n')\n",
    "        col2.write(cols[1]+'\\n')"
   ]
  },
  {
   "cell_type": "code",
   "execution_count": 7,
   "id": "9a8d7d8c-ae00-400c-a415-27afbeb5bd7d",
   "metadata": {},
   "outputs": [
    {
     "name": "stdout",
     "output_type": "stream",
     "text": [
      "Mary\n",
      "Anna\n",
      "Emma\n",
      "Elizabeth\n",
      "Minnie\n",
      "F\n",
      "F\n",
      "F\n",
      "F\n",
      "F\n"
     ]
    }
   ],
   "source": [
    "! cat col1.txt | head -n 5\n",
    "! cat col2.txt | head -n 5"
   ]
  },
  {
   "cell_type": "code",
   "execution_count": 8,
   "id": "9a487952-da20-4426-b33d-e3cabf51f0c5",
   "metadata": {},
   "outputs": [
    {
     "name": "stdout",
     "output_type": "stream",
     "text": [
      "Mary\n",
      "Anna\n",
      "Emma\n",
      "Elizabeth\n",
      "Minnie\n",
      "F\n",
      "F\n",
      "F\n",
      "F\n",
      "F\n"
     ]
    }
   ],
   "source": [
    "!cut -f 1 < popular-names.txt | head -n 5\n",
    "!cut -f 2 < popular-names.txt | head -n 5"
   ]
  },
  {
   "cell_type": "markdown",
   "id": "33746bdf-c3ed-4811-932c-bd9ce4d4bd96",
   "metadata": {},
   "source": [
    "### 13. col1.txtとcol2.txtをマージ\n",
    "\n",
    "12で作ったcol1.txtとcol2.txtを結合し，元のファイルの1列目と2列目をタブ区切りで並べたテキストファイルを作成せよ．確認にはpasteコマンドを用いよ．"
   ]
  },
  {
   "cell_type": "code",
   "execution_count": 9,
   "id": "89048670-732e-4176-8e97-d1865b5a4308",
   "metadata": {},
   "outputs": [
    {
     "name": "stdout",
     "output_type": "stream",
     "text": [
      "Mary\tF\n",
      "Anna\tF\n",
      "Emma\tF\n",
      "Elizabeth\tF\n",
      "Minnie\tF\n"
     ]
    }
   ],
   "source": [
    "with open(\"col1.txt\", \"r\") as col1, open(\"col2.txt\", \"r\") as col2, open(\"col1-2.txt\", \"w\") as col1_2:\n",
    "    lines1 = [l.strip('\\n') for l in col1.readlines()]\n",
    "    lines2 = [l.strip('\\n') for l in col2.readlines()]\n",
    "    # lines1_2 = [l1.join(l2,'\\t') for l1 in lines1 for l2 in lines2]\n",
    "    \n",
    "    n = len(lines1)\n",
    "    for i in range(n):\n",
    "        col1_2.write(lines1[i]+'\\t'+lines2[i]+'\\n')\n",
    "\n",
    "!cat \"col1-2.txt\" | head -n 5"
   ]
  },
  {
   "cell_type": "code",
   "execution_count": 10,
   "id": "ace68d58-8f4a-495d-8789-1310f5dde1db",
   "metadata": {},
   "outputs": [
    {
     "name": "stdout",
     "output_type": "stream",
     "text": [
      "Mary\tF\n",
      "Anna\tF\n",
      "Emma\tF\n",
      "Elizabeth\tF\n",
      "Minnie\tF\n"
     ]
    }
   ],
   "source": [
    "!paste col1.txt col2.txt | head -n 5"
   ]
  },
  {
   "cell_type": "markdown",
   "id": "0113ec87-713f-4c0c-9972-357c5f5896eb",
   "metadata": {},
   "source": [
    "### 14. 先頭からN行を出力\n",
    "\n",
    "自然数Nをコマンドライン引数などの手段で受け取り，入力のうち先頭のN行だけを表示せよ．確認にはheadコマンドを用いよ．\n",
    "\n"
   ]
  },
  {
   "cell_type": "code",
   "execution_count": 11,
   "id": "7ebea508-7e34-49f2-ace4-0f3e414af30b",
   "metadata": {},
   "outputs": [
    {
     "name": "stdout",
     "output_type": "stream",
     "text": [
      " 3\n"
     ]
    },
    {
     "name": "stdout",
     "output_type": "stream",
     "text": [
      "Mary\tF\t7065\t1880\n",
      "Anna\tF\t2604\t1880\n",
      "Emma\tF\t2003\t1880\n"
     ]
    }
   ],
   "source": [
    "N = int(input())\n",
    "with open(filename) as f:\n",
    "    for i in range(N):\n",
    "        line = f.readline().strip('\\n')\n",
    "        print(line)"
   ]
  },
  {
   "cell_type": "code",
   "execution_count": 12,
   "id": "b4cae17e-f8e6-41fe-be73-604070d41ea5",
   "metadata": {},
   "outputs": [
    {
     "name": "stdout",
     "output_type": "stream",
     "text": [
      "Mary\tF\t7065\t1880\n",
      "Anna\tF\t2604\t1880\n",
      "Emma\tF\t2003\t1880\n"
     ]
    }
   ],
   "source": [
    "!cat popular-names.txt | head -n 3"
   ]
  },
  {
   "cell_type": "markdown",
   "id": "e7624826-4bae-471e-b830-1fd912dacb69",
   "metadata": {},
   "source": [
    "### 15. 末尾のN行を出力\n",
    "\n",
    "自然数Nをコマンドライン引数などの手段で受け取り，入力のうち末尾のN行だけを表示せよ．確認にはtailコマンドを用いよ．"
   ]
  },
  {
   "cell_type": "code",
   "execution_count": 13,
   "id": "dbcaea3c-7030-4ea8-85b1-cc9a330650bc",
   "metadata": {},
   "outputs": [
    {
     "name": "stdout",
     "output_type": "stream",
     "text": [
      " 3\n"
     ]
    },
    {
     "name": "stdout",
     "output_type": "stream",
     "text": [
      "Lucas\tM\t12585\t2018\n",
      "Mason\tM\t12435\t2018\n",
      "Logan\tM\t12352\t2018\n"
     ]
    }
   ],
   "source": [
    "N = int(input())\n",
    "with open(filename) as f:\n",
    "    lines = [l.strip('\\n') for l in f.readlines()]\n",
    "    L = len(lines)\n",
    "    for i in range(N):\n",
    "        print(lines[L-N+i])"
   ]
  },
  {
   "cell_type": "code",
   "execution_count": 14,
   "id": "ae532b0b-866b-4c64-aff6-3ac28ea68b0b",
   "metadata": {},
   "outputs": [
    {
     "name": "stdout",
     "output_type": "stream",
     "text": [
      "Lucas\tM\t12585\t2018\n",
      "Mason\tM\t12435\t2018\n",
      "Logan\tM\t12352\t2018\n"
     ]
    }
   ],
   "source": [
    "!cat popular-names.txt | tail -n 3"
   ]
  },
  {
   "cell_type": "markdown",
   "id": "b79b6fe2-986a-4a01-99dc-08c19f96c4c2",
   "metadata": {},
   "source": [
    "### 16. ファイルをN分割する\n",
    "\n",
    "自然数Nをコマンドライン引数などの手段で受け取り，入力のファイルを行単位でN分割せよ．同様の処理をsplitコマンドで実現せよ．"
   ]
  },
  {
   "cell_type": "code",
   "execution_count": 15,
   "id": "4ca9e9d2-51f3-4222-970c-5f4e8cbf166e",
   "metadata": {},
   "outputs": [
    {
     "name": "stdout",
     "output_type": "stream",
     "text": [
      " 5\n"
     ]
    },
    {
     "name": "stdout",
     "output_type": "stream",
     "text": [
      "Mary\tF\t7065\t1880\n",
      "\n",
      "Joseph\tM\t3844\t1907\n",
      "\n",
      "John\tM\t47499\t1935\n",
      "\n",
      "Sandra\tF\t21619\t1963\n",
      "\n",
      "Samantha\tF\t25645\t1991\n",
      "\n"
     ]
    }
   ],
   "source": [
    "N = int(input())\n",
    "with open(filename) as f:\n",
    "    lines = [l.strip('\\n') for l in f.readlines()]\n",
    "    L = len(lines)\n",
    "    lines_per_file = int(L/N)\n",
    "    for i in range(N):\n",
    "        with open(filename+\"_part_\"+str(i)+\".txt\", \"w\") as f_i:\n",
    "            if i == N-1:\n",
    "                f_i.write('\\n'.join(lines[i*lines_per_file:]))\n",
    "            else:\n",
    "                f_i.write('\\n'.join(lines[i*lines_per_file:(i+1)*lines_per_file-1]))\n",
    "\n",
    "# for checking\n",
    "for i in range(N):\n",
    "    with open(filename+\"_part_\"+str(i)+\".txt\", \"r\") as f_i:\n",
    "        print(f_i.readline())"
   ]
  },
  {
   "cell_type": "code",
   "execution_count": 16,
   "id": "d568c227-6e67-48d7-884a-4f1af76cc828",
   "metadata": {},
   "outputs": [],
   "source": [
    "!split -l 556 popular-names.txt"
   ]
  },
  {
   "cell_type": "code",
   "execution_count": 17,
   "id": "fb999e47-ca7c-42cc-b7db-519499c96999",
   "metadata": {},
   "outputs": [
    {
     "name": "stdout",
     "output_type": "stream",
     "text": [
      "Mary\tF\t7065\t1880\n",
      "Joseph\tM\t3844\t1907\n",
      "John\tM\t47499\t1935\n",
      "Sandra\tF\t21619\t1963\n",
      "Samantha\tF\t25645\t1991\n"
     ]
    }
   ],
   "source": [
    "!cat xaa | head -n 1\n",
    "!cat xab | head -n 1\n",
    "!cat xac | head -n 1\n",
    "!cat xad | head -n 1\n",
    "!cat xae | head -n 1"
   ]
  },
  {
   "cell_type": "markdown",
   "id": "4cd63ad8-f9db-46bc-8799-2d1d20e0d920",
   "metadata": {},
   "source": [
    "### 17. １列目の文字列の異なり\n",
    "\n",
    "1列目の文字列の種類（異なる文字列の集合）を求めよ．確認にはcut, sort, uniqコマンドを用いよ"
   ]
  },
  {
   "cell_type": "code",
   "execution_count": 18,
   "id": "3a7f75a4-c28c-4641-bf76-6d26adfef0cc",
   "metadata": {},
   "outputs": [
    {
     "name": "stdout",
     "output_type": "stream",
     "text": [
      "136\n",
      "Abigail\n",
      "Aiden\n",
      "Alexander\n",
      "Alexis\n",
      "Alice\n",
      "Amanda\n",
      "Amelia\n",
      "Amy\n",
      "Andrew\n",
      "Angela\n"
     ]
    }
   ],
   "source": [
    "with open(\"col1.txt\", \"r\") as col1:\n",
    "    names = [l.strip('\\n') for l in col1.readlines()]\n",
    "    names_unique = list(set(names))\n",
    "    names_unique.sort()\n",
    "\n",
    "print(len(names_unique))\n",
    "for i in range(10):\n",
    "    print(names_unique[i])"
   ]
  },
  {
   "cell_type": "code",
   "execution_count": 19,
   "id": "3295877a-b008-4681-abf1-556837eae8d8",
   "metadata": {},
   "outputs": [
    {
     "name": "stdout",
     "output_type": "stream",
     "text": [
      "     136\n",
      "Abigail\n",
      "Aiden\n",
      "Alexander\n",
      "Alexis\n",
      "Alice\n",
      "Amanda\n",
      "Amelia\n",
      "Amy\n",
      "Andrew\n",
      "Angela\n"
     ]
    }
   ],
   "source": [
    "!cut -f 1 < popular-names.txt | sort | uniq | wc -l\n",
    "!cut -f 1 < popular-names.txt | sort | uniq | head -n 10"
   ]
  },
  {
   "cell_type": "markdown",
   "id": "631939c9-32aa-4afb-89e2-0ac44635be71",
   "metadata": {},
   "source": [
    "### 18. 各行を3コラム目の数値の降順にソート\n",
    "\n",
    "各行を3コラム目の数値の逆順で整列せよ（注意: 各行の内容は変更せずに並び替えよ）．確認にはsortコマンドを用いよ（この問題はコマンドで実行した時の結果と合わなくてもよい）．"
   ]
  },
  {
   "cell_type": "code",
   "execution_count": 20,
   "id": "7a3d72f9-9939-4c3c-beab-91f49722d8bf",
   "metadata": {},
   "outputs": [
    {
     "name": "stdout",
     "output_type": "stream",
     "text": [
      "Linda\tF\t99689\t1947\n",
      "Linda\tF\t96211\t1948\n",
      "James\tM\t94757\t1947\n",
      "Michael\tM\t92704\t1957\n",
      "Robert\tM\t91640\t1947\n",
      "Linda\tF\t91016\t1949\n",
      "Michael\tM\t90656\t1956\n",
      "Michael\tM\t90517\t1958\n",
      "James\tM\t88584\t1948\n",
      "Michael\tM\t88528\t1954\n"
     ]
    }
   ],
   "source": [
    "with open(filename) as f:\n",
    "    lines = [l.strip('\\n').split('\\t') for l in f.readlines()]\n",
    "    lines.sort(reverse=True, key=(lambda x:int(x[2])))\n",
    "\n",
    "for i in range(10):\n",
    "    print('\\t'.join(lines[i]))"
   ]
  },
  {
   "cell_type": "code",
   "execution_count": 21,
   "id": "a47414aa-7b55-4392-904a-83ab53e5652e",
   "metadata": {},
   "outputs": [
    {
     "name": "stdout",
     "output_type": "stream",
     "text": [
      "Linda\tF\t99689\t1947\n",
      "Linda\tF\t96211\t1948\n",
      "James\tM\t94757\t1947\n",
      "Michael\tM\t92704\t1957\n",
      "Robert\tM\t91640\t1947\n",
      "Linda\tF\t91016\t1949\n",
      "Michael\tM\t90656\t1956\n",
      "Michael\tM\t90517\t1958\n",
      "James\tM\t88584\t1948\n",
      "Michael\tM\t88528\t1954\n"
     ]
    }
   ],
   "source": [
    "!sort -nr -k 3 popular-names.txt | head -n 10"
   ]
  },
  {
   "cell_type": "markdown",
   "id": "cdf402cb-2789-41b6-8410-0f8d78f18b16",
   "metadata": {},
   "source": [
    "### 19. 各行の1コラム目の文字列の出現頻度を求め，出現頻度の高い順に並べる\n",
    "\n",
    "各行の1列目の文字列の出現頻度を求め，その高い順に並べて表示せよ．確認にはcut, uniq, sortコマンドを用いよ．"
   ]
  },
  {
   "cell_type": "code",
   "execution_count": 22,
   "id": "39c9d357-b9df-48d8-8938-4959bc1b9446",
   "metadata": {},
   "outputs": [
    {
     "name": "stdout",
     "output_type": "stream",
     "text": [
      "118 James\n",
      "111 William\n",
      "108 John\n",
      "108 Robert\n",
      "92 Mary\n",
      "75 Charles\n",
      "74 Michael\n",
      "73 Elizabeth\n",
      "70 Joseph\n",
      "60 Margaret\n",
      "58 George\n",
      "58 Thomas\n",
      "57 David\n",
      "51 Richard\n",
      "45 Helen\n",
      "43 Christopher\n",
      "43 Frank\n",
      "41 Anna\n",
      "40 Edward\n",
      "39 Ruth\n",
      "38 Patricia\n",
      "37 Matthew\n",
      "36 Dorothy\n",
      "35 Emma\n",
      "32 Barbara\n",
      "31 Daniel\n",
      "31 Joshua\n",
      "26 Emily\n",
      "26 Jennifer\n",
      "26 Linda\n",
      "26 Sarah\n",
      "25 Jacob\n",
      "25 Jessica\n",
      "24 Betty\n",
      "24 Mildred\n",
      "24 Susan\n",
      "23 Ashley\n",
      "23 Henry\n",
      "22 Nancy\n",
      "21 Andrew\n",
      "20 Amanda\n",
      "20 Donald\n",
      "20 Florence\n",
      "20 Marie\n",
      "19 Samantha\n",
      "18 Karen\n",
      "18 Lisa\n",
      "18 Madison\n",
      "18 Melissa\n",
      "18 Olivia\n",
      "17 Abigail\n",
      "17 Stephanie\n",
      "16 Ethel\n",
      "16 Mark\n",
      "16 Sandra\n",
      "15 Angela\n",
      "15 Carol\n",
      "15 Ethan\n",
      "15 Frances\n",
      "15 Heather\n",
      "15 Isabella\n",
      "15 Michelle\n",
      "14 Amy\n",
      "14 Ava\n",
      "14 Kimberly\n",
      "14 Shirley\n",
      "13 Brian\n",
      "13 Deborah\n",
      "13 Hannah\n",
      "13 Jason\n",
      "13 Nicole\n",
      "13 Sophia\n",
      "13 Virginia\n",
      "12 Bertha\n",
      "12 Donna\n",
      "12 Minnie\n",
      "11 Cynthia\n",
      "10 Alice\n",
      "10 Brittany\n",
      "10 Doris\n",
      "10 Mia\n",
      "10 Nicholas\n",
      "10 Noah\n",
      "10 Ronald\n",
      "9 Debra\n",
      "9 Joan\n",
      "9 Tyler\n",
      "8 Alexander\n",
      "8 Alexis\n",
      "8 Clara\n",
      "8 Ida\n",
      "8 Judith\n",
      "8 Mason\n",
      "8 Taylor\n",
      "7 Brandon\n",
      "7 Harry\n",
      "7 Liam\n",
      "7 Sharon\n",
      "7 Steven\n",
      "7 Tammy\n",
      "6 Anthony\n",
      "5 Annie\n",
      "5 Charlotte\n",
      "5 Gary\n",
      "5 Jayden\n",
      "5 Jeffrey\n",
      "4 Austin\n",
      "4 Benjamin\n",
      "4 Chloe\n",
      "4 Justin\n",
      "4 Kathleen\n",
      "4 Lillian\n",
      "3 Aiden\n",
      "3 Elijah\n",
      "3 Evelyn\n",
      "3 Harper\n",
      "3 Megan\n",
      "2 Amelia\n",
      "2 Bessie\n",
      "2 Larry\n",
      "2 Lauren\n",
      "2 Logan\n",
      "2 Oliver\n",
      "2 Rebecca\n",
      "1 Carolyn\n",
      "1 Crystal\n",
      "1 Julie\n",
      "1 Kelly\n",
      "1 Laura\n",
      "1 Lori\n",
      "1 Lucas\n",
      "1 Pamela\n",
      "1 Rachel\n",
      "1 Scott\n",
      "1 Tracy\n",
      "1 Walter\n"
     ]
    }
   ],
   "source": [
    "with open(\"col1.txt\") as col1:\n",
    "    lines = [l.strip('\\n') for l in col1.readlines()]\n",
    "    lines.sort()\n",
    "    names_freq = dict()\n",
    "    prev = lines[0]\n",
    "    count = 0\n",
    "    for line in lines:\n",
    "        if line == prev:\n",
    "            count += 1\n",
    "        else:\n",
    "            names_freq[prev] = count\n",
    "            prev = line\n",
    "            count = 1\n",
    "    names_freq[line] = count\n",
    "    names_freq_ord = {k:v for k, v in sorted(names_freq.items(), key=lambda item: item[1], reverse=True)}\n",
    "    for name, freq in names_freq_ord.items():\n",
    "        print(freq, name)"
   ]
  },
  {
   "cell_type": "code",
   "execution_count": 23,
   "id": "3b1f2648-f27f-4a99-aaa2-e3f9a3f68146",
   "metadata": {},
   "outputs": [
    {
     "name": "stdout",
     "output_type": "stream",
     "text": [
      " 118 James\n",
      " 111 William\n",
      " 108 Robert\n",
      " 108 John\n",
      "  92 Mary\n",
      "  75 Charles\n",
      "  74 Michael\n",
      "  73 Elizabeth\n",
      "  70 Joseph\n",
      "  60 Margaret\n",
      "  58 Thomas\n",
      "  58 George\n",
      "  57 David\n",
      "  51 Richard\n",
      "  45 Helen\n",
      "  43 Frank\n",
      "  43 Christopher\n",
      "  41 Anna\n",
      "  40 Edward\n",
      "  39 Ruth\n",
      "  38 Patricia\n",
      "  37 Matthew\n",
      "  36 Dorothy\n",
      "  35 Emma\n",
      "  32 Barbara\n",
      "  31 Joshua\n",
      "  31 Daniel\n",
      "  26 Sarah\n",
      "  26 Linda\n",
      "  26 Jennifer\n",
      "  26 Emily\n",
      "  25 Jessica\n",
      "  25 Jacob\n",
      "  24 Susan\n",
      "  24 Mildred\n",
      "  24 Betty\n",
      "  23 Henry\n",
      "  23 Ashley\n",
      "  22 Nancy\n",
      "  21 Andrew\n",
      "  20 Marie\n",
      "  20 Florence\n",
      "  20 Donald\n",
      "  20 Amanda\n",
      "  19 Samantha\n",
      "  18 Olivia\n",
      "  18 Melissa\n",
      "  18 Madison\n",
      "  18 Lisa\n",
      "  18 Karen\n",
      "  17 Stephanie\n",
      "  17 Abigail\n",
      "  16 Sandra\n",
      "  16 Mark\n",
      "  16 Ethel\n",
      "  15 Michelle\n",
      "  15 Isabella\n",
      "  15 Heather\n",
      "  15 Frances\n",
      "  15 Ethan\n",
      "  15 Carol\n",
      "  15 Angela\n",
      "  14 Shirley\n",
      "  14 Kimberly\n",
      "  14 Ava\n",
      "  14 Amy\n",
      "  13 Virginia\n",
      "  13 Sophia\n",
      "  13 Nicole\n",
      "  13 Jason\n",
      "  13 Hannah\n",
      "  13 Deborah\n",
      "  13 Brian\n",
      "  12 Minnie\n",
      "  12 Donna\n",
      "  12 Bertha\n",
      "  11 Cynthia\n",
      "  10 Ronald\n",
      "  10 Noah\n",
      "  10 Nicholas\n",
      "  10 Mia\n",
      "  10 Doris\n",
      "  10 Brittany\n",
      "  10 Alice\n",
      "   9 Tyler\n",
      "   9 Joan\n",
      "   9 Debra\n",
      "   8 Taylor\n",
      "   8 Mason\n",
      "   8 Judith\n",
      "   8 Ida\n",
      "   8 Clara\n",
      "   8 Alexis\n",
      "   8 Alexander\n",
      "   7 Tammy\n",
      "   7 Steven\n",
      "   7 Sharon\n",
      "   7 Liam\n",
      "   7 Harry\n",
      "   7 Brandon\n",
      "   6 Anthony\n",
      "   5 Jeffrey\n",
      "   5 Jayden\n",
      "   5 Gary\n",
      "   5 Charlotte\n",
      "   5 Annie\n",
      "   4 Lillian\n",
      "   4 Kathleen\n",
      "   4 Justin\n",
      "   4 Chloe\n",
      "   4 Benjamin\n",
      "   4 Austin\n",
      "   3 Megan\n",
      "   3 Harper\n",
      "   3 Evelyn\n",
      "   3 Elijah\n",
      "   3 Aiden\n",
      "   2 Rebecca\n",
      "   2 Oliver\n",
      "   2 Logan\n",
      "   2 Lauren\n",
      "   2 Larry\n",
      "   2 Bessie\n",
      "   2 Amelia\n",
      "   1 Walter\n",
      "   1 Tracy\n",
      "   1 Scott\n",
      "   1 Rachel\n",
      "   1 Pamela\n",
      "   1 Lucas\n",
      "   1 Lori\n",
      "   1 Laura\n",
      "   1 Kelly\n",
      "   1 Julie\n",
      "   1 Crystal\n",
      "   1 Carolyn\n"
     ]
    }
   ],
   "source": [
    "!cut -f 1 < popular-names.txt | sort | uniq -c | sort -nr"
   ]
  },
  {
   "cell_type": "code",
   "execution_count": null,
   "id": "25603ba0-85d4-415c-954e-f435eb26f550",
   "metadata": {},
   "outputs": [],
   "source": []
  }
 ],
 "metadata": {
  "kernelspec": {
   "display_name": "Python 3.9.7 ('base')",
   "language": "python",
   "name": "python3"
  },
  "language_info": {
   "codemirror_mode": {
    "name": "ipython",
    "version": 3
   },
   "file_extension": ".py",
   "mimetype": "text/x-python",
   "name": "python",
   "nbconvert_exporter": "python",
   "pygments_lexer": "ipython3",
   "version": "3.9.7"
  },
  "vscode": {
   "interpreter": {
    "hash": "2e4b3d5cc76d527871e757334873acbc48afe69102a5515277c9dd4fbf59a78e"
   }
  }
 },
 "nbformat": 4,
 "nbformat_minor": 5
}
