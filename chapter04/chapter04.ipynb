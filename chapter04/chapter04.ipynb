{
 "cells": [
  {
   "cell_type": "markdown",
   "id": "81e73e7c-6f55-45ef-b331-1534ad2554cb",
   "metadata": {},
   "source": [
    "## 第4章: 形態素解析"
   ]
  },
  {
   "cell_type": "markdown",
   "id": "f8ecf030-cc64-44b4-b806-c05075940937",
   "metadata": {},
   "source": [
    "neko.txt.mecab を用意する"
   ]
  },
  {
   "cell_type": "code",
   "execution_count": 1,
   "id": "d0cdc3c1-2426-43e2-8099-96e64cfcdf30",
   "metadata": {},
   "outputs": [],
   "source": [
    "import MeCab\n",
    "import re"
   ]
  },
  {
   "cell_type": "code",
   "execution_count": 2,
   "id": "269742b2-55d9-430a-a82f-743ebd62bc50",
   "metadata": {},
   "outputs": [],
   "source": [
    "m = MeCab.Tagger()\n",
    "with open(\"neko.txt\", \"r\") as f1, open(\"neko.txt.mecab\", \"w\") as f2:\n",
    "    content = f1.read()\n",
    "    f2.write(m.parse(content))"
   ]
  },
  {
   "cell_type": "code",
   "execution_count": 3,
   "id": "8edc9303-4b8b-4eec-b813-addc80eccbf1",
   "metadata": {},
   "outputs": [
    {
     "name": "stdout",
     "output_type": "stream",
     "text": [
      "一\tイチ\tイチ\t一\t名詞-数詞\t\t\t2\n",
      "　\t\t\t　\t空白\t\t\t\n",
      "吾輩\tワガハイ\tワガハイ\t我が輩\t代名詞\t\t\t0\n",
      "は\tワ\tハ\tは\t助詞-係助詞\t\t\t\n",
      "猫\tネコ\tネコ\t猫\t名詞-普通名詞-一般\t\t\t1\n",
      "で\tデ\tダ\tだ\t助動詞\t助動詞-ダ\t連用形-一般\t\n",
      "ある\tアル\tアル\t有る\t動詞-非自立可能\t五段-ラ行\t終止形-一般\t1\n",
      "。\t\t\t。\t補助記号-句点\t\t\t\n",
      "名前\tナマエ\tナマエ\t名前\t名詞-普通名詞-一般\t\t\t0\n",
      "は\tワ\tハ\tは\t助詞-係助詞\t\t\t\n",
      "まだ\tマダ\tマダ\t未だ\t副詞\t\t\t1\n",
      "無い\tナイ\tナイ\t無い\t形容詞-非自立可能\t形容詞\t終止形-一般\t1\n",
      "。\t\t\t。\t補助記号-句点\t\t\t\n",
      "　\t\t\t　\t空白\t\t\t\n",
      "どこ\tドコ\tドコ\t何処\t代名詞\t\t\t1\n",
      "で\tデ\tデ\tで\t助詞-格助詞\t\t\t\n",
      "生れ\tウマレ\tウマレル\t生まれる\t動詞-一般\t下一段-ラ行\t連用形-一般\t0\n",
      "た\tタ\tタ\tた\t助動詞\t助動詞-タ\t終止形-一般\t\n",
      "か\tカ\tカ\tか\t助詞-終助詞\t\t\t\n",
      "と\tト\tト\tと\t助詞-格助詞\t\t\t\n",
      "んと\tント\tウント\tうんと\t感動詞-フィラー\t\t\t0\n",
      "見当\tケントー\tケントウ\t見当\t名詞-普通名詞-一般\t\t\t3\n",
      "が\tガ\tガ\tが\t助詞-格助詞\t\t\t\n",
      "つか\tツカ\tツク\t付く\t動詞-非自立可能\t五段-カ行\t未然形-一般\t1,2\n",
      "ぬ\tヌ\tズ\tず\t助動詞\t助動詞-ヌ\t終止形-一般\t\n",
      "。\t\t\t。\t補助記号-句点\t\t\t\n",
      "何\tナン\tナニ\t何\t代名詞\t\t\t1\n",
      "で\tデ\tデ\tで\t助詞-格助詞\t\t\t\n",
      "も\tモ\tモ\tも\t助詞-係助詞\t\t\t\n",
      "薄暗い\tウスグライ\tウスグライ\t薄暗い\t形容詞-一般\t形容詞\t連体形-一般\t0,4\n",
      "じめじめ\tジメジメ\tジメジメ\tじめじめ\t副詞\t\t\t1\n",
      "し\tシ\tスル\t為る\t動詞-非自立可能\tサ行変格\t連用形-一般\t0\n",
      "た\tタ\tタ\tた\t助動詞\t助動詞-タ\t連体形-一般\t\n",
      "所\tトコロ\tトコロ\t所\t名詞-普通名詞-副詞可能\t\t\t3,0\n",
      "で\tデ\tデ\tで\t助詞-格助詞\t\t\t\n",
      "ニャーニャー\tニャーニャー\tニャアニャア\tにゃあにゃあ\t副詞\t\t\t1\n",
      "泣い\tナイ\tナク\t泣く\t動詞-一般\t五段-カ行\t連用形-イ音便\t0\n",
      "て\tテ\tテ\tて\t助詞-接続助詞\t\t\t\n",
      "い\tイ\tイル\t居る\t動詞-非自立可能\t上一段-ア行\t連用形-一般\t0\n",
      "た\tタ\tタ\tた\t助動詞\t助動詞-タ\t連体形-一般\t\n",
      "事\tコト\tコト\t事\t名詞-普通\n"
     ]
    }
   ],
   "source": [
    "with open(\"neko.txt.mecab\", \"r\") as f:\n",
    "    print(f.read()[:1000])"
   ]
  },
  {
   "cell_type": "markdown",
   "id": "7d72c78b-e523-4abc-9a4e-63604415033e",
   "metadata": {},
   "source": [
    "### 30. 形態素解析結果の読み込み\n",
    "形態素解析結果（neko.txt.mecab）を読み込むプログラムを実装せよ．ただし，各形態素は表層形（surface），基本形（base），品詞（pos），品詞細分類1（pos1）をキーとするマッピング型に格納し，1文を形態素（マッピング型）のリストとして表現せよ．第4章の残りの問題では，ここで作ったプログラムを活用せよ．"
   ]
  },
  {
   "cell_type": "code",
   "execution_count": 4,
   "id": "edd55b04-fb8b-4187-acbd-e9998d0dfd8b",
   "metadata": {},
   "outputs": [
    {
     "data": {
      "text/plain": [
       "[[{'surface': '一', 'base': '一', 'pos': '名詞', 'pos1': '数詞'},\n",
       "  {'surface': '\\u3000', 'base': '\\u3000', 'pos': '空白'},\n",
       "  {'surface': '吾輩', 'base': '我が輩', 'pos': '代名詞'},\n",
       "  {'surface': 'は', 'base': 'は', 'pos': '助詞', 'pos1': '係助詞'},\n",
       "  {'surface': '猫', 'base': '猫', 'pos': '名詞', 'pos1': '普通名詞'},\n",
       "  {'surface': 'で', 'base': 'だ', 'pos': '助動詞'},\n",
       "  {'surface': 'ある', 'base': '有る', 'pos': '動詞', 'pos1': '非自立可能'},\n",
       "  {'surface': '。', 'base': '。', 'pos': '補助記号', 'pos1': '句点'}],\n",
       " [{'surface': '名前', 'base': '名前', 'pos': '名詞', 'pos1': '普通名詞'},\n",
       "  {'surface': 'は', 'base': 'は', 'pos': '助詞', 'pos1': '係助詞'},\n",
       "  {'surface': 'まだ', 'base': '未だ', 'pos': '副詞'},\n",
       "  {'surface': '無い', 'base': '無い', 'pos': '形容詞', 'pos1': '非自立可能'},\n",
       "  {'surface': '。', 'base': '。', 'pos': '補助記号', 'pos1': '句点'}],\n",
       " [{'surface': '\\u3000', 'base': '\\u3000', 'pos': '空白'},\n",
       "  {'surface': 'どこ', 'base': '何処', 'pos': '代名詞'},\n",
       "  {'surface': 'で', 'base': 'で', 'pos': '助詞', 'pos1': '格助詞'},\n",
       "  {'surface': '生れ', 'base': '生まれる', 'pos': '動詞', 'pos1': '一般'},\n",
       "  {'surface': 'た', 'base': 'た', 'pos': '助動詞'},\n",
       "  {'surface': 'か', 'base': 'か', 'pos': '助詞', 'pos1': '終助詞'},\n",
       "  {'surface': 'と', 'base': 'と', 'pos': '助詞', 'pos1': '格助詞'},\n",
       "  {'surface': 'んと', 'base': 'うんと', 'pos': '感動詞', 'pos1': 'フィラー'},\n",
       "  {'surface': '見当', 'base': '見当', 'pos': '名詞', 'pos1': '普通名詞'},\n",
       "  {'surface': 'が', 'base': 'が', 'pos': '助詞', 'pos1': '格助詞'},\n",
       "  {'surface': 'つか', 'base': '付く', 'pos': '動詞', 'pos1': '非自立可能'},\n",
       "  {'surface': 'ぬ', 'base': 'ず', 'pos': '助動詞'},\n",
       "  {'surface': '。', 'base': '。', 'pos': '補助記号', 'pos1': '句点'}]]"
      ]
     },
     "execution_count": 4,
     "metadata": {},
     "output_type": "execute_result"
    }
   ],
   "source": [
    "with open(\"neko.txt.mecab\") as f:\n",
    "    lines = f.readlines()\n",
    "    content = []\n",
    "    sentence = []\n",
    "    for line in lines:\n",
    "        if line==\"EOS\\n\":\n",
    "            break\n",
    "        # make a dict of a morpheme(word)\n",
    "        morpheme = dict()\n",
    "        cols = re.split(r\"\\t\", line)\n",
    "        # print(len(cols))\n",
    "        morpheme[\"surface\"] = cols[0]\n",
    "        morpheme[\"base\"] = cols[3]\n",
    "        pos_list = re.split(r\"-\", cols[4])\n",
    "        morpheme[\"pos\"] = pos_list[0]\n",
    "        if len(pos_list)>1:\n",
    "            morpheme[\"pos1\"] = pos_list[1]\n",
    "        \n",
    "        # add the morpheme dict into current sentence's list\n",
    "        sentence.append(morpheme)\n",
    "        \n",
    "        # check whether it's the end of sentence\n",
    "        if morpheme[\"surface\"] == \"。\":\n",
    "            content.append(sentence)\n",
    "            sentence = []\n",
    "\n",
    "content[:3]"
   ]
  },
  {
   "cell_type": "markdown",
   "id": "3ff28099-3281-4693-b565-318ec9dd9a35",
   "metadata": {},
   "source": [
    "### 31. 動詞\n",
    "動詞の表層形をすべて抽出せよ．"
   ]
  },
  {
   "cell_type": "code",
   "execution_count": 5,
   "id": "a012477a-6378-4cb5-8517-f413904e9a62",
   "metadata": {},
   "outputs": [
    {
     "name": "stdout",
     "output_type": "stream",
     "text": [
      "29377\n",
      "4072\n"
     ]
    },
    {
     "data": {
      "text/plain": [
       "['あい',\n",
       " 'あがり',\n",
       " 'あがる',\n",
       " 'あき',\n",
       " 'あきらめ',\n",
       " 'あきらめる',\n",
       " 'あきれ',\n",
       " 'あきれ返っ',\n",
       " 'あく',\n",
       " 'あけ',\n",
       " 'あける',\n",
       " 'あげ',\n",
       " 'あこがれ',\n",
       " 'あしらっ',\n",
       " 'あずかり',\n",
       " 'あせっ',\n",
       " 'あせる',\n",
       " 'あたっ',\n",
       " 'あたら',\n",
       " 'あたる']"
      ]
     },
     "execution_count": 5,
     "metadata": {},
     "output_type": "execute_result"
    }
   ],
   "source": [
    "verbs = []\n",
    "for sentence in content:\n",
    "    for morpheme in sentence:\n",
    "        if morpheme[\"pos\"] == \"動詞\":\n",
    "            verbs.append(morpheme[\"surface\"])\n",
    "\n",
    "print(len(verbs))\n",
    "verbs = list(set(verbs)) # remove duplicates\n",
    "print(len(verbs))\n",
    "verbs.sort()\n",
    "verbs[:20]"
   ]
  },
  {
   "cell_type": "markdown",
   "id": "5fa77bb2-b91c-4ece-b266-89635c47b4eb",
   "metadata": {},
   "source": [
    "### 32. 動詞の基本形\n",
    "\n",
    "動詞の基本形をすべて抽出せよ．"
   ]
  },
  {
   "cell_type": "code",
   "execution_count": 6,
   "id": "28249fe2-7a2f-4b15-894d-c6e7d9d502e5",
   "metadata": {},
   "outputs": [
    {
     "name": "stdout",
     "output_type": "stream",
     "text": [
      "29377\n",
      "1787\n"
     ]
    },
    {
     "data": {
      "text/plain": [
       "['あしらう',\n",
       " 'あてがう',\n",
       " 'いらせられる',\n",
       " 'いらっしゃる',\n",
       " 'おひゃらかす',\n",
       " 'からかう',\n",
       " 'がたつく',\n",
       " 'ぎる',\n",
       " 'くっ付く',\n",
       " 'くっ付ける',\n",
       " 'こじる',\n",
       " 'こせつく',\n",
       " 'こびり付く',\n",
       " 'ごねる',\n",
       " 'ごまかす',\n",
       " 'ごろつく',\n",
       " 'さす',\n",
       " 'しくじる',\n",
       " 'しゃがむ',\n",
       " 'せしめる']"
      ]
     },
     "execution_count": 6,
     "metadata": {},
     "output_type": "execute_result"
    }
   ],
   "source": [
    "verbs_base = []\n",
    "for sentence in content:\n",
    "    for morpheme in sentence:\n",
    "        if morpheme[\"pos\"] == \"動詞\":\n",
    "            verbs_base.append(morpheme[\"base\"])\n",
    "\n",
    "print(len(verbs_base))\n",
    "verbs_base = list(set(verbs_base)) # remove duplicates\n",
    "print(len(verbs_base))\n",
    "verbs_base.sort()\n",
    "verbs_base[:20]"
   ]
  },
  {
   "cell_type": "markdown",
   "id": "7d78e3e9-ad76-4037-bfe4-ce444f4a6c71",
   "metadata": {},
   "source": [
    "### 33. 「AのB」\n",
    "\n",
    "2つの名詞が「の」で連結されている名詞句を抽出せよ．"
   ]
  },
  {
   "cell_type": "code",
   "execution_count": 7,
   "id": "665dca29-2abf-4b9f-b60a-3e58fb21f513",
   "metadata": {},
   "outputs": [
    {
     "name": "stdout",
     "output_type": "stream",
     "text": [
      "2368\n",
      "['掌の上', 'はずの顔', '顔の真中', '穴の中', '書生の掌', '藁の上', '池の前', '池の上', '一樹の蔭', '垣根の穴', '一刻の猶予', '家の内', '前の書生', 'おさんの隙', 'おさんの三', '家の主人', '主人の方', '鼻の下', '自分の住家', '家のもの', 'うちのもの', '本の上', '皮膚の色', '本の上', '以外のもの', '主人の傍', '経験の上', '例の神経', '自分の勝手', '台所の板の間', '親子の愛', '隣りの三毛', '目刺の頭', '軍人の家', '教師の家', '猫の時節', '胃弱の癖', '後架の中', '利の大家', '金縁の裏', '上乗の出来', '顔の造作', '主人の彩色', '一種の色', '身内の筋肉', '主人の予定', '座敷の中', '自己の力量', '人間の不徳', 'うちの小供']\n"
     ]
    }
   ],
   "source": [
    "NP = []\n",
    "for sentence in content:\n",
    "    surfaces = [m[\"surface\"] for m in sentence]\n",
    "    if \"の\" in surfaces:\n",
    "        i = surfaces.index(\"の\")\n",
    "        if sentence[i-1][\"pos\"] == \"名詞\" and sentence[i+1][\"pos\"] == \"名詞\":\n",
    "            NP.append(surfaces[i-1]+surfaces[i]+surfaces[i+1])\n",
    "        \n",
    "print(len(NP))\n",
    "print(NP[:50])"
   ]
  },
  {
   "cell_type": "markdown",
   "id": "e4f2bd01-e169-472c-928c-da0f57fcaf9f",
   "metadata": {},
   "source": [
    "### 34. 名詞の連接\n",
    "名詞の連接（連続して出現する名詞）を最長一致で抽出せよ．"
   ]
  },
  {
   "cell_type": "code",
   "execution_count": 8,
   "id": "96f14895-71e6-45eb-94ca-45c0e27736ab",
   "metadata": {},
   "outputs": [
    {
     "name": "stdout",
     "output_type": "stream",
     "text": [
      "9\n",
      "明治三十八年何月何日戸締り\n"
     ]
    }
   ],
   "source": [
    "longest_NP = \"\"\n",
    "longest = 0\n",
    "for sentence in content:\n",
    "    pos_list = [m[\"pos\"] for m in sentence]\n",
    "    NP = []\n",
    "    for i, pos in enumerate(pos_list):\n",
    "        if pos == \"名詞\":\n",
    "            NP.append(sentence[i][\"surface\"])\n",
    "        else:\n",
    "            if len(NP)>longest:\n",
    "                longest = len(NP)\n",
    "                longest_NP = \"\".join(NP)\n",
    "            NP = []\n",
    "\n",
    "print(longest)\n",
    "print(longest_NP)"
   ]
  },
  {
   "cell_type": "markdown",
   "id": "16a28385-2e1f-4962-8b82-33df0e3e47f0",
   "metadata": {},
   "source": [
    "### 35. 単語の出現頻度\n",
    "文章中に出現する単語とその出現頻度を求め，出現頻度の高い順に並べよ．"
   ]
  },
  {
   "cell_type": "code",
   "execution_count": 9,
   "id": "e0fd6340-1120-4b78-ad8c-ea9d98849cef",
   "metadata": {},
   "outputs": [
    {
     "data": {
      "text/plain": [
       "[['の', 9542],\n",
       " ['。', 7485],\n",
       " ['て', 7416],\n",
       " ['に', 7057],\n",
       " ['、', 6772],\n",
       " ['は', 6500],\n",
       " ['と', 6156],\n",
       " ['を', 6118],\n",
       " ['が', 5394],\n",
       " ['で', 4542],\n",
       " ['た', 3973],\n",
       " ['も', 3237],\n",
       " ['「', 3237],\n",
       " ['」', 3237],\n",
       " ['だ', 2704],\n",
       " ['し', 2527],\n",
       " ['ない', 2422],\n",
       " ['から', 2212],\n",
       " ['か', 2039],\n",
       " ['ある', 1729]]"
      ]
     },
     "execution_count": 9,
     "metadata": {},
     "output_type": "execute_result"
    }
   ],
   "source": [
    "word_freq = dict()\n",
    "for sentence in content:\n",
    "    for word in sentence:\n",
    "        if word[\"surface\"] in word_freq.keys():\n",
    "            word_freq[word[\"surface\"]] += 1\n",
    "        else:\n",
    "            word_freq[word[\"surface\"]] = 0\n",
    "            \n",
    "#sort\n",
    "word_freq_ord = [[k,v] for k,v in sorted(word_freq.items(), key=lambda item: item[1], reverse=True)]\n",
    "\n",
    "# check: print 20 most frequent words\n",
    "word_freq_ord[:20]"
   ]
  },
  {
   "cell_type": "markdown",
   "id": "bd4256d8-8b32-40c1-9227-1ea62f11ba15",
   "metadata": {},
   "source": [
    "### 36. 頻度上位10語\n",
    "出現頻度が高い10語とその出現頻度をグラフ（例えば棒グラフなど）で表示せよ．"
   ]
  },
  {
   "cell_type": "code",
   "execution_count": 10,
   "id": "3ba9e77d-ae5b-4394-951e-7aeed42628ff",
   "metadata": {},
   "outputs": [
    {
     "data": {
      "text/plain": [
       "Text(0.5, 1.0, '頻度上位10語')"
      ]
     },
     "execution_count": 10,
     "metadata": {},
     "output_type": "execute_result"
    },
    {
     "data": {
      "image/png": "[encoded data removed]",
      "text/plain": [
       "<Figure size 432x288 with 1 Axes>"
      ]
     },
     "metadata": {
      "needs_background": "light"
     },
     "output_type": "display_data"
    }
   ],
   "source": [
    "import matplotlib.pyplot as plt\n",
    "from matplotlib.font_manager import FontProperties\n",
    "\n",
    "fp = FontProperties(fname= '/System/Library/Fonts/ヒラギノ角ゴシック W2.ttc', size=14)\n",
    "x = range(10)\n",
    "y = [w[1] for w in word_freq_ord[:10]]\n",
    "plt.bar(x,y)\n",
    "plt.xticks(list(x), [w[0] for w in word_freq_ord[:10]], fontproperties=fp)\n",
    "plt.title(\"頻度上位10語\", fontproperties=fp)"
   ]
  },
  {
   "cell_type": "markdown",
   "id": "ffcbb622-81fc-4555-9d0f-ff6277ef3dfb",
   "metadata": {},
   "source": [
    "### 37. 「猫」と共起頻度の高い上位10語\n",
    "「猫」とよく共起する（共起頻度が高い）10語とその出現頻度をグラフ（例えば棒グラフなど）で表示せよ．"
   ]
  },
  {
   "cell_type": "code",
   "execution_count": 11,
   "id": "ff49950b-bf43-4728-86e6-91da49fb2252",
   "metadata": {},
   "outputs": [
    {
     "data": {
      "text/plain": [
       "Text(0.5, 1.0, '「猫」と供起頻度の高い上位10語')"
      ]
     },
     "execution_count": 11,
     "metadata": {},
     "output_type": "execute_result"
    },
    {
     "data": {
      "image/png": "[encoded data removed]",
      "text/plain": [
       "<Figure size 432x288 with 1 Axes>"
      ]
     },
     "metadata": {
      "needs_background": "light"
     },
     "output_type": "display_data"
    }
   ],
   "source": [
    "neko_cooccur = {key:0 for key in word_freq.keys()}\n",
    "for i, sentence in enumerate(content):\n",
    "    surfaces = [m[\"surface\"] for m in sentence]\n",
    "    if \"猫\" in surfaces:\n",
    "        index = surfaces.index(\"猫\")\n",
    "        if index == 0:\n",
    "            neko_cooccur[content[i-1][-1][\"surface\"]] += 1\n",
    "        else:\n",
    "            neko_cooccur[surfaces[index-1]] += 1\n",
    "                       \n",
    "        if index == len(surfaces)-1:\n",
    "            neko_cooccur[content[i+1][0][\"surface\"]] += 1\n",
    "        else:\n",
    "            neko_cooccur[surfaces[index+1]] += 1\n",
    "\n",
    "neko_cooccur_ord = [[k,v] for k,v in sorted(neko_cooccur.items(), key=lambda item: item[1], reverse=True)]\n",
    "plt.bar(range(10), [w[1] for w in neko_cooccur_ord[:10]])\n",
    "plt.xticks(range(10), [w[0] for w in neko_cooccur_ord[:10]], fontproperties=fp)\n",
    "plt.title(\"「猫」と供起頻度の高い上位10語\", fontproperties=fp)"
   ]
  },
  {
   "cell_type": "markdown",
   "id": "32ee7d4c-7928-4620-8f91-fd376fe3afcb",
   "metadata": {},
   "source": [
    "### 38. ヒストグラム\n",
    "単語の出現頻度のヒストグラムを描け．ただし，横軸は出現頻度を表し，1から単語の出現頻度の最大値までの線形目盛とする．縦軸はx軸で示される出現頻度となった単語の異なり数（種類数）である．"
   ]
  },
  {
   "cell_type": "code",
   "execution_count": 12,
   "id": "d768fa0a-a8db-4479-bbbb-6eeddfe5d4be",
   "metadata": {},
   "outputs": [
    {
     "data": {
      "image/png": "[encoded data removed]",
      "text/plain": [
       "<Figure size 432x288 with 1 Axes>"
      ]
     },
     "metadata": {
      "needs_background": "light"
     },
     "output_type": "display_data"
    }
   ],
   "source": [
    "X = [w[1] for w in word_freq_ord]\n",
    "plt.hist(X,500)\n",
    "plt.show()"
   ]
  },
  {
   "cell_type": "markdown",
   "id": "2644f8d3-a130-45b4-9e70-2d0420a24875",
   "metadata": {},
   "source": [
    "### 39. Zipfの法則\n",
    "単語の出現頻度順位を横軸，その出現頻度を縦軸として，両対数グラフをプロットせよ．"
   ]
  },
  {
   "cell_type": "code",
   "execution_count": 13,
   "id": "54ee9a38-2441-46e0-85eb-de173642b276",
   "metadata": {},
   "outputs": [
    {
     "data": {
      "image/png": "[encoded data removed]",
      "text/plain": [
       "<Figure size 432x288 with 1 Axes>"
      ]
     },
     "metadata": {
      "needs_background": "light"
     },
     "output_type": "display_data"
    }
   ],
   "source": [
    "y = [w[1] for w in word_freq_ord]\n",
    "plt.plot(range(len(word_freq_ord)), y)\n",
    "plt.xscale(\"log\")\n",
    "plt.yscale(\"log\")\n",
    "plt.show()"
   ]
  },
  {
   "cell_type": "code",
   "execution_count": null,
   "id": "bcf0d6a2-c748-4293-b796-8865074ac892",
   "metadata": {},
   "outputs": [],
   "source": []
  }
 ],
 "metadata": {
  "kernelspec": {
   "display_name": "Python 3.9.7 ('base')",
   "language": "python",
   "name": "python3"
  },
  "language_info": {
   "codemirror_mode": {
    "name": "ipython",
    "version": 3
   },
   "file_extension": ".py",
   "mimetype": "text/x-python",
   "name": "python",
   "nbconvert_exporter": "python",
   "pygments_lexer": "ipython3",
   "version": "3.9.7"
  },
  "vscode": {
   "interpreter": {
    "hash": "2e4b3d5cc76d527871e757334873acbc48afe69102a5515277c9dd4fbf59a78e"
   }
  }
 },
 "nbformat": 4,
 "nbformat_minor": 5
}
