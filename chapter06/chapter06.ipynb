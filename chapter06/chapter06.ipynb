{
 "cells": [
  {
   "cell_type": "markdown",
   "id": "7fd5bd83-80e5-4d4f-b56b-7719d516e29d",
   "metadata": {},
   "source": [
    "## 第6章: 機械学習\n",
    "本章では，Fabio Gasparetti氏が公開しているNews Aggregator Data Setを用い，ニュース記事の見出しを「ビジネス」「科学技術」「エンターテイメント」「健康」のカテゴリに分類するタスク（カテゴリ分類）に取り組む．"
   ]
  },
  {
   "cell_type": "markdown",
   "id": "ae2d76ca-57c1-42b2-8df4-cb78dd2fb3db",
   "metadata": {},
   "source": [
    "### 50. データの入手・整形\n",
    "News Aggregator Data Setをダウンロードし、以下の要領で学習データ（train.txt），検証データ（valid.txt），評価データ（test.txt）を作成せよ．\n",
    "\n",
    "1. ダウンロードしたzipファイルを解凍し，readme.txtの説明を読む．\n",
    "2. 情報源（publisher）が”Reuters”, “Huffington Post”, “Businessweek”, “Contactmusic.com”, “Daily Mail”の事例（記事）のみを抽出する．\n",
    "3. 抽出された事例をランダムに並び替える．\n",
    "4. 抽出された事例の80%を学習データ，残りの10%ずつを検証データと評価データに分割し，それぞれtrain.txt，valid.txt，test.txtというファイル名で保存する．ファイルには，１行に１事例を書き出すこととし，カテゴリ名と記事見出しのタブ区切り形式とせよ（このファイルは後に問題70で再利用する）．\n",
    "\n",
    "学習データと評価データを作成したら，各カテゴリの事例数を確認せよ．"
   ]
  },
  {
   "cell_type": "code",
   "execution_count": 1,
   "id": "bba48122-a860-4dde-bfb3-d12ba1f71e72",
   "metadata": {},
   "outputs": [],
   "source": [
    "import numpy as np\n",
    "import pandas as pd"
   ]
  },
  {
   "cell_type": "code",
   "execution_count": 2,
   "id": "be9d186d-215e-49e6-94e0-2e6c8896a66b",
   "metadata": {},
   "outputs": [
    {
     "data": {
      "text/html": [
       "<div>\n",
       "<style scoped>\n",
       "    .dataframe tbody tr th:only-of-type {\n",
       "        vertical-align: middle;\n",
       "    }\n",
       "\n",
       "    .dataframe tbody tr th {\n",
       "        vertical-align: top;\n",
       "    }\n",
       "\n",
       "    .dataframe thead th {\n",
       "        text-align: right;\n",
       "    }\n",
       "</style>\n",
       "<table border=\"1\" class=\"dataframe\">\n",
       "  <thead>\n",
       "    <tr style=\"text-align: right;\">\n",
       "      <th></th>\n",
       "      <th>id</th>\n",
       "      <th>title</th>\n",
       "      <th>url</th>\n",
       "      <th>publisher</th>\n",
       "      <th>category</th>\n",
       "      <th>story</th>\n",
       "      <th>hostname</th>\n",
       "      <th>timestamp</th>\n",
       "    </tr>\n",
       "  </thead>\n",
       "  <tbody>\n",
       "    <tr>\n",
       "      <th>12</th>\n",
       "      <td>13</td>\n",
       "      <td>Europe reaches crunch point on banking union</td>\n",
       "      <td>http://in.reuters.com/article/2014/03/10/eu-ba...</td>\n",
       "      <td>Reuters</td>\n",
       "      <td>b</td>\n",
       "      <td>dPhGU51DcrolUIMxbRm0InaHGA2XM</td>\n",
       "      <td>in.reuters.com</td>\n",
       "      <td>1394470501755</td>\n",
       "    </tr>\n",
       "    <tr>\n",
       "      <th>13</th>\n",
       "      <td>14</td>\n",
       "      <td>ECB FOCUS-Stronger euro drowns out ECB's messa...</td>\n",
       "      <td>http://in.reuters.com/article/2014/03/10/ecb-p...</td>\n",
       "      <td>Reuters</td>\n",
       "      <td>b</td>\n",
       "      <td>dPhGU51DcrolUIMxbRm0InaHGA2XM</td>\n",
       "      <td>in.reuters.com</td>\n",
       "      <td>1394470501948</td>\n",
       "    </tr>\n",
       "    <tr>\n",
       "      <th>19</th>\n",
       "      <td>20</td>\n",
       "      <td>Euro Anxieties Wane as Bunds Top Treasuries, S...</td>\n",
       "      <td>http://www.businessweek.com/news/2014-03-10/ge...</td>\n",
       "      <td>Businessweek</td>\n",
       "      <td>b</td>\n",
       "      <td>dPhGU51DcrolUIMxbRm0InaHGA2XM</td>\n",
       "      <td>www.businessweek.com</td>\n",
       "      <td>1394470503148</td>\n",
       "    </tr>\n",
       "    <tr>\n",
       "      <th>20</th>\n",
       "      <td>21</td>\n",
       "      <td>Noyer Says Strong Euro Creates Unwarranted Eco...</td>\n",
       "      <td>http://www.businessweek.com/news/2014-03-10/no...</td>\n",
       "      <td>Businessweek</td>\n",
       "      <td>b</td>\n",
       "      <td>dPhGU51DcrolUIMxbRm0InaHGA2XM</td>\n",
       "      <td>www.businessweek.com</td>\n",
       "      <td>1394470503366</td>\n",
       "    </tr>\n",
       "    <tr>\n",
       "      <th>29</th>\n",
       "      <td>30</td>\n",
       "      <td>REFILE-Bad loan triggers key feature in ECB ba...</td>\n",
       "      <td>http://in.reuters.com/article/2014/03/10/euroz...</td>\n",
       "      <td>Reuters</td>\n",
       "      <td>b</td>\n",
       "      <td>dPhGU51DcrolUIMxbRm0InaHGA2XM</td>\n",
       "      <td>in.reuters.com</td>\n",
       "      <td>1394470505070</td>\n",
       "    </tr>\n",
       "  </tbody>\n",
       "</table>\n",
       "</div>"
      ],
      "text/plain": [
       "    id                                              title  \\\n",
       "12  13       Europe reaches crunch point on banking union   \n",
       "13  14  ECB FOCUS-Stronger euro drowns out ECB's messa...   \n",
       "19  20  Euro Anxieties Wane as Bunds Top Treasuries, S...   \n",
       "20  21  Noyer Says Strong Euro Creates Unwarranted Eco...   \n",
       "29  30  REFILE-Bad loan triggers key feature in ECB ba...   \n",
       "\n",
       "                                                  url     publisher category  \\\n",
       "12  http://in.reuters.com/article/2014/03/10/eu-ba...       Reuters        b   \n",
       "13  http://in.reuters.com/article/2014/03/10/ecb-p...       Reuters        b   \n",
       "19  http://www.businessweek.com/news/2014-03-10/ge...  Businessweek        b   \n",
       "20  http://www.businessweek.com/news/2014-03-10/no...  Businessweek        b   \n",
       "29  http://in.reuters.com/article/2014/03/10/euroz...       Reuters        b   \n",
       "\n",
       "                            story              hostname      timestamp  \n",
       "12  dPhGU51DcrolUIMxbRm0InaHGA2XM        in.reuters.com  1394470501755  \n",
       "13  dPhGU51DcrolUIMxbRm0InaHGA2XM        in.reuters.com  1394470501948  \n",
       "19  dPhGU51DcrolUIMxbRm0InaHGA2XM  www.businessweek.com  1394470503148  \n",
       "20  dPhGU51DcrolUIMxbRm0InaHGA2XM  www.businessweek.com  1394470503366  \n",
       "29  dPhGU51DcrolUIMxbRm0InaHGA2XM        in.reuters.com  1394470505070  "
      ]
     },
     "execution_count": 2,
     "metadata": {},
     "output_type": "execute_result"
    }
   ],
   "source": [
    "df_raw = pd.read_csv(\"newsCorpora.csv\", sep=\"\\t\", names=['id','title','url','publisher','category','story','hostname','timestamp'])\n",
    "\n",
    "# 2.\n",
    "pub_list = [\"Reuters\", \"Huffington Post\", \"Businessweek\", \"Contactmusic.com\", \"Daily Mail\"]\n",
    "df = df_raw[df_raw[\"publisher\"].isin(pub_list)]\n",
    "df.head()"
   ]
  },
  {
   "cell_type": "code",
   "execution_count": 3,
   "id": "bfef1ce5-d39f-4da5-b315-0002dcf2a78f",
   "metadata": {
    "tags": []
   },
   "outputs": [],
   "source": [
    "# 3., 4.\n",
    "train, valid, test = np.split(df.sample(frac=1, random_state=42), [int(0.8*len(df)), int(0.9*len(df))])\n",
    "train[[\"category\", \"title\"]].to_csv(\"train.txt\", sep=\"\\t\", index=False)\n",
    "valid[[\"category\", \"title\"]].to_csv(\"valid.txt\", sep=\"\\t\", index=False)\n",
    "test[[\"category\", \"title\"]].to_csv(\"test.txt\", sep=\"\\t\", index=False)"
   ]
  },
  {
   "cell_type": "code",
   "execution_count": 4,
   "id": "e22094a2-1d60-4bee-8b5a-112bc560c186",
   "metadata": {},
   "outputs": [
    {
     "name": "stdout",
     "output_type": "stream",
     "text": [
      "b    4530\n",
      "e    4178\n",
      "t    1225\n",
      "m     739\n",
      "Name: category, dtype: int64\n",
      "e    560\n",
      "b    539\n",
      "t    144\n",
      "m     91\n",
      "Name: category, dtype: int64\n",
      "b    558\n",
      "e    541\n",
      "t    155\n",
      "m     80\n",
      "Name: category, dtype: int64\n"
     ]
    }
   ],
   "source": [
    "# 各カテゴリの事例数を確認\n",
    "print(train[\"category\"].value_counts())\n",
    "print(valid[\"category\"].value_counts())\n",
    "print(test[\"category\"].value_counts())"
   ]
  },
  {
   "cell_type": "markdown",
   "id": "ab4545b4-f394-4804-bebf-d338d2df0ed6",
   "metadata": {},
   "source": [
    "### 51. 特徴量抽出\n",
    "学習データ，検証データ，評価データから特徴量を抽出し，それぞれtrain.feature.txt，valid.feature.txt，test.feature.txtというファイル名で保存せよ． なお，カテゴリ分類に有用そうな特徴量は各自で自由に設計せよ．記事の見出しを単語列に変換したものが最低限のベースラインとなるであろう．"
   ]
  },
  {
   "cell_type": "code",
   "execution_count": 5,
   "id": "f48f22c1-6f1e-44f5-857a-e6e7173a57cc",
   "metadata": {},
   "outputs": [],
   "source": [
    "# tf-idf\n",
    "from sklearn.feature_extraction.text import TfidfVectorizer\n",
    "\n",
    "# vectorize\n",
    "vectorizer = TfidfVectorizer()\n",
    "X_train = vectorizer.fit_transform(train[\"title\"])\n",
    "X_valid = vectorizer.transform(valid[\"title\"])\n",
    "X_test = vectorizer.transform(test[\"title\"])"
   ]
  },
  {
   "cell_type": "code",
   "execution_count": 6,
   "id": "09f58b4d-41c4-4b66-afbc-a77b9b1fb06c",
   "metadata": {},
   "outputs": [],
   "source": [
    "# save files\n",
    "columns = vectorizer.get_feature_names_out()\n",
    "train_feat = pd.DataFrame(X_train.toarray(), columns=columns)\n",
    "valid_feat = pd.DataFrame(X_valid.toarray(), columns=columns)\n",
    "test_feat = pd.DataFrame(X_test.toarray(), columns=columns)\n",
    "\n",
    "train_feat.to_csv(\"train.feature.txt\", sep=\"\\t\", index=False)\n",
    "valid_feat.to_csv(\"valid.feature.txt\", sep=\"\\t\", index=False)\n",
    "test_feat.to_csv(\"test.feature.txt\", sep=\"\\t\", index=False)"
   ]
  },
  {
   "cell_type": "markdown",
   "id": "1419201f-c3a0-49ff-9848-2aa1c21804a2",
   "metadata": {},
   "source": [
    "### 52. 学習\n",
    "51で構築した学習データを用いて，ロジスティック回帰モデルを学習せよ．"
   ]
  },
  {
   "cell_type": "code",
   "execution_count": 7,
   "id": "5135068c-6534-4d38-8c61-8fb132790542",
   "metadata": {},
   "outputs": [
    {
     "data": {
      "text/html": [
       "<style>#sk-container-id-1 {color: black;background-color: white;}#sk-container-id-1 pre{padding: 0;}#sk-container-id-1 div.sk-toggleable {background-color: white;}#sk-container-id-1 label.sk-toggleable__label {cursor: pointer;display: block;width: 100%;margin-bottom: 0;padding: 0.3em;box-sizing: border-box;text-align: center;}#sk-container-id-1 label.sk-toggleable__label-arrow:before {content: \"▸\";float: left;margin-right: 0.25em;color: #696969;}#sk-container-id-1 label.sk-toggleable__label-arrow:hover:before {color: black;}#sk-container-id-1 div.sk-estimator:hover label.sk-toggleable__label-arrow:before {color: black;}#sk-container-id-1 div.sk-toggleable__content {max-height: 0;max-width: 0;overflow: hidden;text-align: left;background-color: #f0f8ff;}#sk-container-id-1 div.sk-toggleable__content pre {margin: 0.2em;color: black;border-radius: 0.25em;background-color: #f0f8ff;}#sk-container-id-1 input.sk-toggleable__control:checked~div.sk-toggleable__content {max-height: 200px;max-width: 100%;overflow: auto;}#sk-container-id-1 input.sk-toggleable__control:checked~label.sk-toggleable__label-arrow:before {content: \"▾\";}#sk-container-id-1 div.sk-estimator input.sk-toggleable__control:checked~label.sk-toggleable__label {background-color: #d4ebff;}#sk-container-id-1 div.sk-label input.sk-toggleable__control:checked~label.sk-toggleable__label {background-color: #d4ebff;}#sk-container-id-1 input.sk-hidden--visually {border: 0;clip: rect(1px 1px 1px 1px);clip: rect(1px, 1px, 1px, 1px);height: 1px;margin: -1px;overflow: hidden;padding: 0;position: absolute;width: 1px;}#sk-container-id-1 div.sk-estimator {font-family: monospace;background-color: #f0f8ff;border: 1px dotted black;border-radius: 0.25em;box-sizing: border-box;margin-bottom: 0.5em;}#sk-container-id-1 div.sk-estimator:hover {background-color: #d4ebff;}#sk-container-id-1 div.sk-parallel-item::after {content: \"\";width: 100%;border-bottom: 1px solid gray;flex-grow: 1;}#sk-container-id-1 div.sk-label:hover label.sk-toggleable__label {background-color: #d4ebff;}#sk-container-id-1 div.sk-serial::before {content: \"\";position: absolute;border-left: 1px solid gray;box-sizing: border-box;top: 0;bottom: 0;left: 50%;z-index: 0;}#sk-container-id-1 div.sk-serial {display: flex;flex-direction: column;align-items: center;background-color: white;padding-right: 0.2em;padding-left: 0.2em;position: relative;}#sk-container-id-1 div.sk-item {position: relative;z-index: 1;}#sk-container-id-1 div.sk-parallel {display: flex;align-items: stretch;justify-content: center;background-color: white;position: relative;}#sk-container-id-1 div.sk-item::before, #sk-container-id-1 div.sk-parallel-item::before {content: \"\";position: absolute;border-left: 1px solid gray;box-sizing: border-box;top: 0;bottom: 0;left: 50%;z-index: -1;}#sk-container-id-1 div.sk-parallel-item {display: flex;flex-direction: column;z-index: 1;position: relative;background-color: white;}#sk-container-id-1 div.sk-parallel-item:first-child::after {align-self: flex-end;width: 50%;}#sk-container-id-1 div.sk-parallel-item:last-child::after {align-self: flex-start;width: 50%;}#sk-container-id-1 div.sk-parallel-item:only-child::after {width: 0;}#sk-container-id-1 div.sk-dashed-wrapped {border: 1px dashed gray;margin: 0 0.4em 0.5em 0.4em;box-sizing: border-box;padding-bottom: 0.4em;background-color: white;}#sk-container-id-1 div.sk-label label {font-family: monospace;font-weight: bold;display: inline-block;line-height: 1.2em;}#sk-container-id-1 div.sk-label-container {text-align: center;}#sk-container-id-1 div.sk-container {/* jupyter's `normalize.less` sets `[hidden] { display: none; }` but bootstrap.min.css set `[hidden] { display: none !important; }` so we also need the `!important` here to be able to override the default hidden behavior on the sphinx rendered scikit-learn.org. See: https://github.com/scikit-learn/scikit-learn/issues/21755 */display: inline-block !important;position: relative;}#sk-container-id-1 div.sk-text-repr-fallback {display: none;}</style><div id=\"sk-container-id-1\" class=\"sk-top-container\"><div class=\"sk-text-repr-fallback\"><pre>LogisticRegression(max_iter=500, random_state=42)</pre><b>In a Jupyter environment, please rerun this cell to show the HTML representation or trust the notebook. <br />On GitHub, the HTML representation is unable to render, please try loading this page with nbviewer.org.</b></div><div class=\"sk-container\" hidden><div class=\"sk-item\"><div class=\"sk-estimator sk-toggleable\"><input class=\"sk-toggleable__control sk-hidden--visually\" id=\"sk-estimator-id-1\" type=\"checkbox\" checked><label for=\"sk-estimator-id-1\" class=\"sk-toggleable__label sk-toggleable__label-arrow\">LogisticRegression</label><div class=\"sk-toggleable__content\"><pre>LogisticRegression(max_iter=500, random_state=42)</pre></div></div></div></div></div>"
      ],
      "text/plain": [
       "LogisticRegression(max_iter=500, random_state=42)"
      ]
     },
     "execution_count": 7,
     "metadata": {},
     "output_type": "execute_result"
    }
   ],
   "source": [
    "from sklearn.linear_model import LogisticRegression\n",
    "\n",
    "model = LogisticRegression(random_state=42, max_iter=500)\n",
    "model.fit(train_feat, train[\"category\"])"
   ]
  },
  {
   "cell_type": "markdown",
   "id": "602aa21d-839c-4af9-b884-81f51624763a",
   "metadata": {},
   "source": [
    "### 53. 予測\n",
    "52で学習したロジスティック回帰モデルを用い，与えられた記事見出しからカテゴリとその予測確率を計算するプログラムを実装せよ．"
   ]
  },
  {
   "cell_type": "code",
   "execution_count": 8,
   "id": "3e80bbc4-1faa-4c4d-adb4-52803ef7f57c",
   "metadata": {},
   "outputs": [],
   "source": [
    "Y_train = model.predict(train_feat)\n",
    "proba_train = model.predict_proba(train_feat)\n",
    "Y_valid = model.predict(valid_feat)\n",
    "proba_valid = model.predict_proba(valid_feat)\n",
    "Y_test = model.predict(test_feat)\n",
    "proba_test = model.predict_proba(test_feat)"
   ]
  },
  {
   "cell_type": "code",
   "execution_count": 9,
   "id": "5809b2b6-64da-47fa-b5d6-2985886e30c9",
   "metadata": {},
   "outputs": [
    {
     "name": "stdout",
     "output_type": "stream",
     "text": [
      "['e' 'e' 'b' ... 'b' 't' 'b']\n",
      "[[0.26367688 0.54214256 0.07528668 0.11889387]\n",
      " [0.00987383 0.98351177 0.00341373 0.00320067]\n",
      " [0.95583354 0.02118243 0.00817798 0.01480605]\n",
      " ...\n",
      " [0.85839164 0.06735064 0.03146091 0.04279681]\n",
      " [0.18981717 0.04190752 0.02567741 0.7425979 ]\n",
      " [0.97680933 0.0094332  0.00552706 0.00823041]]\n"
     ]
    }
   ],
   "source": [
    "print(Y_valid)\n",
    "print(proba_valid)"
   ]
  },
  {
   "cell_type": "markdown",
   "id": "991c060a-8b4c-4838-970b-1adec5ddf145",
   "metadata": {},
   "source": [
    "### 54. 正解率の計測\n",
    "52で学習したロジスティック回帰モデルの正解率を，学習データおよび評価データ上で計測せよ．"
   ]
  },
  {
   "cell_type": "code",
   "execution_count": 10,
   "id": "321c9a9c-f76a-4330-8f99-d131d1b28aa8",
   "metadata": {},
   "outputs": [
    {
     "data": {
      "text/plain": [
       "(0.9438718140929535, 0.8920539730134932)"
      ]
     },
     "execution_count": 10,
     "metadata": {},
     "output_type": "execute_result"
    }
   ],
   "source": [
    "from sklearn.metrics import accuracy_score\n",
    "\n",
    "acc_train = accuracy_score(Y_train, train[\"category\"])\n",
    "acc_valid = accuracy_score(Y_valid, valid[\"category\"]) # or: model.score(valid_feat, valid[\"category\"])\n",
    "\n",
    "acc_train, acc_valid"
   ]
  },
  {
   "cell_type": "markdown",
   "id": "4772ad02-e666-4d10-9f93-c56c35b444ad",
   "metadata": {},
   "source": [
    "### 55. 混同行列の作成\n",
    "52で学習したロジスティック回帰モデルの混同行列（confusion matrix）を，学習データおよび評価データ上で作成せよ．"
   ]
  },
  {
   "cell_type": "code",
   "execution_count": 11,
   "id": "4e9d4302-bb86-4d61-b4c1-700135ae89ac",
   "metadata": {},
   "outputs": [
    {
     "name": "stdout",
     "output_type": "stream",
     "text": [
      "[[0.94504792 0.00468584 0.01810437 0.03216187]\n",
      " [0.01259559 0.93387314 0.02699055 0.02654071]\n",
      " [0.01119403 0.         0.9869403  0.00186567]\n",
      " [0.03115578 0.0040201  0.00502513 0.95979899]] [[0.88737201 0.02389078 0.01877133 0.06996587]\n",
      " [0.01809211 0.89473684 0.03618421 0.05098684]\n",
      " [0.         0.         0.96551724 0.03448276]\n",
      " [0.09756098 0.02439024 0.02439024 0.85365854]]\n"
     ]
    },
    {
     "data": {
      "text/plain": [
       "<sklearn.metrics._plot.confusion_matrix.ConfusionMatrixDisplay at 0x13a114d90>"
      ]
     },
     "execution_count": 11,
     "metadata": {},
     "output_type": "execute_result"
    },
    {
     "data": {
      "image/png": "[encoded data removed]",
      "text/plain": [
       "<Figure size 432x288 with 2 Axes>"
      ]
     },
     "metadata": {
      "needs_background": "light"
     },
     "output_type": "display_data"
    },
    {
     "data": {
      "image/png": "[encoded data removed]",
      "text/plain": [
       "<Figure size 432x288 with 2 Axes>"
      ]
     },
     "metadata": {
      "needs_background": "light"
     },
     "output_type": "display_data"
    }
   ],
   "source": [
    "from sklearn.metrics import confusion_matrix, ConfusionMatrixDisplay\n",
    "\n",
    "cm_train = confusion_matrix(Y_train, train[\"category\"], normalize=\"true\")\n",
    "cm_valid = confusion_matrix(Y_valid, valid[\"category\"], normalize=\"true\")\n",
    "print(cm_train, cm_valid)\n",
    "\n",
    "disp_train = ConfusionMatrixDisplay(confusion_matrix=cm_train, display_labels=model.classes_)\n",
    "disp_train.plot()\n",
    "\n",
    "disp_valid = ConfusionMatrixDisplay(confusion_matrix=cm_valid, display_labels=model.classes_)\n",
    "disp_valid.plot()"
   ]
  },
  {
   "cell_type": "markdown",
   "id": "67915e95-0e8f-44dc-ae2f-dced9577c1ef",
   "metadata": {},
   "source": [
    "### 56. 適合率，再現率，F1スコアの計測\n",
    "52で学習したロジスティック回帰モデルの適合率，再現率，F1スコアを，評価データ上で計測せよ．カテゴリごとに適合率，再現率，F1スコアを求め，カテゴリごとの性能をマイクロ平均（micro-average）とマクロ平均（macro-average）で統合せよ．"
   ]
  },
  {
   "cell_type": "code",
   "execution_count": 12,
   "id": "841f5060-4c45-4fca-a7a8-a7db1c9b2587",
   "metadata": {},
   "outputs": [
    {
     "name": "stdout",
     "output_type": "stream",
     "text": [
      "\t\tPrecision\t\tRecall\t\tF-1\n",
      "macro-avg:(0.7594184585256014, 0.9003211584304541, 0.8067745431642946, None)\n",
      "micro-avg:(0.8920539730134932, 0.8920539730134932, 0.8920539730134932, None)\n",
      "\n",
      "class:['b' 'e' 'm' 't']\n"
     ]
    },
    {
     "data": {
      "text/plain": [
       "(array([0.96474954, 0.97142857, 0.61538462, 0.48611111]),\n",
       " array([0.88737201, 0.89473684, 0.96551724, 0.85365854]),\n",
       " array([0.92444444, 0.93150685, 0.75167785, 0.61946903]),\n",
       " array([586, 608,  58,  82]))"
      ]
     },
     "execution_count": 12,
     "metadata": {},
     "output_type": "execute_result"
    }
   ],
   "source": [
    "from sklearn.metrics import precision_recall_fscore_support as prfs\n",
    "\n",
    "prf_by_class = prfs(Y_valid, valid[\"category\"], average=None, labels=model.classes_)\n",
    "prf_macro = prfs(Y_valid, valid[\"category\"], average=\"macro\", labels=model.classes_)\n",
    "prf_micro = prfs(Y_valid, valid[\"category\"], average=\"micro\", labels=model.classes_)\n",
    "\n",
    "# 配列で適合率、再現率、f1の順で値が格納される\n",
    "print(\"\\t\\tPrecision\\t\\tRecall\\t\\tF-1\")\n",
    "print(f\"macro-avg:{prf_macro}\")\n",
    "print(f\"micro-avg:{prf_micro}\")\n",
    "\n",
    "# それぞれ適合率、再現率、f1（、出現頻度）の配列\n",
    "print(f\"\\nclass:{model.classes_}\")\n",
    "prf_by_class"
   ]
  },
  {
   "cell_type": "markdown",
   "id": "f2792ecb-c1e9-4b8c-b3e5-dcb75f8535f5",
   "metadata": {},
   "source": [
    "### 57. 特徴量の重みの確認\n",
    "52で学習したロジスティック回帰モデルの中で，重みの高い特徴量トップ10と，重みの低い特徴量トップ10を確認せよ．"
   ]
  },
  {
   "cell_type": "code",
   "execution_count": 21,
   "id": "06397e87-523a-4bd6-b8fd-b273a23ae1fa",
   "metadata": {},
   "outputs": [
    {
     "name": "stdout",
     "output_type": "stream",
     "text": [
      "class: b\n",
      "- 高10: ['china' 'fed' 'bank' 'stocks' 'ecb' 'euro' 'update' 'ukraine' 'oil']\n",
      "- 低10: ['and' 'ebola' 'the' 'her' 'she' 'apple' 'google' 'facebook' 'kardashian'\n",
      " 'star']\n",
      "class: e\n",
      "- 高10: ['kardashian' 'chris' 'her' 'she' 'star' 'kim' 'miley' 'cyrus' 'movie']\n",
      "- 低10: ['update' 'us' 'google' 'ceo' 'china' 'says' 'facebook' 'gm' 'apple'\n",
      " 'study']\n",
      "class: m\n",
      "- 高10: ['ebola' 'study' 'cancer' 'fda' 'drug' 'mers' 'health' 'cigarettes'\n",
      " 'cases']\n",
      "- 低10: ['gm' 'google' 'facebook' 'apple' 'climate' 'ceo' 'twitter' 'deal' 'bank'\n",
      " 'sales']\n",
      "class: t\n",
      "- 高10: ['google' 'apple' 'facebook' 'microsoft' 'climate' 'gm' 'tesla' 'comcast'\n",
      " 'mobile']\n",
      "- 低10: ['stocks' 'shares' 'fed' 'drug' 'her' 'american' 'cancer' 'kardashian'\n",
      " 'ecb' 'ebola']\n"
     ]
    }
   ],
   "source": [
    "for i in range(len(model.classes_)):\n",
    "    print(f\"class: {model.classes_[i]}\")\n",
    "    print(f\"- 高10: {model.feature_names_in_[np.argsort(model.coef_[i])[-1:-10:-1]]}\")\n",
    "    print(f\"- 低10: {model.feature_names_in_[np.argsort(model.coef_[i])[:10]]}\")"
   ]
  },
  {
   "cell_type": "markdown",
   "id": "c646d8c8-d711-49b0-b8c7-40402cd1c286",
   "metadata": {},
   "source": [
    "### 58. 正則化パラメータの変更\n",
    "ロジスティック回帰モデルを学習するとき，正則化パラメータを調整することで，学習時の過学習（overfitting）の度合いを制御できる．異なる正則化パラメータでロジスティック回帰モデルを学習し，学習データ，検証データ，および評価データ上の正解率を求めよ．実験の結果は，正則化パラメータを横軸，正解率を縦軸としたグラフにまとめよ．"
   ]
  },
  {
   "cell_type": "code",
   "execution_count": 29,
   "id": "b67e540c-07dc-4c00-900a-81e1f6b24293",
   "metadata": {},
   "outputs": [],
   "source": [
    "import matplotlib.pyplot as plt\n",
    "\n",
    "# default c = 1.0\n",
    "c_list = [0.01, 0.05, 0.10, 0.50, 1.0, 5.0, 10.0, 50.0, 100.0, 500.0]\n",
    "train_acc = []\n",
    "test_acc = []\n",
    "valid_acc = []\n",
    "for c in c_list:\n",
    "    # train model\n",
    "    tmp_model = LogisticRegression(random_state=42, max_iter=500, C=c)\n",
    "    tmp_model.fit(train_feat, train[\"category\"])\n",
    "    \n",
    "    # determine accuracy(正解率)\n",
    "    train_acc.append( tmp_model.score(train_feat, train[\"category\"]) )\n",
    "    test_acc.append( tmp_model.score(test_feat, test[\"category\"]) )\n",
    "    valid_acc.append( tmp_model.score(valid_feat, valid[\"category\"]) )"
   ]
  },
  {
   "cell_type": "code",
   "execution_count": 32,
   "id": "a4f856dd-69aa-4a12-ae88-7df8fdeb17ef",
   "metadata": {},
   "outputs": [
    {
     "data": {
      "image/png": "[encoded data removed]",
      "text/plain": [
       "<Figure size 432x288 with 1 Axes>"
      ]
     },
     "metadata": {
      "needs_background": "light"
     },
     "output_type": "display_data"
    }
   ],
   "source": [
    "plt.plot(c_list, train_acc, label=\"train\")\n",
    "plt.plot(c_list, test_acc, label=\"test\")\n",
    "plt.plot(c_list, valid_acc, label=\"valid\")\n",
    "plt.xlabel(\"C\")\n",
    "plt.ylabel(\"accuracy\")\n",
    "plt.xscale('log')\n",
    "plt.legend()\n",
    "plt.show()"
   ]
  },
  {
   "cell_type": "markdown",
   "id": "3e2f7bec-5dd7-46b2-a06a-8e3915177a88",
   "metadata": {},
   "source": [
    "### 59. ハイパーパラメータの探索\n",
    "学習アルゴリズムや学習パラメータを変えながら，カテゴリ分類モデルを学習せよ．検証データ上の正解率が最も高くなる学習アルゴリズム・パラメータを求めよ．また，その学習アルゴリズム・パラメータを用いたときの評価データ上の正解率を求めよ．"
   ]
  },
  {
   "cell_type": "code",
   "execution_count": 42,
   "id": "7fae0b8a-bb60-433f-9dff-156af2e1159a",
   "metadata": {},
   "outputs": [
    {
     "name": "stdout",
     "output_type": "stream",
     "text": [
      "acc = 0.9265367316341829, C = 100.0\n"
     ]
    }
   ],
   "source": [
    "# max_iter = 500 + find argmax C (regularization)\n",
    "# lbfgs, l2\n",
    "print(f\"acc = {max(valid_acc)}, C = {c_list[valid_acc.index(max(valid_acc))]}\")"
   ]
  },
  {
   "cell_type": "code",
   "execution_count": 43,
   "id": "1d0f773b-9387-4ddb-8f81-925053bf95ad",
   "metadata": {},
   "outputs": [
    {
     "name": "stderr",
     "output_type": "stream",
     "text": [
      "/Users/panatchakorn-a/Library/Python/3.8/lib/python/site-packages/sklearn/linear_model/_sag.py:350: ConvergenceWarning: The max_iter was reached which means the coef_ did not converge\n",
      "  warnings.warn(\n"
     ]
    }
   ],
   "source": [
    "# default c = 1.0\n",
    "c_list = [0.10, 1.0, 10.0, 100.0, 500.0]\n",
    "\n",
    "# assume: max_iter = 500 + find argmax C (regularization)\n",
    "# saga, l2\n",
    "train_acc_saga_l2 = []\n",
    "test_acc_saga_l2 = []\n",
    "valid_acc_saga_l2 = []\n",
    "for c in c_list:\n",
    "    # train model\n",
    "    tmp_model = LogisticRegression(random_state=42, max_iter=500, solver=\"saga\", C=c)\n",
    "    tmp_model.fit(train_feat, train[\"category\"])\n",
    "    \n",
    "    # determine accuracy(正解率)\n",
    "    train_acc_saga_l2.append( tmp_model.score(train_feat, train[\"category\"]) )\n",
    "    test_acc_saga_l2.append( tmp_model.score(test_feat, test[\"category\"]) )\n",
    "    valid_acc_saga_l2.append( tmp_model.score(valid_feat, valid[\"category\"]) )"
   ]
  },
  {
   "cell_type": "code",
   "execution_count": 47,
   "id": "a1f49aa7-78ba-4462-93a9-e8f0365b9622",
   "metadata": {},
   "outputs": [
    {
     "name": "stdout",
     "output_type": "stream",
     "text": [
      "acc = 0.9265367316341829, C = 100.0\n"
     ]
    }
   ],
   "source": [
    "print(f\"acc = {max(valid_acc_saga_l2)}, C = {c_list[valid_acc_saga_l2.index(max(valid_acc_saga_l2))]}\")"
   ]
  },
  {
   "cell_type": "code",
   "execution_count": 52,
   "id": "312304f7-2514-4ad3-9653-498fe945e016",
   "metadata": {},
   "outputs": [
    {
     "name": "stderr",
     "output_type": "stream",
     "text": [
      "/Users/panatchakorn-a/Library/Python/3.8/lib/python/site-packages/sklearn/linear_model/_sag.py:350: ConvergenceWarning: The max_iter was reached which means the coef_ did not converge\n",
      "  warnings.warn(\n",
      "/Users/panatchakorn-a/Library/Python/3.8/lib/python/site-packages/sklearn/linear_model/_sag.py:350: ConvergenceWarning: The max_iter was reached which means the coef_ did not converge\n",
      "  warnings.warn(\n",
      "/Users/panatchakorn-a/Library/Python/3.8/lib/python/site-packages/sklearn/linear_model/_sag.py:350: ConvergenceWarning: The max_iter was reached which means the coef_ did not converge\n",
      "  warnings.warn(\n",
      "/Users/panatchakorn-a/Library/Python/3.8/lib/python/site-packages/sklearn/linear_model/_sag.py:350: ConvergenceWarning: The max_iter was reached which means the coef_ did not converge\n",
      "  warnings.warn(\n"
     ]
    }
   ],
   "source": [
    "# saga, l1\n",
    "c_list_3 = [1, 10, 100, 500]\n",
    "train_acc_saga_l1 = []\n",
    "test_acc_saga_l1 = []\n",
    "valid_acc_saga_l1 = []\n",
    "for c in c_list:\n",
    "    # train model\n",
    "    tmp_model = LogisticRegression(random_state=42, max_iter=500, solver=\"saga\", penalty=\"l1\", C=c)\n",
    "    tmp_model.fit(train_feat, train[\"category\"])\n",
    "    \n",
    "    # determine accuracy(正解率)\n",
    "    train_acc_saga_l1.append( tmp_model.score(train_feat, train[\"category\"]) )\n",
    "    test_acc_saga_l1.append( tmp_model.score(test_feat, test[\"category\"]) )\n",
    "    valid_acc_saga_l1.append( tmp_model.score(valid_feat, valid[\"category\"]) )"
   ]
  },
  {
   "cell_type": "code",
   "execution_count": 54,
   "id": "86152130-9784-4259-9bf1-9ede0304d87c",
   "metadata": {},
   "outputs": [
    {
     "name": "stdout",
     "output_type": "stream",
     "text": [
      "acc = 0.9250374812593704, C = 100.0\n"
     ]
    }
   ],
   "source": [
    "print(f\"acc = {max(valid_acc_saga_l1)}, C = {c_list[valid_acc_saga_l2.index(max(valid_acc_saga_l2))]}\")"
   ]
  },
  {
   "cell_type": "markdown",
   "id": "d1fd389b-553b-4ac9-855d-9da531e9afbb",
   "metadata": {},
   "source": [
    "note: L1 の収束がより遅かった。"
   ]
  }
 ],
 "metadata": {
  "kernelspec": {
   "display_name": "Python 3 (ipykernel)",
   "language": "python",
   "name": "python3"
  },
  "language_info": {
   "codemirror_mode": {
    "name": "ipython",
    "version": 3
   },
   "file_extension": ".py",
   "mimetype": "text/x-python",
   "name": "python",
   "nbconvert_exporter": "python",
   "pygments_lexer": "ipython3",
   "version": "3.8.9"
  }
 },
 "nbformat": 4,
 "nbformat_minor": 5
}
